{
 "cells": [
  {
   "cell_type": "markdown",
   "metadata": {
    "collapsed": true,
    "pycharm": {
     "name": "#%% md\n"
    }
   },
   "source": [
    "# Συμβολοσειρές (Strings)\n",
    "\n",
    "## Δεικτοδότηση (Indexing)\n",
    "Μπορούμε να σκεφτούμε τις συμβολοσειρές ως διανύσματα γραμμής όπου σε κάθε θέση\n",
    "του διανύσματος υπάρχει ένας χαρακτήρας. Ως διάνυσμα μπορούμε να αναφερθούμε σε\n",
    "μία θέση του μέσω ενός *δείκτη*. Συγκεκριμένα η Python χρησιμοποιεί **δύο\n",
    "δείκτες**. Ο πρώτος μετράει από την αρχή προς το τέλος του διανύσματος, ενώ ο\n",
    "δεύτερος από το τέλος προς την αρχή, όπως φαίνεται στον παρακάτω πίνακα.\n",
    "\n",
    "<style type=\"text/css\">\n",
    ".tg  {border-collapse:collapse;border-spacing:0;}\n",
    ".tg td{font-family:Arial, sans-serif;font-size:14px;padding:10px 5px;border-style:solid;border-width:1px;overflow:hidden;word-break:normal;border-color:black;}\n",
    ".tg th{font-family:Arial, sans-serif;font-size:14px;font-weight:normal;padding:10px 5px;border-style:solid;border-width:1px;overflow:hidden;word-break:normal;border-color:black;}\n",
    ".tg .tg-cly1{text-align:left;vertical-align:middle}\n",
    "</style>\n",
    "<table class=\"tg\">\n",
    "  <tr>\n",
    "    <td class=\"tg-cly1\">\"Θετικός\" Δείκτης:</td>\n",
    "    <td class=\"tg-cly1\">0</td> <td class=\"tg-cly1\">1</td> <td class=\"tg-cly1\">2</td> <td class=\"tg-cly1\">3</td> <td class=\"tg-cly1\">4</td> <td class=\"tg-cly1\">5</td>\n",
    "  </tr>\n",
    "  <tr>\n",
    "    <td class=\"tg-cly1\">Συμβολοσειρά:</td>\n",
    "    <td class=\"tg-cly1\">P</td> <td class=\"tg-cly1\">Y</td> <td class=\"tg-cly1\">T</td> <td class=\"tg-cly1\">H</td> <td class=\"tg-cly1\">O</td> <td class=\"tg-cly1\">N</td>\n",
    "  </tr>\n",
    "  <tr>\n",
    "    <td class=\"tg-cly1\">\"Αρνητικός\" Δείκτης:</td>\n",
    "    <td class=\"tg-cly1\">-6</td> <td class=\"tg-cly1\">-5</td> <td class=\"tg-cly1\">-4</td> <td class=\"tg-cly1\">-3</td> <td class=\"tg-cly1\">-2</td> <td class=\"tg-cly1\">-1</td>\n",
    "  </tr>\n",
    "</table>\n",
    "\n",
    "Μπορούμε, λοιπόν, να χρησιμοποιήσουμε τους δείκτες για να αναφερθούμε σε\n",
    "συγκεκριμένους χαρακτήρες της συμβολοσειράς. Για παράδειγμα:"
   ]
  },
  {
   "cell_type": "code",
   "execution_count": 1,
   "metadata": {
    "pycharm": {
     "name": "#%%\n"
    }
   },
   "outputs": [
    {
     "name": "stdout",
     "output_type": "stream",
     "text": [
      "P\n",
      "P\n",
      "T\n",
      "T\n",
      "N\n",
      "N\n"
     ]
    }
   ],
   "source": [
    "word = 'PYTHON'\n",
    "print(word[0])\n",
    "print(word[-6])\n",
    "print(word[2])\n",
    "print(word[-4])\n",
    "print(word[5])\n",
    "print(word[-1])"
   ]
  },
  {
   "cell_type": "markdown",
   "metadata": {
    "pycharm": {
     "name": "#%% md\n"
    }
   },
   "source": [
    "**Παρατηρήσεις:**\n",
    "- Η προσπέλαση κάποιου χαρακτήρα στη συμβολοσειρά γίνεται χρησιμοποιώντας έναν\n",
    "από τους δύο δείκτες μέσα σε αγκύλες.\n",
    "- Ο θετικός δείκτης ξεκινάει από τη θέση *μηδέν* στην οποία\n",
    "βρίσκεται ο πρώτος χαρακτήρας.\n",
    "- Στον θετικό δείκτη, η τελευταία θέση είναι κατά ένα λιγότερο από το πλήθος των\n",
    "χαρακτήρων της συμβολοσειράς.\n",
    "- Στον αρνητικό δείκτη η θέση -1 είναι *η πρώτη από το τέλος* που ταυτίζεται\n",
    "με τον τελευταίο χαρακτήρα.\n",
    "- Η μικρότερη θέση του αρνητικού δείκτη είναι ίση με το μήκος της συμβολοσειράς\n",
    "αλλά με αρνητικό πρόσημο.\n",
    "- Αν ζητηθεί μία θέση μεγαλύτερη από το πλήθος των χαρακτήρων, τότε έχουμε\n",
    "σφάλμα [IndexError](https://docs.python.org/3.6/library/exceptions.html#IndexError)."
   ]
  },
  {
   "cell_type": "code",
   "execution_count": 2,
   "outputs": [
    {
     "ename": "IndexError",
     "evalue": "string index out of range",
     "output_type": "error",
     "traceback": [
      "\u001B[0;31m---------------------------------------------------------------------------\u001B[0m",
      "\u001B[0;31mIndexError\u001B[0m                                Traceback (most recent call last)",
      "\u001B[0;32m<ipython-input-2-d22120179223>\u001B[0m in \u001B[0;36m<module>\u001B[0;34m\u001B[0m\n\u001B[0;32m----> 1\u001B[0;31m \u001B[0mprint\u001B[0m\u001B[0;34m(\u001B[0m\u001B[0mword\u001B[0m\u001B[0;34m[\u001B[0m\u001B[0;36m10\u001B[0m\u001B[0;34m]\u001B[0m\u001B[0;34m)\u001B[0m\u001B[0;34m\u001B[0m\u001B[0;34m\u001B[0m\u001B[0m\n\u001B[0m",
      "\u001B[0;31mIndexError\u001B[0m: string index out of range"
     ]
    }
   ],
   "source": [
    "print(word[10])"
   ],
   "metadata": {
    "collapsed": false,
    "pycharm": {
     "name": "#%%\n"
    }
   }
  },
  {
   "cell_type": "code",
   "execution_count": 3,
   "outputs": [
    {
     "ename": "IndexError",
     "evalue": "string index out of range",
     "output_type": "error",
     "traceback": [
      "\u001B[0;31m---------------------------------------------------------------------------\u001B[0m",
      "\u001B[0;31mIndexError\u001B[0m                                Traceback (most recent call last)",
      "\u001B[0;32m<ipython-input-3-198fb7e0ffa5>\u001B[0m in \u001B[0;36m<module>\u001B[0;34m\u001B[0m\n\u001B[0;32m----> 1\u001B[0;31m \u001B[0mprint\u001B[0m\u001B[0;34m(\u001B[0m\u001B[0mword\u001B[0m\u001B[0;34m[\u001B[0m\u001B[0;34m-\u001B[0m\u001B[0;36m10\u001B[0m\u001B[0;34m]\u001B[0m\u001B[0;34m)\u001B[0m\u001B[0;34m\u001B[0m\u001B[0;34m\u001B[0m\u001B[0m\n\u001B[0m",
      "\u001B[0;31mIndexError\u001B[0m: string index out of range"
     ]
    }
   ],
   "source": [
    "print(word[-10])"
   ],
   "metadata": {
    "collapsed": false,
    "pycharm": {
     "name": "#%%\n"
    }
   }
  },
  {
   "cell_type": "markdown",
   "source": [
    "## Τεμαχισμός (Slicing)\n",
    "\n",
    "Ως *τεμαχισμό* αναφερόμαστε στη διαδικασία επιλογής ενός τμήματος της\n",
    "συμβολοσειράς. Η επιλογή γίνεται αναφέροντας την πρώτη και την τελευταία θέση\n",
    "των χαρακτήρων της συμβολοσειράς και το βήμα. Οι αριθμοί μπαίνουν μέσα σε\n",
    "αγκύλες και διαχωρίζονται με το χαρακτήρα της άνω κάτω τελείας:\n",
    "`[αρχή:τέλος:βήμα]`\n",
    "\n",
    "Για παράδειγμα, επιλέγουμε τους τρεις πρώτους χαρακτήρες γράφοντας:"
   ],
   "metadata": {
    "collapsed": false,
    "pycharm": {
     "name": "#%% md\n"
    }
   }
  },
  {
   "cell_type": "code",
   "execution_count": 4,
   "metadata": {
    "pycharm": {
     "name": "#%%\n"
    }
   },
   "outputs": [
    {
     "name": "stdout",
     "output_type": "stream",
     "text": [
      "PYT\n"
     ]
    }
   ],
   "source": [
    "print(word[0:3:1])"
   ]
  },
  {
   "cell_type": "markdown",
   "metadata": {
    "pycharm": {
     "name": "#%% md\n"
    }
   },
   "source": [
    "**Παρατηρήσεις:**\n",
    "- Όταν δεν δίνεται το `βήμα`, τότε εννοείται το ένα. Επίσης μπορούμε να\n",
    "παραλείψουμε την άνω κάτω τελεία που προηγείται από το `βήμα`."
   ]
  },
  {
   "cell_type": "code",
   "execution_count": 5,
   "outputs": [
    {
     "name": "stdout",
     "output_type": "stream",
     "text": [
      "PYT\n",
      "PYT\n"
     ]
    }
   ],
   "source": [
    "print(word[0:3:])\n",
    "print(word[0:3])  # Παράλειψη της : πριν το `βήμα`."
   ],
   "metadata": {
    "collapsed": false,
    "pycharm": {
     "name": "#%%\n"
    }
   }
  },
  {
   "cell_type": "markdown",
   "source": [
    "- Όταν δεν δίνεται η `αρχή`, τότε εννοείται το μηδέν. *Προσοχή*, η άνω κάτω\n",
    "τελεία είναι απαραίτητη. Αν δεν μπει, θα εμφανιστεί απλά ο χαρακτήρας στη θέση\n",
    "`αρχή`."
   ],
   "metadata": {
    "collapsed": false,
    "pycharm": {
     "name": "#%% md\n"
    }
   }
  },
  {
   "cell_type": "code",
   "execution_count": 6,
   "metadata": {
    "pycharm": {
     "name": "#%%\n"
    }
   },
   "outputs": [
    {
     "name": "stdout",
     "output_type": "stream",
     "text": [
      "PYT\n",
      "PYTH\n"
     ]
    }
   ],
   "source": [
    "print(word[:3])\n",
    "print(word[:-2])"
   ]
  },
  {
   "cell_type": "markdown",
   "metadata": {},
   "source": [
    "- Όταν δεν δίνεται το `τέλος`, τότε θα εμφανιστούν οι χαρακτήρες από την `αρχή`\n",
    "μέχρι και τον τελευταίο.\n"
   ]
  },
  {
   "cell_type": "code",
   "execution_count": 7,
   "metadata": {
    "pycharm": {
     "name": "#%%\n"
    }
   },
   "outputs": [
    {
     "name": "stdout",
     "output_type": "stream",
     "text": [
      "HON\n",
      "ON\n"
     ]
    }
   ],
   "source": [
    "print(word[3:])\n",
    "print(word[-2:])"
   ]
  },
  {
   "cell_type": "markdown",
   "metadata": {},
   "source": [
    "- Ο χαρακτήρας στη θέση `τέλος` **δεν** εμφανίζεται.\n",
    "\n",
    "Πρακτικά, θα εμφανιστούν `τέλος - αρχή` χαρακτήρες ξεκινώντας από την `αρχή`.\n",
    "Έτσι, για το τμήμα `[2:5]` θα εμφανίσει `5-2=3` χαρακτήρες ξεκινώντας από τη\n",
    "θέση `2`.\n",
    "Το ίδιο ισχύει και για τον αρνητικό δείκτη, δηλαδή για το τμήμα `[-5:-1]` θα\n",
    "εμφανιστούν `-1-(-5)=4` χαρακτήρες ξεκινώντας από τη θέση `-5`."
   ]
  },
  {
   "cell_type": "code",
   "execution_count": 8,
   "metadata": {
    "pycharm": {
     "name": "#%%\n"
    }
   },
   "outputs": [
    {
     "name": "stdout",
     "output_type": "stream",
     "text": [
      "THO\n",
      "YTHO\n"
     ]
    }
   ],
   "source": [
    "print(word[2:5])\n",
    "print(word[-5:-1])"
   ]
  },
  {
   "cell_type": "markdown",
   "source": [
    "- Αν `αρχή >= τέλος`, τότε δεν εμφανίζεται τίποτα."
   ],
   "metadata": {
    "collapsed": false,
    "pycharm": {
     "name": "#%% md\n"
    }
   }
  },
  {
   "cell_type": "code",
   "execution_count": 9,
   "outputs": [
    {
     "name": "stdout",
     "output_type": "stream",
     "text": [
      "\n",
      "\n",
      "\n",
      "\n"
     ]
    }
   ],
   "source": [
    "print(word[3:1])  # `αρχή` > `τέλος`\n",
    "print(word[1:1])  # `αρχή` == `τέλος`\n",
    "print(word[-1:-3])  # `αρχή` > `τέλος`\n",
    "print(word[-2:-2])  # `αρχή` == `τέλος`"
   ],
   "metadata": {
    "collapsed": false,
    "pycharm": {
     "name": "#%%\n"
    }
   }
  },
  {
   "cell_type": "markdown",
   "source": [
    "- Αν ο αριθμός που βάλουμε στο `τέλος` ξεπερνάει το όριο της συμβολοσειράς, τότε\n",
    "θα εμφανιστούν οι χαρακτήρες μέχρι την `αρχή` μέχρι τον τελευταίο."
   ],
   "metadata": {
    "collapsed": false,
    "pycharm": {
     "name": "#%% md\n"
    }
   }
  },
  {
   "cell_type": "code",
   "execution_count": 10,
   "outputs": [
    {
     "name": "stdout",
     "output_type": "stream",
     "text": [
      "HON\n"
     ]
    }
   ],
   "source": [
    "print(word[3:10])"
   ],
   "metadata": {
    "collapsed": false,
    "pycharm": {
     "name": "#%%\n"
    }
   }
  },
  {
   "cell_type": "markdown",
   "source": [
    "- Αν ο αριθμός που βάλουμε στην `αρχή` είναι πριν το όριο της συμβολοσειράς,\n",
    "τότε θα εμφανιστούν οι χαρακτήρες από τον πρώτο μέχρι το `τέλος`."
   ],
   "metadata": {
    "collapsed": false,
    "pycharm": {
     "name": "#%% md\n"
    }
   }
  },
  {
   "cell_type": "code",
   "execution_count": 11,
   "outputs": [
    {
     "name": "stdout",
     "output_type": "stream",
     "text": [
      "PYTH\n"
     ]
    }
   ],
   "source": [
    "print(word[-10:-2])"
   ],
   "metadata": {
    "collapsed": false,
    "pycharm": {
     "name": "#%%\n"
    }
   }
  },
  {
   "cell_type": "markdown",
   "source": [
    "- Μπορούμε να χρησιμοποιήσουμε τόσο θετικούς όσο και αρνητικούς αριθμούς για\n",
    "την `αρχή` και το `τέλος`."
   ],
   "metadata": {
    "collapsed": false
   }
  },
  {
   "cell_type": "code",
   "execution_count": 12,
   "outputs": [
    {
     "name": "stdout",
     "output_type": "stream",
     "text": [
      "YTHO\n",
      "YTHO\n"
     ]
    }
   ],
   "source": [
    "print(word[1:-1])\n",
    "print(word[-5:5])"
   ],
   "metadata": {
    "collapsed": false,
    "pycharm": {
     "name": "#%%\n"
    }
   }
  },
  {
   "cell_type": "markdown",
   "source": [
    "- Αν το `βήμα` είναι διαφορετικό από το `1`, τότε ο τεμαχισμός ξεκινάει από\n",
    "την `αρχή` και παραλείπει `abs(βήμα)-1` χαρακτήρες μέχρι τον επόμενο που θα επιλέξει.\n",
    "\n",
    "Για να επιλέξουμε τους χαρακτήρες που είναι στις θέσεις `0, 2, 4`, γράφουμε:"
   ],
   "metadata": {
    "collapsed": false
   }
  },
  {
   "cell_type": "code",
   "execution_count": 13,
   "outputs": [
    {
     "name": "stdout",
     "output_type": "stream",
     "text": [
      "PTO\n",
      "PTO\n",
      "PTO\n"
     ]
    }
   ],
   "source": [
    "print(word[0:5:2])\n",
    "print(word[0::2])  # Μπορούμε να παραλείψουμε το `τέλος`\n",
    "print(word[::2])  # ή ακόμη και την `αρχή`."
   ],
   "metadata": {
    "collapsed": false,
    "pycharm": {
     "name": "#%%\n"
    }
   }
  },
  {
   "cell_type": "markdown",
   "source": [
    "Με αρνητικούς δείκτες, για τις ίδιες θέσεις γράφουμε:"
   ],
   "metadata": {
    "collapsed": false
   }
  },
  {
   "cell_type": "code",
   "execution_count": 14,
   "outputs": [
    {
     "name": "stdout",
     "output_type": "stream",
     "text": [
      "PTO\n",
      "PTO\n",
      "PTO\n"
     ]
    }
   ],
   "source": [
    "print(word[-6:-1:2])\n",
    "print(word[-6::2])  # Μπορούμε να παραλείψουμε το `τέλος`\n",
    "print(word[::2])   # ή ακόμη και την `αρχή`."
   ],
   "metadata": {
    "collapsed": false,
    "pycharm": {
     "name": "#%%\n"
    }
   }
  },
  {
   "cell_type": "markdown",
   "source": [
    "- Αν χρησιμοποιούμε αρνητικό `βήμα`, τότε εμφανίζονται οι χαρακτήρες από δεξιά\n",
    "προς τα αριστερά.\n",
    "\n",
    "Για να αντιστρέψουμε τη συμβολοσειρά γράφουμε:"
   ],
   "metadata": {
    "collapsed": false,
    "pycharm": {
     "name": "#%% md\n"
    }
   }
  },
  {
   "cell_type": "code",
   "execution_count": 15,
   "outputs": [
    {
     "name": "stdout",
     "output_type": "stream",
     "text": [
      "NOHTYP\n",
      "NOHTY\n",
      "NOHTYP\n"
     ]
    }
   ],
   "source": [
    "print(word[5::-1]) # Παραλείπουμε το τέλος γιατί διαφορετικά δε θα εμφανιστεί.\n",
    "print(word[5:0:-1])  # Εδώ βάλαμε το τέλος. Προσέξτε τη διαφορά!\n",
    "print(word[::-1])  # Μπορούμε να παραλείψουμε και την `αρχή`!"
   ],
   "metadata": {
    "collapsed": false,
    "pycharm": {
     "name": "#%%\n"
    }
   }
  },
  {
   "cell_type": "markdown",
   "source": [
    "Για να εμφανίσουμε τους χαρακτήρες στις θέσεις `4, 2, 0` γράφουμε:"
   ],
   "metadata": {
    "collapsed": false,
    "pycharm": {
     "name": "#%% md\n"
    }
   }
  },
  {
   "cell_type": "code",
   "execution_count": 16,
   "outputs": [
    {
     "name": "stdout",
     "output_type": "stream",
     "text": [
      "NHY\n"
     ]
    }
   ],
   "source": [
    "print(word[-1::-2])"
   ],
   "metadata": {
    "collapsed": false,
    "pycharm": {
     "name": "#%%\n"
    }
   }
  },
  {
   "cell_type": "markdown",
   "source": [
    "- Αν παραλείψουμε την `αρχή`, το `τέλος` και το `βήμα`, τότε εμφανίζεται\n",
    "ολόκληρη η συμβολοσειρά.\n",
    "\n",
    "Οι παρακάτω εντολές είναι ισοδύναμες."
   ],
   "metadata": {
    "collapsed": false,
    "pycharm": {
     "name": "#%% md\n"
    }
   }
  },
  {
   "cell_type": "code",
   "execution_count": 17,
   "outputs": [
    {
     "name": "stdout",
     "output_type": "stream",
     "text": [
      "PYTHON\n",
      "PYTHON\n",
      "PYTHON\n"
     ]
    }
   ],
   "source": [
    "print(word[::])\n",
    "print(word[:])\n",
    "print(word)"
   ],
   "metadata": {
    "collapsed": false,
    "pycharm": {
     "name": "#%%\n"
    }
   }
  }
 ],
 "metadata": {
  "kernelspec": {
   "display_name": "Python 3",
   "language": "python",
   "name": "python3"
  },
  "language_info": {
   "codemirror_mode": {
    "name": "ipython",
    "version": 3
   },
   "file_extension": ".py",
   "mimetype": "text/x-python",
   "name": "python",
   "nbconvert_exporter": "python",
   "pygments_lexer": "ipython3",
   "version": "3.6.9"
  },
  "latex_envs": {
   "LaTeX_envs_menu_present": true,
   "autoclose": true,
   "autocomplete": true,
   "bibliofile": "refs.bib",
   "cite_by": "apalike",
   "current_citInitial": 1,
   "eqLabelWithNumbers": true,
   "eqNumInitial": 1,
   "hotkeys": {
    "equation": "Ctrl-E",
    "itemize": "Ctrl-I"
   },
   "labels_anchors": false,
   "latex_user_defs": false,
   "report_style_numbering": false,
   "user_envs_cfg": false
  }
 },
 "nbformat": 4,
 "nbformat_minor": 1
}
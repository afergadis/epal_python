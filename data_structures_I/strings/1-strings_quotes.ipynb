{
 "cells": [
  {
   "cell_type": "markdown",
   "metadata": {
    "collapsed": true,
    "pycharm": {
     "name": "#%% md\n"
    }
   },
   "source": [
    "# Συμβολοσειρές (Strings)\n",
    "\n",
    "## Εισαγωγικά (Quotes)\n",
    "Οι συμβολοσειρές στην Python γράφονται μέσα σε μονά ή διπλά εισαγωγικά."
   ]
  },
  {
   "cell_type": "code",
   "source": [
    "print('Προγραμματισμός Υπολογιστών')\n",
    "print(\"με Python\")"
   ],
   "metadata": {
    "collapsed": false,
    "pycharm": {
     "name": "#%%\n"
    }
   },
   "execution_count": 1,
   "outputs": [
    {
     "name": "stdout",
     "output_type": "stream",
     "text": [
      "Προγραμματισμός Υπολογιστών\n",
      "με Python\n"
     ]
    }
   ]
  },
  {
   "cell_type": "markdown",
   "source": [
    "Επιλέξτε ποια από τις δύο επιλογές σας εξυπηρετεί και κρατήστε ένα συνεπή τρόπο\n",
    "γραφής. Προσέξτε όμως τα εξής:\n",
    "\n",
    "- Εισαγωγικά που ανοίγουν, πρέπει να κλείνουν. Διαφορετικά έχουμε\n",
    "[SyntaxError](https://docs.python.org/3.6/library/exceptions.html#SyntaxError)."
   ],
   "metadata": {
    "collapsed": false,
    "pycharm": {
     "name": "#%% md\n"
    }
   }
  },
  {
   "cell_type": "code",
   "execution_count": 2,
   "outputs": [
    {
     "ename": "SyntaxError",
     "evalue": "EOL while scanning string literal (<ipython-input-2-d031b5c52ec0>, line 1)",
     "output_type": "error",
     "traceback": [
      "\u001B[0;36m  File \u001B[0;32m\"<ipython-input-2-d031b5c52ec0>\"\u001B[0;36m, line \u001B[0;32m1\u001B[0m\n\u001B[0;31m    print('Προγραμματισμός)\u001B[0m\n\u001B[0m                           ^\u001B[0m\n\u001B[0;31mSyntaxError\u001B[0m\u001B[0;31m:\u001B[0m EOL while scanning string literal\n"
     ]
    }
   ],
   "source": [
    "print('Προγραμματισμός)"
   ],
   "metadata": {
    "collapsed": false,
    "pycharm": {
     "name": "#%%\n"
    }
   }
  },
  {
   "cell_type": "markdown",
   "source": [
    "- Με όποιο εισαγωγικό ανοίξει η συμβολοσειρά, μ' αυτό θα πρέπει να κλείσει.\n",
    "Διαφορετικά έχουμε [SyntaxError](https://docs.python.org/3.6/library/exceptions.html#SyntaxError)."
   ],
   "metadata": {
    "collapsed": false,
    "pycharm": {
     "name": "#%% md\n"
    }
   }
  },
  {
   "cell_type": "code",
   "execution_count": 3,
   "outputs": [
    {
     "ename": "SyntaxError",
     "evalue": "EOL while scanning string literal (<ipython-input-3-74afc8011263>, line 1)",
     "output_type": "error",
     "traceback": [
      "\u001B[0;36m  File \u001B[0;32m\"<ipython-input-3-74afc8011263>\"\u001B[0;36m, line \u001B[0;32m1\u001B[0m\n\u001B[0;31m    print(\"Υπολογιστών')\u001B[0m\n\u001B[0m                        ^\u001B[0m\n\u001B[0;31mSyntaxError\u001B[0m\u001B[0;31m:\u001B[0m EOL while scanning string literal\n"
     ]
    }
   ],
   "source": [
    "print(\"Υπολογιστών')"
   ],
   "metadata": {
    "collapsed": false,
    "pycharm": {
     "name": "#%%\n"
    }
   }
  },
  {
   "cell_type": "markdown",
   "source": [
    "## Χαρακτήρας Διαφυγής (Escape Character)\n",
    "\n",
    "Αν η συμβολοσειρά που θέλουμε να εμφανίσουμε περιέχει μονό ή διπλό εισαγωγικό,\n",
    "τότε βολεύει να ανοίξουμε και να κλείσουμε με τον άλλο τύπο.\n",
    "\n",
    "Αν θέλουμε οπωσδήποτε να χρησιμοποιήσουμε τα ίδια εισαγωγικά, τότε όσα\n",
    "βρίσκονται ανάμεσα στο πρώτο και το τελευταίο, θα πρέπει να γράφονται με τον\n",
    "χαρακτήρα διαφυγής `\\` μπροστά τους."
   ],
   "metadata": {
    "collapsed": false,
    "pycharm": {
     "name": "#%% md\n"
    }
   }
  },
  {
   "cell_type": "code",
   "execution_count": 4,
   "outputs": [
    {
     "name": "stdout",
     "output_type": "stream",
     "text": [
      "Η καλή μέρα απ' το πρωί φαίνεται!\n",
      "Η καλή μέρα απ' το πρωί φαίνεται!\n"
     ]
    }
   ],
   "source": [
    "print(\"Η καλή μέρα απ' το πρωί φαίνεται!\")\n",
    "print('Η καλή μέρα απ\\' το πρωί φαίνεται!')  # Με χαρακτήρα διαφυγής."
   ],
   "metadata": {
    "collapsed": false,
    "pycharm": {
     "name": "#%%\n"
    }
   }
  },
  {
   "cell_type": "markdown",
   "source": [
    "Στο προηγούμενο παράδειγμα έχουμε απόστροφο που τη γράφουμε με μονό εισαγωγικό.\n",
    "Γι' αυτό επιλέξαμε να βάλουμε τη συμβολοσειρά σε διπλά εισαγωγικά. Στο επόμενο\n",
    "παράδειγμα θέλουμε να εμφανίσουμε συμβολοσειρά που περιέχει διπλά εισαγωγικά."
   ],
   "metadata": {
    "collapsed": false,
    "pycharm": {
     "name": "#%% md\n"
    }
   }
  },
  {
   "cell_type": "code",
   "execution_count": 5,
   "outputs": [
    {
     "name": "stdout",
     "output_type": "stream",
     "text": [
      "και φώναξε δυνατά \"ΑΕΡΑ\"!\n",
      "και φώναξε δυνατά \"ΑΕΡΑ\"!\n"
     ]
    }
   ],
   "source": [
    "print('και φώναξε δυνατά \"ΑΕΡΑ\"!')\n",
    "print(\"και φώναξε δυνατά \\\"ΑΕΡΑ\\\"!\")  # Με χαρακτήρα διαφυγής."
   ],
   "metadata": {
    "collapsed": false,
    "pycharm": {
     "name": "#%%\n"
    }
   }
  },
  {
   "cell_type": "markdown",
   "source": [
    "## Ειδικοί Χαρακτήρες\n",
    "Δύο ειδικοί χαρακτήρες που συναντάμε συχνά και είναι χρήσιμοι για τη μορφοποίηση\n",
    "των συμβολοσειρών είναι\n",
    "- η αλλαγή γραμμής και\n",
    "- ο στηλοθέτης.\n",
    "\n",
    "### Αλλαγή Γραμμής (New Line)\n",
    "Κάθε φορά που εκτελείται μία `print` στο τέλος εκτυπώνεται ένας χαρακτήρας\n",
    "αλλαγής γραμμής. Έτσι, η επόμενη `print` θα εκτυπώσει στην επόμενη σειρά.\n",
    "Αν δε θέλουμε να γίνει αλλαγή γραμμής στο τέλος της `print` θα πρέπει να δώσουμε\n",
    "στην παράμετρό της `end` μία τιμή, π.χ. `end=''`.\n",
    "\n",
    "Πολλές φορές όμως είναι βολικό να έχουμε μία συμβολοσειρά σε μία `print` και να\n",
    "μπορούμε να κάνουμε αλλαγή γραμμής. Αυτό το επιτυγχάνουμε με τον ειδικό\n",
    "χαρακτήρα `\\n` (new line).\n",
    "*Προσοχή:* Παρόλο που τον γράφουμε χρησιμοποιώντας δύο χαρακτήρες, για το\n",
    "Λειτουργικό Σύστημα είναι ένας χαρακτήρας. Έτσι, για παράδειγμα σε ένα αρχείο\n",
    "κειμένου καταλαμβάνει 1 byte, όσο και οι υπόλοιποι ASCII χαρακτήρες."
   ],
   "metadata": {
    "collapsed": false,
    "pycharm": {
     "name": "#%% md\n"
    }
   }
  },
  {
   "cell_type": "code",
   "execution_count": 6,
   "outputs": [
    {
     "name": "stdout",
     "output_type": "stream",
     "text": [
      "1ο ΕΠΑ.Λ. Ασπροπύργου\n",
      "Αθ. Διάκου & Κριεζή\n",
      "Τ.Κ. 19300\n"
     ]
    }
   ],
   "source": [
    "print('1ο ΕΠΑ.Λ. Ασπροπύργου\\nΑθ. Διάκου & Κριεζή\\nΤ.Κ. 19300')"
   ],
   "metadata": {
    "collapsed": false,
    "pycharm": {
     "name": "#%%\n"
    }
   }
  },
  {
   "cell_type": "markdown",
   "source": [
    "### Στηλοθέτης (Tab)\n",
    "Οι στηλοθέτες μας βοηθούν ώστε να μπορούμε να στοιχίσουμε το κείμενό μας σε\n",
    "προκαθορισμένες θέσεις. Μπορούμε να τους εκμεταλευτούμε ώστε να κάνουμε πιο\n",
    "όμορφη την εκτύπωσή μας.\n",
    "\n",
    "Ο ειδικός χαρακτήρας του στηλοθέτη (tab) είναι ο `\\t`. Πάλι γράφουμε δύο\n",
    "χαρακτήρες οι οποίο όμως \"μεταφράζονται\" στο Λειτουργικό Σύστημα ως ένας."
   ],
   "metadata": {
    "collapsed": false,
    "pycharm": {
     "name": "#%% md\n"
    }
   }
  },
  {
   "cell_type": "code",
   "execution_count": 7,
   "outputs": [
    {
     "name": "stdout",
     "output_type": "stream",
     "text": [
      "Επώνυμο\t\tΌνομα\t\tΚατάταξη\n",
      "=======\t\t=====\t\t========\n",
      "Δημητράκου\tΖωή\t\t1\n",
      "Δούρος\t\tΠαναγιώτης\t2\n"
     ]
    }
   ],
   "source": [
    "print('Επώνυμο\\t\\tΌνομα\\t\\tΚατάταξη')\n",
    "print('=======\\t\\t=====\\t\\t========')\n",
    "print('Δημητράκου\\tΖωή\\t\\t1')\n",
    "print('Δούρος\\t\\tΠαναγιώτης\\t2')\n"
   ],
   "metadata": {
    "collapsed": false,
    "pycharm": {
     "name": "#%%\n"
    }
   }
  },
  {
   "cell_type": "markdown",
   "source": [
    "## Τριπλά Εισαγωγικά\n",
    "Στη Python τα τριπλά εισαγωγικά χρησιμοποιούνται κυρίως για τεκμηρίωση\n",
    "(documentation) τόσο των συναρτήσεων όσο και των αρθρωμάτων.\n",
    "Τα τριπλά εισαγωγικά μπορεί να είναι μονά (`'''`) ή διπλά (`\"\"\"`). Με όποια\n",
    "μορφή ανοίξουμε, μ' αυτή θα πρέπει να κλείσουμε.\n",
    "\n",
    "Μια ακόμη εφαρμογή των τριπλών εισαγωγικών είναι όταν έχουμε ένα μεγάλο κείμενο\n",
    "με αλλαγές γραμμών και θέλουμε εύκολα να διατηρήσουμε τη μορφοποίησή του. Για\n",
    "παράδειγμα το ποίημα που ακολουθεί."
   ],
   "metadata": {
    "collapsed": false,
    "pycharm": {
     "name": "#%% md\n"
    }
   }
  },
  {
   "cell_type": "code",
   "execution_count": 8,
   "outputs": [
    {
     "name": "stdout",
     "output_type": "stream",
     "text": [
      "\n",
      "Ο Ήλιος\n",
      "Οδυσσέας Ελύτης\n",
      "\n",
      "Εσείς στεριές και θάλασσες\n",
      "τ' αμπέλια κι οι χρυσές ελιές\n",
      "ακούτε τα χαμπέρια μου\n",
      "μέσα στα μεσημέρια μου\n",
      "\n",
      "«Σ' όλους τους τόπους κι αν γυρνώ\n",
      "μόνον ετούτον αγαπώ!»\n",
      "\n",
      "Από τη μέση του εγκρεμού\n",
      "στη μέση του άλλου πελάγου\n",
      "κόκκινα κίτρινα σπαρτά\n",
      "νερά πράσινα κι άπατα\n",
      "\n",
      "«Σ' όλους τους τόπους κι αν γυρνώ\n",
      "μόνον ετούτον αγαπώ!»\n",
      "\n"
     ]
    }
   ],
   "source": [
    "print(\"\"\"\n",
    "Ο Ήλιος\n",
    "Οδυσσέας Ελύτης\n",
    "\n",
    "Εσείς στεριές και θάλασσες\n",
    "τ' αμπέλια κι οι χρυσές ελιές\n",
    "ακούτε τα χαμπέρια μου\n",
    "μέσα στα μεσημέρια μου\n",
    "\n",
    "«Σ' όλους τους τόπους κι αν γυρνώ\n",
    "μόνον ετούτον αγαπώ!»\n",
    "\n",
    "Από τη μέση του εγκρεμού\n",
    "στη μέση του άλλου πελάγου\n",
    "κόκκινα κίτρινα σπαρτά\n",
    "νερά πράσινα κι άπατα\n",
    "\n",
    "«Σ' όλους τους τόπους κι αν γυρνώ\n",
    "μόνον ετούτον αγαπώ!»\n",
    "\"\"\")"
   ],
   "metadata": {
    "collapsed": false,
    "pycharm": {
     "name": "#%%\n"
    }
   }
  },
  {
   "cell_type": "markdown",
   "source": [
    "Όταν χρησιμοποιούμε τριπλά εισαγωγικά, μπορούμε ανάμεσά τους να χρησιμοποιήσουμε\n",
    "τα μονά και τα διπλά εισαγωγικά \"ελεύθερα\" χωρίς χαρακτήρα διαφυγής."
   ],
   "metadata": {
    "collapsed": false,
    "pycharm": {
     "name": "#%% md\n"
    }
   }
  }
 ],
 "metadata": {
  "kernelspec": {
   "display_name": "Python 3",
   "language": "python",
   "name": "python3"
  },
  "language_info": {
   "codemirror_mode": {
    "name": "ipython",
    "version": 2
   },
   "file_extension": ".py",
   "mimetype": "text/x-python",
   "name": "python",
   "nbconvert_exporter": "python",
   "pygments_lexer": "ipython2",
   "version": "2.7.6"
  }
 },
 "nbformat": 4,
 "nbformat_minor": 0
}
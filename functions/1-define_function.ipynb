{
 "cells": [
  {
   "cell_type": "markdown",
   "metadata": {
    "pycharm": {
     "name": "#%% md\n"
    }
   },
   "source": [
    "# Ορισμός, Κλήση Συνάρτησης και Ροή Εκτέλεσης\n",
    "\n",
    "Οι συναρτήσεις είναι επαναχρησιμοποιήσιμα μέρη προγραμμάτων. \n",
    "Μας επιτρέπουν να δίνουμε ένα όνομα σε ένα σύνολο εντολών και να το εκτελούμε \n",
    "καλώντας το όνομα αυτό, από οπουδήποτε στο πρόγραμμα και όσες φορές θέλουμε, \n",
    "διαδικασία που ονομάζεται κλήση (calling) της συνάρτησης.\n",
    "\n",
    "## Ορισμός Συνάρτησης\n",
    "Ο ορισμός της συνάρτησης έχει την εξής μορφή :\n",
    "\n",
    "```python\n",
    "def όνομα_συνάρτησης(<λίστα_παραμέτρων>): # #1\n",
    "    # το <> δηλώνει ότι το περιεχόμενο του είναι προεραιτικό.\n",
    "    εντολές # #2\n",
    "    <return <αποτέλεσμα>> # #3\n",
    "    # το return είναι προαιρετικό, αλλά ακόμη και αν υπάρχει, το αποτέλεσμα είναι προαιρετικό.\n",
    "```\n",
    "\n",
    "Στη συνάρτηση διακρίνουμε τρεις ενότητες:\n",
    "1. Τον ορισμό.\n",
    "1. Το σώμα (εντολές).\n",
    "1. Την έξοδο.\n",
    "\n",
    "### Ορισμός\n",
    "Για να ορίσουμε μια δική μας συνάρτηση \n",
    "- Ξεκινάμε με τη λέξη `def` (από το define - ορίζω). \n",
    "- Ακολουθεί ένα όνομα που ταυτοποιεί την εκάστοτε συνάρτηση.\n",
    "- Ανοίγει παρένθεση.\n",
    "- Ακολουθεί μία λίστα παραμέτρων οι οποίες όταν είναι περισσότερες από μία\n",
    "χωρίζονται με κόμμα. Η λίστα παραμέτρων μπορεί να είναι *κενή*.\n",
    "- Κλείνει παρένθεση.\n",
    "- Ακολουθεί άνω και κάτω τελεία (:).\n",
    "\n",
    "### Σώμα\n",
    "Το σώμα της συνάρτησης αποτελείται από τις εντολές της Python και τις δομές που\n",
    "γνωρίζουμε (ακολουθίας, if, for, while).\n",
    "Οι εντολές αυτές πρέπει *απαραίτητα* να έχουν εσοχή κάτω από τον ορισμό της\n",
    "συνάρτησης.\n",
    "Η εσοχή αυτή δηλώνει ότι οι εντολές ανήκουν στη συνάρτηση.\n",
    "\n",
    "### Έξοδος\n",
    "Οι συναρτήσεις, όταν τελειώσει η λίστα των εντολών τους, επιστρέφουν στη ροή του\n",
    "προγράμματος.\n",
    "Η έξοδος από τη συνάρτηση γίνεται μέσω της εντολής `return` (προαιρετικά).\n",
    "Διακρίνουμε τις εξής περιπτώσεις επιστροφής:\n",
    "- Δεν δίνεται `return` εντολή: Εννοείται `return None`.\n",
    "- Δίνεται εντολή `return` χωρίς *αποτέλεσμα*. Εννοείται στη θέση του αποτελέσματος\n",
    "το `None`.\n",
    "- Δίνεται εντολή `return` *με* αποτέλεσμα. Επιστρέφει το *αποτέλεσμα*.\n",
    "\n",
    "<div class=\"alert alert-warning\">\n",
    "<strong>Παρατήρηση:</strong> H <code>return</code> είναι εντολή και ως τέτοια μπορεί να βρεθεί σε\n",
    "οποιοδήποτε σημείο μέσα στο σώμα της συνάρτησης.\n",
    "Πρέπει όμως να είμαστε προσεκτικοί όταν δεν είναι η τελευταία εντολή της\n",
    "συνάρτησης γιατί μπορεί να δημιουργήσουμε ομάδες εντολών που δε θα εκτελεστούν\n",
    "ποτέ.\n",
    "</div>\n",
    "\n",
    "Κάθε συνάρτηση πρέπει να έχει τα παρακάτω βασικά χαρακτηριστικά:\n",
    "1. Έχει μόνο ένα σημείο εισόδου από το οποίο δέχεται τα δεδομένα του.\n",
    "1. Η συνάρτηση η οποία καλή άλλη συνάρτηση σταματάει την εκτέλεσή της όσο \n",
    "εκτελείται η καλούμενη συνάρτηση.\n",
    "Μόνο μία συνάρτηση μπορεί να εκτελείται σε μια χρονική στιγμή.\n",
    "1. Ο έλεγχος της ροής του προγράμματος επιστρέφει στη συνάρτηση που κάλεσε,\n",
    "όταν η καλούμενη συνάρτηση ολοκληρώσει την εκτέλεσή της.\n",
    "\n",
    "### Παρατηρήσεις\n",
    "- Το όνομα της συνάρτησης ακολουθεί τους κανόνες που ισχύουν για τα ονόματα\n",
    "μεταβλητών.\n",
    "- Οι παράμετροι της συνάρτησης είναι ονόματα μεταβλητών και προφανώς ισχύουν\n",
    "οι ίδιοι κανόνες για τα ονόματά τους.\n",
    "- Μια συνάρτηση έχει *ένα μόνο* σημείο εισόδου, το οποίο είναι το όνομά της.\n",
    "- Μια συνάρτηση μπορεί να έχει *πολλά* σημεία εξόδου (εντολές `return`).\n",
    "- Όταν μια συνάρτηση δεν έχει `return` ή έχει *χωρίς* να ακολουθεί αποτέλεσμα,\n",
    "τότε επιστρέφει την τιμή `None`.\n",
    "\n",
    "#### None\n",
    "Το `None` είναι μία ειδικού τύπου τιμή που συμβολίζει το *κενό* ή το *τίποτα*."
   ]
  },
  {
   "cell_type": "code",
   "execution_count": 1,
   "metadata": {
    "pycharm": {
     "is_executing": false,
     "name": "#%%\n"
    }
   },
   "outputs": [
    {
     "data": {
      "text/plain": [
       "NoneType"
      ]
     },
     "execution_count": 1,
     "metadata": {},
     "output_type": "execute_result"
    }
   ],
   "source": [
    "type(None)"
   ]
  },
  {
   "cell_type": "markdown",
   "metadata": {
    "pycharm": {
     "name": "#%% md\n"
    }
   },
   "source": [
    "Μπορούμε να δούμε αν κάτι είναι (`is`) `None` ή όχι (`is not`)."
   ]
  },
  {
   "cell_type": "code",
   "execution_count": 2,
   "metadata": {
    "pycharm": {
     "is_executing": false,
     "name": "#%%\n"
    }
   },
   "outputs": [
    {
     "data": {
      "text/plain": [
       "False"
      ]
     },
     "execution_count": 2,
     "metadata": {},
     "output_type": "execute_result"
    }
   ],
   "source": [
    " 1 is None # Ισοδύναμα: 1 == None"
   ]
  },
  {
   "cell_type": "code",
   "execution_count": 3,
   "metadata": {
    "pycharm": {
     "is_executing": false,
     "name": "#%%\n"
    }
   },
   "outputs": [
    {
     "data": {
      "text/plain": [
       "True"
      ]
     },
     "execution_count": 3,
     "metadata": {},
     "output_type": "execute_result"
    }
   ],
   "source": [
    "1 is not None # Ισοδύναμα: 1 != None"
   ]
  },
  {
   "cell_type": "markdown",
   "metadata": {
    "pycharm": {
     "is_executing": false,
     "name": "#%% md\n"
    }
   },
   "source": [
    "Η `None` δε μπορεί να μετατραπεί σε άλλον τύπο"
   ]
  },
  {
   "cell_type": "code",
   "execution_count": 4,
   "metadata": {
    "pycharm": {
     "is_executing": false,
     "name": "#%%\n"
    }
   },
   "outputs": [
    {
     "ename": "TypeError",
     "evalue": "int() argument must be a string, a bytes-like object or a number, not 'NoneType'",
     "output_type": "error",
     "traceback": [
      "\u001b[0;31m---------------------------------------------------------------------------\u001b[0m",
      "\u001b[0;31mTypeError\u001b[0m                                 Traceback (most recent call last)",
      "\u001b[0;32m<ipython-input-4-af2123a46eb2>\u001b[0m in \u001b[0;36m<module>\u001b[0;34m\u001b[0m\n\u001b[0;32m----> 1\u001b[0;31m \u001b[0mint\u001b[0m\u001b[0;34m(\u001b[0m\u001b[0;32mNone\u001b[0m\u001b[0;34m)\u001b[0m\u001b[0;34m\u001b[0m\u001b[0;34m\u001b[0m\u001b[0m\n\u001b[0m",
      "\u001b[0;31mTypeError\u001b[0m: int() argument must be a string, a bytes-like object or a number, not 'NoneType'"
     ]
    }
   ],
   "source": [
    "int(None)"
   ]
  },
  {
   "cell_type": "markdown",
   "metadata": {
    "pycharm": {
     "name": "#%% md\n"
    }
   },
   "source": [
    "ούτε να γίνουν πράξεις μαζί της."
   ]
  },
  {
   "cell_type": "code",
   "execution_count": 5,
   "metadata": {
    "pycharm": {
     "is_executing": false,
     "name": "#%%\n"
    }
   },
   "outputs": [
    {
     "ename": "TypeError",
     "evalue": "unsupported operand type(s) for +: 'int' and 'NoneType'",
     "output_type": "error",
     "traceback": [
      "\u001b[0;31m---------------------------------------------------------------------------\u001b[0m",
      "\u001b[0;31mTypeError\u001b[0m                                 Traceback (most recent call last)",
      "\u001b[0;32m<ipython-input-5-4b742a5d2305>\u001b[0m in \u001b[0;36m<module>\u001b[0;34m\u001b[0m\n\u001b[0;32m----> 1\u001b[0;31m \u001b[0;36m1\u001b[0m \u001b[0;34m+\u001b[0m \u001b[0;32mNone\u001b[0m  \u001b[0;31m# Δοκιμάστε και άλλες προσθέσεις, π.χ. με string.\u001b[0m\u001b[0;34m\u001b[0m\u001b[0;34m\u001b[0m\u001b[0m\n\u001b[0m\u001b[1;32m      2\u001b[0m \u001b[0;34m\u001b[0m\u001b[0m\n",
      "\u001b[0;31mTypeError\u001b[0m: unsupported operand type(s) for +: 'int' and 'NoneType'"
     ]
    }
   ],
   "source": [
    "1 + None # Δοκιμάστε και άλλες προσθέσεις, π.χ. με string."
   ]
  },
  {
   "cell_type": "markdown",
   "metadata": {
    "pycharm": {
     "name": "#%% md\n"
    }
   },
   "source": [
    "Μπορεί να χρησιμοποιηθεί στην `if`."
   ]
  },
  {
   "cell_type": "code",
   "execution_count": 6,
   "metadata": {
    "pycharm": {
     "is_executing": false,
     "name": "#%%\n"
    }
   },
   "outputs": [
    {
     "name": "stdout",
     "output_type": "stream",
     "text": [
      "Η None δεν είναι True!\n"
     ]
    }
   ],
   "source": [
    "x = None\n",
    "\n",
    "if x:\n",
    "    print('Πιστεύεις ότι η None είναι True;')\n",
    "else:\n",
    "    print('Η None δεν είναι True!')"
   ]
  },
  {
   "cell_type": "markdown",
   "metadata": {
    "pycharm": {
     "name": "#%% md\n"
    }
   },
   "source": [
    "Μήπως όμως είναι `False`;"
   ]
  },
  {
   "cell_type": "code",
   "execution_count": 7,
   "metadata": {
    "pycharm": {
     "is_executing": false,
     "name": "#%%\n"
    }
   },
   "outputs": [
    {
     "data": {
      "text/plain": [
       "False"
      ]
     },
     "execution_count": 7,
     "metadata": {},
     "output_type": "execute_result"
    }
   ],
   "source": [
    "None is False # Ισοδύναμα: None == False"
   ]
  },
  {
   "cell_type": "markdown",
   "metadata": {
    "pycharm": {
     "name": "#%% md\n"
    }
   },
   "source": [
    "Η `None`, λοιπόν, δεν είναι ούτε `True` ούτε `False`.\n",
    "Πως εξηγείται το παράδειγμα με το `if`;\n",
    "Το \"σκέτο\" `x` στην εντολή `if` \"μεταφράζεται\" από την Python ως `x is not None`\n",
    "το οποίο δίνει `False`."
   ]
  },
  {
   "cell_type": "code",
   "execution_count": 8,
   "metadata": {
    "pycharm": {
     "is_executing": false,
     "name": "#%%\n"
    }
   },
   "outputs": [
    {
     "data": {
      "text/plain": [
       "False"
      ]
     },
     "execution_count": 8,
     "metadata": {},
     "output_type": "execute_result"
    }
   ],
   "source": [
    "x is not None"
   ]
  },
  {
   "cell_type": "markdown",
   "metadata": {
    "pycharm": {
     "name": "#%% md\n"
    }
   },
   "source": [
    "## Κλήση συνάρτησης\n",
    "Για να χρησιμοποιήσουμε μία συνάρτηση πρέπει να την \"καλέσουμε\".\n",
    "Αυτό γίνεται γράφοντας\n",
    "1. Το όνομα της συνάρτησης,\n",
    "1. Ανοίγουμε παρένθεση,\n",
    "1. Αν η συνάρτηση δέχεται παραμέτρους, τότε δίνουμε τιμές σ' αυτές,\n",
    "1. Κλείνουμε παρένθεση.\n",
    "\n",
    "Έχουμε χρησιμοποιήσει πολλές ενσωματωμένες συναρτήσεις της Python.\n",
    "Για παράδειγμα, η `int` δέχεται έναν αριθμό ή μια συμβολοσειρά και επιστρέφει\n",
    "το ακέραιο μέρος της, οπότε η κλήση είναι `int(3.14)` ή `int('3.14')` και \n",
    "βλέπουμε ότι έχει όλα τα στοιχεία της παραπάνω λίστας.\n",
    "\n",
    "### Παράδειγμα #1\n",
    "\n",
    "Ορίζουμε μία συνάρτηση η οποία *εκτυπώνει* τον τίτλο του μαθήματος."
   ]
  },
  {
   "cell_type": "code",
   "execution_count": 2,
   "metadata": {
    "pycharm": {
     "is_executing": false,
     "name": "#%%\n"
    }
   },
   "outputs": [
    {
     "name": "stdout",
     "output_type": "stream",
     "text": [
      "Προγραμματισμός Υπολογιστών με Python\n"
     ]
    }
   ],
   "source": [
    "def lesson():  # Δεν δέχεται παραμέτρους.\n",
    "    print('Προγραμματισμός Υπολογιστών με Python')\n",
    "\n",
    "\n",
    "# Κλήση της συνάρτησης\n",
    "lesson()"
   ]
  },
  {
   "cell_type": "markdown",
   "metadata": {
    "pycharm": {
     "name": "#%% md\n"
    }
   },
   "source": [
    "Ορίζουμε μία συνάρτηση η οποία *επιστρέφει* τον τίτλο του μαθήματος."
   ]
  },
  {
   "cell_type": "code",
   "execution_count": 3,
   "metadata": {
    "pycharm": {
     "is_executing": false,
     "name": "#%%\n"
    }
   },
   "outputs": [
    {
     "name": "stdout",
     "output_type": "stream",
     "text": [
      "Προγραμματισμός Υπολογιστών με Python\n"
     ]
    }
   ],
   "source": [
    "def lesson():  # Δεν δέχεται παραμέτρους.\n",
    "    return 'Προγραμματισμός Υπολογιστών με Python'\n",
    "\n",
    "\n",
    "# Κλήση της συνάρτησης\n",
    "title = lesson()\n",
    "print(title)"
   ]
  },
  {
   "cell_type": "markdown",
   "metadata": {
    "pycharm": {
     "name": "#%% md\n"
    }
   },
   "source": [
    "Παρατηρήστε ότι χρησιμοποιήσαμε την μεταβλητή `title` για να αποθηκεύσουμε το\n",
    "αποτέλεσμα που επέστρεψε η συνάρτηση.\n",
    "\n",
    "<div class=\"alert alert-warning\" role=\"alert\">\n",
    "<strong>Σημείωση:</strong>\n",
    "Μια συνάρτηση πρέπει να έχει οριστεί πριν χρησιμοποιηθεί.\n",
    "Είναι προφανές ότι οι εντολές μέσα στη συνάρτηση δεν εκτελούνται μέχρι αυτή να κληθεί.\n",
    "</div>\n",
    "\n",
    "## Ροή Εκτέλεσης\n",
    "Μια κλήση συνάρτησης είναι σαν μια παράκαμψη στη ροή της εκτέλεσης. \n",
    "Αντί η ροή να πάει στην επόμενη δήλωση, περνάει στο σώμα της συνάρτησης, \n",
    "εκτελεί όλες τις δηλώσεις εκεί και μετά επιστρέφει για να συνεχίσει από εκεί \n",
    "που σταμάτησε. \n",
    "\n",
    "### Παράδειγμα #2\n",
    "Μπορούμε να καλέσουμε συνάρτηση από το σώμα μιας άλλης συνάρτησης."
   ]
  },
  {
   "cell_type": "code",
   "execution_count": 11,
   "metadata": {
    "pycharm": {
     "is_executing": false,
     "name": "#%%\n"
    }
   },
   "outputs": [
    {
     "name": "stdout",
     "output_type": "stream",
     "text": [
      "Προγραμματισμός Υπολογιστών με Python\n",
      "Προγραμματισμός Υπολογιστών με Java\n"
     ]
    }
   ],
   "source": [
    "def lesson():\n",
    "    return 'Προγραμματισμός Υπολογιστών με '\n",
    "\n",
    "\n",
    "def python_lesson():\n",
    "    title = lesson()  # Σταματάει η ροή εδώ μέχρι να τελειώσει η lesson()\n",
    "    python_title = title + 'Python'  # H lesson() έχει τελειώσει.\n",
    "    return python_title\n",
    "\n",
    "\n",
    "def java_lesson():\n",
    "    title = lesson()  # Σταματάει η ροή εδώ μέχρι να τελειώσει η lesson()\n",
    "    java_title = title + 'Java'  # Η lesson() έχει τελειώσει.\n",
    "    return java_title\n",
    "\n",
    "\n",
    "print(python_lesson())  # Η ροή σταματάει μέχρι να τελειώσει η python_lesson()\n",
    "print(java_lesson())  # Η ροή σταματάει μέχρι να τελειώσει η java_lesson()"
   ]
  },
  {
   "cell_type": "markdown",
   "metadata": {
    "pycharm": {
     "name": "#%% md\n"
    }
   },
   "source": [
    "Παρατηρούμε ότι οι συναρτήσεις `python_lesson()` και `java_lesson()`\n",
    "χρησιμοποιούν τη συνάρτηση `lesson()` για να φτιάξουν τον τίτλο του μαθήματος.\n",
    "\n",
    "## Κατηγορίες Συναρτήσεων\n",
    "Οι συναρτήσεις μπορούν να κατηγοριοποιηθούν με πολλούς τρόπους.\n",
    "Η πρώτη κατηγοριοποίηση είναι σε εκείνες που:\n",
    "- επιστρέφουν αποτέλεσμα όταν κληθούν (οι περισσότερες από τις \n",
    "ενσωματωμένες που έχουμε δει),\n",
    "- δεν επιστρέφουν αποτέλεσμα (όπως η lesson() στο παράδειγμα #1).\n",
    "\n",
    "Άλλη κατηγοριοποίηση είναι σε εκείνες που:\n",
    "- δεν τροποποιούν το αντικείμενο στο οποίο εφαρμόζονται, όπως"
   ]
  },
  {
   "cell_type": "code",
   "execution_count": 12,
   "metadata": {
    "pycharm": {
     "is_executing": false,
     "name": "#%%\n"
    }
   },
   "outputs": [
    {
     "name": "stdout",
     "output_type": "stream",
     "text": [
      "PYTHON\n",
      "Python\n"
     ]
    }
   ],
   "source": [
    "lang = 'Python'\n",
    "print(lang.upper())\n",
    "print(lang)"
   ]
  },
  {
   "cell_type": "markdown",
   "metadata": {
    "pycharm": {
     "name": "#%% md\n"
    }
   },
   "source": [
    "- τροποποιούν το αντικείμενο στο οποίο εφαρμόζονται, όπως"
   ]
  },
  {
   "cell_type": "code",
   "execution_count": 13,
   "metadata": {
    "pycharm": {
     "is_executing": false,
     "name": "#%%\n"
    }
   },
   "outputs": [
    {
     "name": "stdout",
     "output_type": "stream",
     "text": [
      "['Προγραμματισμός', 'Υπολογιστών', 'με', 'Python']\n"
     ]
    }
   ],
   "source": [
    "title = ['Προγραμματισμός', 'Υπολογιστών', 'με']\n",
    "title.append('Python')\n",
    "print(title)"
   ]
  },
  {
   "cell_type": "markdown",
   "metadata": {
    "pycharm": {
     "name": "#%% md\n"
    }
   },
   "source": [
    "## Κακές Πρακτικές\n",
    "### Παράδειγμα #3 (προς αποφυγή!)\n",
    "Όταν έχουν δηλώσει μία συνάρτηση *δεν δίνουμε* το όνομά της ως όνομα μεταβλητής\n",
    "αλλού στο πρόγραμμα.\n",
    "Το όνομα της συνάρτησης δείχνει σε μια θέση μνήμης όπου είναι αποθηκευμένες οι\n",
    "εντολές.\n",
    "Αν το χρησιμοποιήσουμε ως μεταβλητή, τότε το ίδιο όνομα θα δείξει σε μία *άλλη*\n",
    "θέση μνήμης και έτσι **χάνεται** η συνάρτηση.\n",
    "\n",
    "Δείτε το προηγούμενο παράδειγμα όπου στο σώμα της `python_lesson()` αντί για\n",
    "`title` έχει μεταβλητή `lesson` που είναι το όνομα της συνάρτησης `lesson()`.\n",
    "Σ' αυτή την περίπτωση θα πάρουμε ένα σφάλμα και το πρόγραμμα θα σταματήσει."
   ]
  },
  {
   "cell_type": "code",
   "execution_count": 4,
   "metadata": {
    "pycharm": {
     "is_executing": false,
     "name": "#%%\n"
    }
   },
   "outputs": [
    {
     "ename": "UnboundLocalError",
     "evalue": "local variable 'lesson' referenced before assignment",
     "output_type": "error",
     "traceback": [
      "\u001b[0;31m---------------------------------------------------------------------------\u001b[0m",
      "\u001b[0;31mUnboundLocalError\u001b[0m                         Traceback (most recent call last)",
      "\u001b[0;32m<ipython-input-4-75930c9b939f>\u001b[0m in \u001b[0;36m<module>\u001b[0;34m\u001b[0m\n\u001b[1;32m      9\u001b[0m \u001b[0;34m\u001b[0m\u001b[0m\n\u001b[1;32m     10\u001b[0m \u001b[0;34m\u001b[0m\u001b[0m\n\u001b[0;32m---> 11\u001b[0;31m \u001b[0mprint\u001b[0m\u001b[0;34m(\u001b[0m\u001b[0mpython_lesson\u001b[0m\u001b[0;34m(\u001b[0m\u001b[0;34m)\u001b[0m\u001b[0;34m)\u001b[0m\u001b[0;34m\u001b[0m\u001b[0;34m\u001b[0m\u001b[0m\n\u001b[0m",
      "\u001b[0;32m<ipython-input-4-75930c9b939f>\u001b[0m in \u001b[0;36mpython_lesson\u001b[0;34m()\u001b[0m\n\u001b[1;32m      4\u001b[0m \u001b[0;34m\u001b[0m\u001b[0m\n\u001b[1;32m      5\u001b[0m \u001b[0;32mdef\u001b[0m \u001b[0mpython_lesson\u001b[0m\u001b[0;34m(\u001b[0m\u001b[0;34m)\u001b[0m\u001b[0;34m:\u001b[0m\u001b[0;34m\u001b[0m\u001b[0;34m\u001b[0m\u001b[0m\n\u001b[0;32m----> 6\u001b[0;31m     \u001b[0mlesson\u001b[0m \u001b[0;34m=\u001b[0m \u001b[0mlesson\u001b[0m\u001b[0;34m(\u001b[0m\u001b[0;34m)\u001b[0m  \u001b[0;31m# Η μεταβλητή έχει το όνομα της συνάρτησης!\u001b[0m\u001b[0;34m\u001b[0m\u001b[0;34m\u001b[0m\u001b[0m\n\u001b[0m\u001b[1;32m      7\u001b[0m     \u001b[0mpython_title\u001b[0m \u001b[0;34m=\u001b[0m \u001b[0mlesson\u001b[0m \u001b[0;34m+\u001b[0m \u001b[0;34m'Python'\u001b[0m\u001b[0;34m\u001b[0m\u001b[0;34m\u001b[0m\u001b[0m\n\u001b[1;32m      8\u001b[0m     \u001b[0;32mreturn\u001b[0m \u001b[0mpython_title\u001b[0m\u001b[0;34m\u001b[0m\u001b[0;34m\u001b[0m\u001b[0m\n",
      "\u001b[0;31mUnboundLocalError\u001b[0m: local variable 'lesson' referenced before assignment"
     ]
    }
   ],
   "source": [
    "def lesson():\n",
    "    return 'Προγραμματισμός Υπολογιστών με '\n",
    "\n",
    "\n",
    "def python_lesson():\n",
    "    lesson = lesson()  # Η μεταβλητή έχει το όνομα της συνάρτησης!\n",
    "    python_title = lesson + 'Python'\n",
    "    return python_title\n",
    "\n",
    "\n",
    "print(python_lesson())"
   ]
  },
  {
   "cell_type": "markdown",
   "metadata": {
    "pycharm": {
     "name": "#%% md\n"
    }
   },
   "source": [
    "Μπορούμε να δούμε τη θέση μνήμης της συνάρτησης αν εκτυπώσουμε το όνομά της."
   ]
  },
  {
   "cell_type": "code",
   "execution_count": 5,
   "metadata": {
    "pycharm": {
     "is_executing": false,
     "name": "#%%\n"
    }
   },
   "outputs": [
    {
     "name": "stdout",
     "output_type": "stream",
     "text": [
      "<function lesson at 0x7f4d204ad950>\n"
     ]
    }
   ],
   "source": [
    "def lesson():\n",
    "    return 'Προγραμματισμός Υπολογιστών με '\n",
    "\n",
    "\n",
    "print(lesson)"
   ]
  },
  {
   "cell_type": "markdown",
   "metadata": {
    "pycharm": {
     "name": "#%% md\n"
    }
   },
   "source": [
    "### Παράδειγμα #4 (προς αποφυγή!)\n",
    "Όπως έχουμε αναφέρει το `return` είναι μία εντολή και αν χρησιμοποιηθεί σε λάθος\n",
    "σημείο θα δημιουργήσει τμήματα του κώδικα της συνάρτησης που δεν θα εκτελεστούν."
   ]
  },
  {
   "cell_type": "code",
   "execution_count": 16,
   "metadata": {
    "pycharm": {
     "is_executing": false,
     "name": "#%%\n"
    }
   },
   "outputs": [
    {
     "name": "stdout",
     "output_type": "stream",
     "text": [
      "Προγραμματισμός Υπολογιστών με \n"
     ]
    }
   ],
   "source": [
    "def lesson():\n",
    "    title = 'Προγραμματισμός '\n",
    "    title += 'Υπολογιστών '\n",
    "    title += 'με '\n",
    "    return title  # Η εντολή που ακολουθεί το return δε θα εκτελεστεί ποτέ!\n",
    "    title += 'Python '\n",
    "\n",
    "\n",
    "print(lesson())"
   ]
  },
  {
   "cell_type": "code",
   "execution_count": null,
   "metadata": {
    "pycharm": {
     "name": "#%%\n"
    }
   },
   "outputs": [],
   "source": [
    "\n"
   ]
  }
 ],
 "metadata": {
  "hide_input": false,
  "kernelspec": {
   "display_name": "Python 3",
   "language": "python",
   "name": "python3"
  },
  "language_info": {
   "codemirror_mode": {
    "name": "ipython",
    "version": 3
   },
   "file_extension": ".py",
   "mimetype": "text/x-python",
   "name": "python",
   "nbconvert_exporter": "python",
   "pygments_lexer": "ipython3",
   "version": "3.6.9"
  },
  "latex_envs": {
   "LaTeX_envs_menu_present": true,
   "autoclose": true,
   "autocomplete": false,
   "bibliofile": "refs.bib",
   "cite_by": "apalike",
   "current_citInitial": 1,
   "eqLabelWithNumbers": true,
   "eqNumInitial": 1,
   "hotkeys": {
    "equation": "Ctrl-E",
    "itemize": "Ctrl-I"
   },
   "labels_anchors": false,
   "latex_user_defs": false,
   "report_style_numbering": false,
   "user_envs_cfg": false
  },
  "toc": {
   "base_numbering": 1,
   "nav_menu": {},
   "number_sections": true,
   "sideBar": true,
   "skip_h1_title": false,
   "title_cell": "Table of Contents",
   "title_sidebar": "Contents",
   "toc_cell": false,
   "toc_position": {},
   "toc_section_display": true,
   "toc_window_display": false
  }
 },
 "nbformat": 4,
 "nbformat_minor": 1
}

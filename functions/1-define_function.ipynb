{
 "cells": [
  {
   "cell_type": "markdown",
   "source": [
    "# Ορισμός, Κλήση Συνάρτησης και Ροή Εκτέλεσης\n",
    "\n",
    "Οι συναρτήσεις είναι επαναχρησιμοποιήσιμα μέρη προγραμμάτων. \n",
    "Μας επιτρέπουν να δίνουμε ένα όνομα σε ένα σύνολο εντολών και να το εκτελούμε \n",
    "καλώντας το όνομα αυτό, από οπουδήποτε στο πρόγραμμα και όσες φορές θέλουμε, \n",
    "διαδικασία που ονομάζεται κλήση (calling) της συνάρτησης.\n",
    "\n",
    "## Ορισμός Συνάρτησης\n",
    "Ο ορισμός της συνάρτησης έχει την εξής μορφή :\n",
    "\n",
    "```python\n",
    "def όνομα_συνάρτησης(<λίστα_παραμέτρων>): # #1\n",
    "  # το <> δηλώνει ότι το περιεχόμενο του είναι προεραιτικό.\n",
    "  εντολές # #2\n",
    "  <return <αποτέλεσμα>> # #3\n",
    "  # το return είναι προαιρετικό, αλλά ακόμη και αν υπάρχει, το αποτέλεσμα είναι προαιρετικό.\n",
    "```\n",
    "\n",
    "Στη συνάρτηση διακρίνουμε τρεις ενότητες:\n",
    "1. Τον ορισμό.\n",
    "1. Το σώμα (εντολές).\n",
    "1. Την έξοδο.\n",
    "\n",
    "### Ορισμός\n",
    "Για να ορίσουμε μια δική μας συνάρτηση \n",
    "- Ξεκινάμε με τη λέξη `def` (από το define - ορίζω). \n",
    "- Ακολουθεί ένα όνομα που ταυτοποιεί την εκάστοτε συνάρτηση.\n",
    "- Ανοίγει παρένθεση.\n",
    "- Ακολουθεί μία λίστα παραμέτρων οι οποίες όταν είναι περισσότερες από μία\n",
    "χωρίζονται με κόμμα. Η λίστα παραμέτρων μπορεί να είναι *κενή*.\n",
    "- Κλείνει παρένθεση.\n",
    "- Ακολουθεί άνω και κάτω τελεία (:).\n",
    "\n",
    "### Σώμα\n",
    "Το σώμα της συνάρτησης αποτελείται από τις εντολές της Python και τις δομές που\n",
    "γνωρίζουμε (ακολουθίας, if, for, while).\n",
    "Οι εντολές αυτές πρέπει *απαραίτητα* να έχουν εσοχή κάτω από τον ορισμό της\n",
    "συνάρτησης.\n",
    "Η εσοχή αυτή δηλώνει ότι οι εντολές ανήκουν στη συνάρτηση.\n",
    "\n",
    "### Έξοδος\n",
    "Οι συναρτήσεις, όταν τελειώσει η λίστα των εντολών τους, επιστρέφουν στη ροή του\n",
    "προγράμματος.\n",
    "Η έξοδος από τη συνάρτηση γίνεται μέσω της εντολής `return` (προαιρετικά).\n",
    "Διακρίνουμε τις εξής περιπτώσεις επιστροφής:\n",
    "- Δεν δίνεται `return` εντολή: Εννοείται `return None`.\n",
    "- Δίνεται εντολή `return` χωρίς *αποτέλεσμα*. Εννοείται στη θέση του αποτελέσματος\n",
    "το `None`.\n",
    "- Δίνεται εντολή `return` *με* αποτέλεσμα. Επιστρέφει το *αποτέλεσμα*.\n",
    "\n",
    "**Παρατήρηση:** H `return` είναι εντολή και ως τέτοια μπορεί να βρεθεί σε \n",
    "οποιοδήποτε σημείο μέσα στο σώμα της συνάρτησης.\n",
    "Πρέπει όμως να είμαστε προσεκτικοί όταν δεν είναι η τελευταία εντολή της\n",
    "συνάρτησης γιατί μπορεί να δημιουργήσουμε ομάδες εντολών που δε θα εκτελεστούν\n",
    "ποτέ.\n",
    "\n",
    "Κάθε συνάρτηση πρέπει να έχει τα παρακάτω βασικά χαρακτηριστικά:\n",
    "1. Έχει μόνο ένα σημείο εισόδου από το οποίο δέχεται τα δεδομένα του.\n",
    "1. Η συνάρτηση η οποία καλή άλλη συνάρτηση σταματάει την εκτέλεσή της όσο \n",
    "εκτελείται η καλούμενη συνάρτηση.\n",
    "Μόνο μία συνάρτηση μπορεί να εκτελείται σε μια χρονική στιγμή.\n",
    "1. Ο έλεγχος της ροής του προγράμματος επιστρέφει στη συνάρτηση που κάλεσε,\n",
    "όταν η καλούμενη συνάρτηση ολοκληρώσει την εκτέλεσή της.\n",
    "\n",
    "### Παρατηρήσεις\n",
    "- Το όνομα της συνάρτησης ακολουθεί τους κανόνες που ισχύουν για τα ονόματα\n",
    "μεταβλητών.\n",
    "- Οι παράμετροι της συνάρτησης είναι ονόματα μεταβλητών και προφανώς ισχύουν\n",
    "οι ίδιοι κανόνες για τα ονόματά τους.\n",
    "- Μια συνάρτηση έχει *ένα μόνο* σημείο εισόδου, το οποίο είναι το όνομά της.\n",
    "- Μια συνάρτηση μπορεί να έχει *πολλά* σημεία εξόδου (εντολές `return`).\n",
    "- Όταν μια συνάρτηση δεν έχει `return` ή έχει *χωρίς* να ακολουθεί αποτέλεσμα,\n",
    "τότε επιστρέφει την τιμή `None`.\n",
    "\n",
    "#### None\n",
    "Το `None` είναι μία ειδικού τύπου τιμή που συμβολίζει το *κενό* ή το *τίποτα*."
   ],
   "metadata": {
    "collapsed": false,
    "pycharm": {
     "name": "#%% md\n"
    }
   }
  },
  {
   "cell_type": "code",
   "execution_count": 1,
   "outputs": [
    {
     "data": {
      "text/plain": "NoneType"
     },
     "metadata": {},
     "output_type": "execute_result",
     "execution_count": 1
    }
   ],
   "source": [
    "type(None)"
   ],
   "metadata": {
    "collapsed": false,
    "pycharm": {
     "name": "#%%\n",
     "is_executing": false
    }
   }
  },
  {
   "cell_type": "markdown",
   "source": [
    "Μπορούμε να δούμε αν κάτι είναι (`is`) `None` ή όχι (`is not`)."
   ],
   "metadata": {
    "collapsed": false,
    "pycharm": {
     "name": "#%% md\n"
    }
   }
  },
  {
   "cell_type": "code",
   "execution_count": 2,
   "outputs": [
    {
     "data": {
      "text/plain": "False"
     },
     "metadata": {},
     "output_type": "execute_result",
     "execution_count": 2
    }
   ],
   "source": [
    " 1 is None  # Ισοδύναμα: 1 == None"
   ],
   "metadata": {
    "collapsed": false,
    "pycharm": {
     "name": "#%%\n",
     "is_executing": false
    }
   }
  },
  {
   "cell_type": "code",
   "execution_count": 3,
   "outputs": [
    {
     "data": {
      "text/plain": "True"
     },
     "metadata": {},
     "output_type": "execute_result",
     "execution_count": 3
    }
   ],
   "source": [
    "1 is not None #  Ισοδύναμα: 1 != None"
   ],
   "metadata": {
    "collapsed": false,
    "pycharm": {
     "name": "#%%\n",
     "is_executing": false
    }
   }
  },
  {
   "cell_type": "markdown",
   "source": [
    "Η `None` δε μπορεί να μετατραπεί σε άλλον τύπο"
   ],
   "metadata": {
    "collapsed": false,
    "pycharm": {
     "name": "#%% md\n",
     "is_executing": false
    }
   }
  },
  {
   "cell_type": "code",
   "execution_count": 4,
   "outputs": [
    {
     "traceback": [
      "\u001b[0;31m---------------------------------------------------------------------------\u001b[0m",
      "\u001b[0;31mTypeError\u001b[0m                                 Traceback (most recent call last)",
      "\u001b[0;32m<ipython-input-4-af2123a46eb2>\u001b[0m in \u001b[0;36m<module>\u001b[0;34m\u001b[0m\n\u001b[0;32m----> 1\u001b[0;31m \u001b[0mint\u001b[0m\u001b[0;34m(\u001b[0m\u001b[0;32mNone\u001b[0m\u001b[0;34m)\u001b[0m\u001b[0;34m\u001b[0m\u001b[0;34m\u001b[0m\u001b[0m\n\u001b[0m",
      "\u001b[0;31mTypeError\u001b[0m: int() argument must be a string, a bytes-like object or a number, not 'NoneType'"
     ],
     "ename": "TypeError",
     "evalue": "int() argument must be a string, a bytes-like object or a number, not 'NoneType'",
     "output_type": "error"
    }
   ],
   "source": [
    "int(None)"
   ],
   "metadata": {
    "collapsed": false,
    "pycharm": {
     "name": "#%%\n",
     "is_executing": false
    }
   }
  },
  {
   "cell_type": "markdown",
   "source": [
    "ούτε να γίνουν πράξεις μαζί της."
   ],
   "metadata": {
    "collapsed": false,
    "pycharm": {
     "name": "#%% md\n"
    }
   }
  },
  {
   "cell_type": "code",
   "execution_count": 5,
   "outputs": [
    {
     "traceback": [
      "\u001b[0;31m---------------------------------------------------------------------------\u001b[0m",
      "\u001b[0;31mTypeError\u001b[0m                                 Traceback (most recent call last)",
      "\u001b[0;32m<ipython-input-5-4b742a5d2305>\u001b[0m in \u001b[0;36m<module>\u001b[0;34m\u001b[0m\n\u001b[0;32m----> 1\u001b[0;31m \u001b[0;36m1\u001b[0m \u001b[0;34m+\u001b[0m \u001b[0;32mNone\u001b[0m  \u001b[0;31m# Δοκιμάστε και άλλες προσθέσεις, π.χ. με string.\u001b[0m\u001b[0;34m\u001b[0m\u001b[0;34m\u001b[0m\u001b[0m\n\u001b[0m\u001b[1;32m      2\u001b[0m \u001b[0;34m\u001b[0m\u001b[0m\n",
      "\u001b[0;31mTypeError\u001b[0m: unsupported operand type(s) for +: 'int' and 'NoneType'"
     ],
     "ename": "TypeError",
     "evalue": "unsupported operand type(s) for +: 'int' and 'NoneType'",
     "output_type": "error"
    }
   ],
   "source": [
    "1 + None  # Δοκιμάστε και άλλες προσθέσεις, π.χ. με string."
   ],
   "metadata": {
    "collapsed": false,
    "pycharm": {
     "name": "#%%\n",
     "is_executing": false
    }
   }
  },
  {
   "cell_type": "markdown",
   "source": [
    "Μπορεί να χρησιμοποιηθεί στην `if`."
   ],
   "metadata": {
    "collapsed": false,
    "pycharm": {
     "name": "#%% md\n"
    }
   }
  },
  {
   "cell_type": "code",
   "execution_count": 6,
   "outputs": [
    {
     "name": "stdout",
     "text": [
      "Η None δεν είναι True!\n"
     ],
     "output_type": "stream"
    }
   ],
   "source": [
    "x = None\n",
    "\n",
    "if x:\n",
    "  print('Πιστεύεις ότι η None είναι True;')\n",
    "else:\n",
    "  print('Η None δεν είναι True!')"
   ],
   "metadata": {
    "collapsed": false,
    "pycharm": {
     "name": "#%%\n",
     "is_executing": false
    }
   }
  },
  {
   "cell_type": "markdown",
   "source": [
    "Μήπως όμως είναι `False`;"
   ],
   "metadata": {
    "collapsed": false,
    "pycharm": {
     "name": "#%% md\n"
    }
   }
  },
  {
   "cell_type": "code",
   "execution_count": 7,
   "outputs": [
    {
     "data": {
      "text/plain": "False"
     },
     "metadata": {},
     "output_type": "execute_result",
     "execution_count": 7
    }
   ],
   "source": [
    "None is False # Ισοδύναμα: None == False"
   ],
   "metadata": {
    "collapsed": false,
    "pycharm": {
     "name": "#%%\n",
     "is_executing": false
    }
   }
  },
  {
   "cell_type": "markdown",
   "source": [
    "Η `None`, λοιπόν, δεν είναι ούτε `True` ούτε `False`.\n",
    "Πως εξηγείται το παράδειγμα με το `if`;\n",
    "Το \"σκέτο\" `x` στην εντολή `if` \"μεταφράζεται\" από την Python ως `x is not None`\n",
    "το οποίο δίνει `False`."
   ],
   "metadata": {
    "collapsed": false,
    "pycharm": {
     "name": "#%% md\n"
    }
   }
  },
  {
   "cell_type": "code",
   "execution_count": 8,
   "outputs": [
    {
     "data": {
      "text/plain": "False"
     },
     "metadata": {},
     "output_type": "execute_result",
     "execution_count": 8
    }
   ],
   "source": [
    "x is not None"
   ],
   "metadata": {
    "collapsed": false,
    "pycharm": {
     "name": "#%%\n",
     "is_executing": false
    }
   }
  },
  {
   "cell_type": "markdown",
   "source": [
    "## Κλήση συνάρτησης\n",
    "Για να χρησιμοποιήσουμε μία συνάρτηση πρέπει να την \"καλέσουμε\".\n",
    "Αυτό γίνεται γράφοντας\n",
    "1. Το όνομα της συνάρτησης,\n",
    "1. Ανοίγουμε παρένθεση,\n",
    "1. Αν η συνάρτηση δέχεται παραμέτρους, τότε δίνουμε τιμές σ' αυτές,\n",
    "1. Κλείνουμε παρένθεση.\n",
    "\n",
    "Έχουμε χρησιμοποιήσει πολλές ενσωματωμένες συναρτήσεις της Python.\n",
    "Για παράδειγμα, η `int` δέχεται έναν αριθμό ή μια συμβολοσειρά και επιστρέφει\n",
    "το ακέραιο μέρος της, οπότε η κλήση είναι `int(3.14)` ή `int('3.14')` και \n",
    "βλέπουμε ότι έχει όλα τα στοιχεία της παραπάνω λίστας.\n",
    "\n",
    "### Παράδειγμα #1\n",
    "\n",
    "Ορίζουμε μία συνάρτηση η οποία *εκτυπώνει* τον τίτλο του μαθήματος."
   ],
   "metadata": {
    "collapsed": false,
    "pycharm": {
     "name": "#%% md\n"
    }
   }
  },
  {
   "cell_type": "code",
   "execution_count": 9,
   "outputs": [
    {
     "name": "stdout",
     "text": [
      "Προγραμματισμός Υπολογιστών με Python\n"
     ],
     "output_type": "stream"
    }
   ],
   "source": [
    "def lesson(): # Δεν δέχεται παραμέτρους.\n",
    "  print('Προγραμματισμός Υπολογιστών με Python')\n",
    "  return None # Δοκιμάστε να αφαιρέσετε το None ή όλη τη γραμμή.\n",
    "  \n",
    "# Κλήση της συνάρτησης\n",
    "lesson()"
   ],
   "metadata": {
    "collapsed": false,
    "pycharm": {
     "name": "#%%\n",
     "is_executing": false
    }
   }
  },
  {
   "cell_type": "markdown",
   "source": [
    "Ορίζουμε μία συνάρτηση η οποία *επιστρέφει* τον τίτλο του μαθήματος."
   ],
   "metadata": {
    "collapsed": false,
    "pycharm": {
     "name": "#%% md\n"
    }
   }
  },
  {
   "cell_type": "code",
   "execution_count": 10,
   "outputs": [
    {
     "name": "stdout",
     "text": [
      "Προγραμματισμός Υπολογιστών με Python\n"
     ],
     "output_type": "stream"
    }
   ],
   "source": [
    "def lesson(): # Δεν δέχεται παραμέτρους.\n",
    "  return 'Προγραμματισμός Υπολογιστών με Python'\n",
    "  \n",
    "# Κλήση της συνάρτησης\n",
    "title = lesson()\n",
    "print(title)"
   ],
   "metadata": {
    "collapsed": false,
    "pycharm": {
     "name": "#%%\n",
     "is_executing": false
    }
   }
  },
  {
   "cell_type": "markdown",
   "source": [
    "Παρατηρήστε ότι χρησιμοποιήσαμε την μεταβλητή `title` για να αποθηκεύσουμε το\n",
    "αποτέλεσμα που επέστρεψε η συνάρτηση.\n",
    "\n",
    "## Ροή Εκτέλεσης\n",
    "Μια κλήση συνάρτησης είναι σαν μια παράκαμψη στη ροή της εκτέλεσης. \n",
    "Αντί η ροή να πάει στην επόμενη δήλωση, περνάει στο σώμα της συνάρτησης, \n",
    "εκτελεί όλες τις δηλώσεις εκεί και μετά επιστρέφει για να συνεχίσει από εκεί \n",
    "που σταμάτησε. \n",
    "\n",
    "### Παράδειγμα #2\n",
    "Μπορούμε να καλέσουμε συνάρτηση από το σώμα μιας άλλης συνάρτησης."
   ],
   "metadata": {
    "collapsed": false,
    "pycharm": {
     "name": "#%% md\n"
    }
   }
  },
  {
   "cell_type": "code",
   "execution_count": 11,
   "outputs": [
    {
     "name": "stdout",
     "text": [
      "Προγραμματισμός Υπολογιστών με Python\n",
      "Προγραμματισμός Υπολογιστών με Java\n"
     ],
     "output_type": "stream"
    }
   ],
   "source": [
    "def lesson():\n",
    "  return 'Προγραμματισμός Υπολογιστών με '\n",
    "\n",
    "def python_lesson():\n",
    "  title = lesson() # Σταματάει η ροή εδώ μέχρι να τελειώσει η lesson()\n",
    "  python_title = title + 'Python' # H lesson() έχει τελειώσει.\n",
    "  return python_title\n",
    "  \n",
    "def java_lesson():\n",
    "  title = lesson() # Σταματάει η ροή εδώ μέχρι να τελειώσει η lesson()\n",
    "  java_title = title + 'Java'  # Η lesson() έχει τελειώσει.\n",
    "  return java_title\n",
    "\n",
    "print(python_lesson())  # Η ροή σταματάει μέχρι να τελειώσει η python_lesson()\n",
    "print(java_lesson())  # Η ροή σταματάει μέχρι να τελειώσει η java_lesson()"
   ],
   "metadata": {
    "collapsed": false,
    "pycharm": {
     "name": "#%%\n",
     "is_executing": false
    }
   }
  },
  {
   "cell_type": "markdown",
   "source": [
    "Παρατηρούμε ότι οι συναρτήσεις `python_lesson()` και `java_lesson()`\n",
    "χρησιμοποιούν τη συνάρτηση `lesson()` για να φτιάξουν τον τίτλο του μαθήματος.\n",
    "\n",
    "## Κατηγορίες Συναρτήσεων\n",
    "Οι συναρτήσεις μπορούν να κατηγοριοποιηθούν με πολλούς τρόπους.\n",
    "Η πρώτη κατηγοριοποίηση είναι σε εκείνες που:\n",
    "- επιστρέφουν αποτέλεσμα όταν κληθούν (οι περισσότερες από τις \n",
    "ενσωματωμένες που έχουμε δει),\n",
    "- δεν επιστρέφουν αποτέλεσμα (όπως η lesson() στο παράδειγμα #1).\n",
    "\n",
    "Άλλη κατηγοριοποίηση είναι σε εκείνες που:\n",
    "- δεν τροποποιούν το αντικείμενο στο οποίο εφαρμόζονται, όπως"
   ],
   "metadata": {
    "collapsed": false,
    "pycharm": {
     "name": "#%% md\n"
    }
   }
  },
  {
   "cell_type": "code",
   "execution_count": 12,
   "outputs": [
    {
     "name": "stdout",
     "text": [
      "PYTHON\n",
      "Python\n"
     ],
     "output_type": "stream"
    }
   ],
   "source": [
    "lang = 'Python'\n",
    "print(lang.upper())\n",
    "print(lang)"
   ],
   "metadata": {
    "collapsed": false,
    "pycharm": {
     "name": "#%%\n",
     "is_executing": false
    }
   }
  },
  {
   "cell_type": "markdown",
   "source": [
    "- τροποποιούν το αντικείμενο στο οποίο εφαρμόζονται, όπως"
   ],
   "metadata": {
    "collapsed": false,
    "pycharm": {
     "name": "#%% md\n"
    }
   }
  },
  {
   "cell_type": "code",
   "execution_count": 13,
   "outputs": [
    {
     "name": "stdout",
     "text": [
      "['Προγραμματισμός', 'Υπολογιστών', 'με', 'Python']\n"
     ],
     "output_type": "stream"
    }
   ],
   "source": [
    "title = ['Προγραμματισμός', 'Υπολογιστών', 'με']\n",
    "title.append('Python')\n",
    "print(title)"
   ],
   "metadata": {
    "collapsed": false,
    "pycharm": {
     "name": "#%%\n",
     "is_executing": false
    }
   }
  },
  {
   "cell_type": "markdown",
   "source": [
    "## Κακές Πρακτικές\n",
    "### Παράδειγμα #3 (προς αποφυγή!)\n",
    "Όταν έχουν δηλώσει μία συνάρτηση *δεν δίνουμε* το όνομά της ως όνομα μεταβλητής\n",
    "αλλού στο πρόγραμμα.\n",
    "Το όνομα της συνάρτησης δείχνει σε μια θέση μνήμης όπου είναι αποθηκευμένες οι\n",
    "εντολές.\n",
    "Αν το χρησιμοποιήσουμε ως μεταβλητή, τότε το ίδιο όνομα θα δείξει σε μία *άλλη*\n",
    "θέση μνήμης και έτσι **χάνεται** η συνάρτηση.\n",
    "\n",
    "Δείτε το προηγούμενο παράδειγμα όπου στο σώμα της `python_lesson()` αντί για\n",
    "`title` έχει μεταβλητή `lesson` που είναι το όνομα της συνάρτησης `lesson()`.\n",
    "Σ' αυτή την περίπτωση θα πάρουμε ένα σφάλμα και το πρόγραμμα θα σταματήσει."
   ],
   "metadata": {
    "collapsed": false,
    "pycharm": {
     "name": "#%% md\n"
    }
   }
  },
  {
   "cell_type": "code",
   "execution_count": 14,
   "outputs": [
    {
     "traceback": [
      "\u001b[0;31m---------------------------------------------------------------------------\u001b[0m",
      "\u001b[0;31mUnboundLocalError\u001b[0m                         Traceback (most recent call last)",
      "\u001b[0;32m<ipython-input-14-7c04e9ebe41d>\u001b[0m in \u001b[0;36m<module>\u001b[0;34m\u001b[0m\n\u001b[1;32m      7\u001b[0m   \u001b[0;32mreturn\u001b[0m \u001b[0mpython_title\u001b[0m\u001b[0;34m\u001b[0m\u001b[0;34m\u001b[0m\u001b[0m\n\u001b[1;32m      8\u001b[0m \u001b[0;34m\u001b[0m\u001b[0m\n\u001b[0;32m----> 9\u001b[0;31m \u001b[0mprint\u001b[0m\u001b[0;34m(\u001b[0m\u001b[0mpython_lesson\u001b[0m\u001b[0;34m(\u001b[0m\u001b[0;34m)\u001b[0m\u001b[0;34m)\u001b[0m\u001b[0;34m\u001b[0m\u001b[0;34m\u001b[0m\u001b[0m\n\u001b[0m",
      "\u001b[0;32m<ipython-input-14-7c04e9ebe41d>\u001b[0m in \u001b[0;36mpython_lesson\u001b[0;34m()\u001b[0m\n\u001b[1;32m      3\u001b[0m \u001b[0;34m\u001b[0m\u001b[0m\n\u001b[1;32m      4\u001b[0m \u001b[0;32mdef\u001b[0m \u001b[0mpython_lesson\u001b[0m\u001b[0;34m(\u001b[0m\u001b[0;34m)\u001b[0m\u001b[0;34m:\u001b[0m\u001b[0;34m\u001b[0m\u001b[0;34m\u001b[0m\u001b[0m\n\u001b[0;32m----> 5\u001b[0;31m   \u001b[0mlesson\u001b[0m \u001b[0;34m=\u001b[0m \u001b[0mlesson\u001b[0m\u001b[0;34m(\u001b[0m\u001b[0;34m)\u001b[0m  \u001b[0;31m# Η μεταβλητή έχει το όνομα της συνάρτησης!\u001b[0m\u001b[0;34m\u001b[0m\u001b[0;34m\u001b[0m\u001b[0m\n\u001b[0m\u001b[1;32m      6\u001b[0m   \u001b[0mpython_title\u001b[0m \u001b[0;34m=\u001b[0m \u001b[0mlesson\u001b[0m \u001b[0;34m+\u001b[0m \u001b[0;34m'Python'\u001b[0m\u001b[0;34m\u001b[0m\u001b[0;34m\u001b[0m\u001b[0m\n\u001b[1;32m      7\u001b[0m   \u001b[0;32mreturn\u001b[0m \u001b[0mpython_title\u001b[0m\u001b[0;34m\u001b[0m\u001b[0;34m\u001b[0m\u001b[0m\n",
      "\u001b[0;31mUnboundLocalError\u001b[0m: local variable 'lesson' referenced before assignment"
     ],
     "ename": "UnboundLocalError",
     "evalue": "local variable 'lesson' referenced before assignment",
     "output_type": "error"
    }
   ],
   "source": [
    "def lesson():\n",
    "  return 'Προγραμματισμός Υπολογιστών με '\n",
    "\n",
    "def python_lesson():\n",
    "  lesson = lesson()  # Η μεταβλητή έχει το όνομα της συνάρτησης!\n",
    "  python_title = lesson + 'Python'\n",
    "  return python_title\n",
    "  \n",
    "print(python_lesson())  "
   ],
   "metadata": {
    "collapsed": false,
    "pycharm": {
     "name": "#%%\n",
     "is_executing": false
    }
   }
  },
  {
   "cell_type": "markdown",
   "source": [
    "Μπορούμε να δούμε τη θέση μνήμης της συνάρτησης αν εκτυπώσουμε το όνομά της."
   ],
   "metadata": {
    "collapsed": false,
    "pycharm": {
     "name": "#%% md\n"
    }
   }
  },
  {
   "cell_type": "code",
   "execution_count": 15,
   "outputs": [
    {
     "name": "stdout",
     "text": [
      "<function lesson at 0x7fbc583fe7b8>\n"
     ],
     "output_type": "stream"
    }
   ],
   "source": [
    "def lesson():\n",
    "  return 'Προγραμματισμός Υπολογιστών με '\n",
    "\n",
    "print(lesson)"
   ],
   "metadata": {
    "collapsed": false,
    "pycharm": {
     "name": "#%%\n",
     "is_executing": false
    }
   }
  },
  {
   "cell_type": "markdown",
   "source": [
    "### Παράδειγμα #4 (προς αποφυγή!)\n",
    "Όπως έχουμε αναφέρει το `return` είναι μία εντολή και αν χρησιμοποιηθεί σε λάθος\n",
    "σημείο θα δημιουργήσει τμήματα του κώδικα της συνάρτησης που δεν θα εκτελεστούν."
   ],
   "metadata": {
    "collapsed": false,
    "pycharm": {
     "name": "#%% md\n"
    }
   }
  },
  {
   "cell_type": "code",
   "execution_count": 16,
   "outputs": [
    {
     "name": "stdout",
     "text": [
      "Προγραμματισμός Υπολογιστών με \n"
     ],
     "output_type": "stream"
    }
   ],
   "source": [
    "def lesson():\n",
    "    title = 'Προγραμματισμός '\n",
    "    title += 'Υπολογιστών '\n",
    "    title += 'με '\n",
    "    return title  # Η εντολή που ακολουθεί το return δε θα εκτελεστεί ποτέ!\n",
    "    title += 'Python '\n",
    "\n",
    "print(lesson())\n"
   ],
   "metadata": {
    "collapsed": false,
    "pycharm": {
     "name": "#%%\n",
     "is_executing": false
    }
   }
  },
  {
   "cell_type": "code",
   "execution_count": null,
   "outputs": [],
   "source": [
    "\n"
   ],
   "metadata": {
    "collapsed": false,
    "pycharm": {
     "name": "#%%\n"
    }
   }
  }
 ],
 "metadata": {
  "kernelspec": {
   "display_name": "Python 3",
   "language": "python",
   "name": "python3"
  },
  "language_info": {
   "codemirror_mode": {
    "name": "ipython",
    "version": 2
   },
   "file_extension": ".py",
   "mimetype": "text/x-python",
   "name": "python",
   "nbconvert_exporter": "python",
   "pygments_lexer": "ipython2",
   "version": "2.7.6"
  },
  "pycharm": {
   "stem_cell": {
    "cell_type": "raw",
    "source": [],
    "metadata": {
     "collapsed": false
    }
   }
  }
 },
 "nbformat": 4,
 "nbformat_minor": 0
}
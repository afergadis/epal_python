{
 "cells": [
  {
   "cell_type": "markdown",
   "metadata": {
    "collapsed": true,
    "pycharm": {
     "name": "#%% md\n"
    }
   },
   "source": [
    "# Παράμετροι Συναρτήσεων\n",
    "Μια συνάρτηση αποτελεί ένα ανεξάρτητο τμήμα προγράμματος που μπορεί να καλείται\n",
    "από σημεία του προγράμματος.\n",
    "Δέχεται τιμές από το τμήμα προγράμματος που το καλεί (το κύριο πρόγραμμα ή άλλη\n",
    "συνάρτηση) και μετά την εκτέλεση των εντολών του επιστρέφει σε αυτό νέες τιμές,\n",
    "δηλαδή τα αποτελέσματα.\n",
    "Οι τιμές αυτές που μεταβιβάζονται από τη μία συνάρτηση στην άλλη λέγονται\n",
    "*παράμετροι* και γενικά σε γλώσσες προγραμματισμού διακρίνονται σε παραμέτρους\n",
    "*Εισόδου* και *Εξόδου*.\n",
    "Οι παράμετροι είναι μεταβλητές οι οποίες χρησιμοποιούνται για τη μεταβίβαση\n",
    "τιμών μεταξύ συναρτήσεων ή συναρτήσεων και κύριου προγράμματος.\n",
    "\n",
    "Μια συνάρτηση μπορεί να δεχθεί παραμέτρους, οι οποίες είναι τιμές που δίνονται\n",
    "/ εισέρχονται στη συνάρτηση, έτσι ώστε αυτή να μπορεί να λειτουργήσει\n",
    "αξιοποιώντας αυτές τις τιμές.\n",
    "Οι παράμετροι μοιάζουν με τις μεταβλητές, καθορίζονται μέσα στο ζευγάρι των\n",
    "παρενθέσεων, στον ορισμό της συνάρτησης και διαχωρίζονται με κόμμα, ενώ οι τιμές\n",
    "αυτών των μεταβλητών ορίζονται όταν καλούμε τη συνάρτηση.\n",
    "\n",
    "## Παράδειγμα #1\n",
    "Θα δούμε ένα παράδειγμα συνάρτησης που δέχεται μία παράμετρο"
   ]
  },
  {
   "cell_type": "code",
   "execution_count": 1,
   "metadata": {
    "pycharm": {
     "name": "#%%\n"
    }
   },
   "outputs": [
    {
     "name": "stdout",
     "output_type": "stream",
     "text": [
      "Προγραμματισμός Υπολογιστών με Python\n",
      "Προγραμματισμός Υπολογιστών με C++\n",
      "Προγραμματισμός Υπολογιστών με Java\n"
     ]
    }
   ],
   "source": [
    "def lesson(programming_language):\n",
    "    \"\"\" Δημιουργεί ένα κείμενο με το λεκτικό 'Προγραμματισμός Υπολογιστών με'\n",
    "        και ακολουθεί το κείμενο της παραμέτρου `programming_language`.\n",
    "\n",
    "        Παράμετροι\n",
    "        ----------\n",
    "        programming_language : str\n",
    "            Το όνομα της γλώσσας προγραμματισμού πού θέλουμε να επιστραφεί στο\n",
    "            κείμενο.\n",
    "\n",
    "        Επιστρέφει\n",
    "        ----------\n",
    "        str\n",
    "    \"\"\"\n",
    "    message = 'Προγραμματισμός Υπολογιστών με ' + str(programming_language)\n",
    "    return message\n",
    "\n",
    "print(lesson('Python'))  # Όρισμα: Python\n",
    "print(lesson('C++'))  # Όρισμα: C++\n",
    "prog_language = 'Java'\n",
    "print(lesson(prog_language))  # Όρισμα: prog_language"
   ]
  },
  {
   "cell_type": "markdown",
   "metadata": {
    "pycharm": {
     "name": "#%% md\n"
    }
   },
   "source": [
    "Για να καλέσουμε την `lesson()` *πρέπει* να δώσουμε τιμή στην παράμετρό της.\n",
    "Η τιμή που δίνουμε στη κλήση της συνάρτηση ονομάζεται **όρισμα** (argument).\n",
    "\n",
    "Σε περίπτωση που παραλείψουμε το όρισμα θα πάρουμε ένα σφάλμα\n",
    "[TypeError](https://docs.python.org/3.6/library/exceptions.html#TypeError)."
   ]
  },
  {
   "cell_type": "code",
   "execution_count": 2,
   "metadata": {
    "pycharm": {
     "name": "#%%\n"
    }
   },
   "outputs": [
    {
     "ename": "TypeError",
     "evalue": "lesson() missing 1 required positional argument: 'programming_language'",
     "output_type": "error",
     "traceback": [
      "\u001B[0;31m---------------------------------------------------------------------------\u001B[0m",
      "\u001B[0;31mTypeError\u001B[0m                                 Traceback (most recent call last)",
      "\u001B[0;32m<ipython-input-2-dcb3c0b2ec25>\u001B[0m in \u001B[0;36m<module>\u001B[0;34m\u001B[0m\n\u001B[0;32m----> 1\u001B[0;31m \u001B[0mprint\u001B[0m\u001B[0;34m(\u001B[0m\u001B[0mlesson\u001B[0m\u001B[0;34m(\u001B[0m\u001B[0;34m)\u001B[0m\u001B[0;34m)\u001B[0m\u001B[0;34m\u001B[0m\u001B[0;34m\u001B[0m\u001B[0m\n\u001B[0m\u001B[1;32m      2\u001B[0m \u001B[0;34m\u001B[0m\u001B[0m\n",
      "\u001B[0;31mTypeError\u001B[0m: lesson() missing 1 required positional argument: 'programming_language'"
     ]
    }
   ],
   "source": [
    "print(lesson())"
   ]
  },
  {
   "cell_type": "markdown",
   "metadata": {
    "pycharm": {
     "name": "#%% md\n"
    }
   },
   "source": [
    "## Παράδειγμα #2\n",
    "Η επόμενη συνάρτηση δέχεται δύο παραμέτρους.\n",
    "Όταν την καλέσουμε θα πρέπει να δώσουμε ορίσματα και στις δύο.\n",
    "Αυτό γενικεύεται, όπως είναι λογικό, σε οποιονδήποτε αριθμό παραμέτρων.\n"
   ]
  },
  {
   "cell_type": "code",
   "execution_count": 8,
   "metadata": {
    "pycharm": {
     "name": "#%%\n"
    }
   },
   "outputs": [
    {
     "name": "stdout",
     "output_type": "stream",
     "text": [
      "Μεγαλύτερο είναι το: 2\n",
      "Μεγαλύτερο είναι το: 3\n",
      "Μεγαλύτερο είναι το: 4\n",
      "Μεγαλύτερο είναι το: β\n",
      "Μεγαλύτερο είναι το: β\n",
      "Μεγαλύτερο είναι το: γ\n"
     ]
    }
   ],
   "source": [
    "def get_max(a, b):\n",
    "    \"\"\" Βρίσκει τη μεγαλύτερη από τις παραμέτρους.\n",
    "\n",
    "        Παράμετροι\n",
    "        ----------\n",
    "        a, b : int or str\n",
    "\n",
    "        Επιστρέφει\n",
    "        ----------\n",
    "        int or str\n",
    "            Επιστρέφει τη μεγαλύτερη τιμή από τις παραμέτρους.\n",
    "    \"\"\"\n",
    "    m = a\n",
    "    if b > a:\n",
    "        m = b\n",
    "\n",
    "    return m\n",
    "\n",
    "print('Μεγαλύτερο είναι το: ' + str(get_max(1, 2)))\n",
    "print('Μεγαλύτερο είναι το: ' + str(get_max(3, 3)))\n",
    "print('Μεγαλύτερο είναι το: ' + str(get_max(4, 3)))\n",
    "print('Μεγαλύτερο είναι το: ' + str(get_max('α', 'β')))\n",
    "print('Μεγαλύτερο είναι το: ' + str(get_max('β', 'β')))\n",
    "print('Μεγαλύτερο είναι το: ' + str(get_max('γ', 'β')))"
   ]
  },
  {
   "cell_type": "markdown",
   "metadata": {
    "pycharm": {
     "name": "#%% md\n"
    }
   },
   "source": [
    "Η απλή παραπάνω συνάρτηση μπορεί να χρησιμοποιηθεί για να να βρούμε το\n",
    "μεγαλύτερο τριών ή περισσοτέρων παραμέτρων."
   ]
  },
  {
   "cell_type": "code",
   "execution_count": 4,
   "metadata": {
    "pycharm": {
     "name": "#%%\n"
    }
   },
   "outputs": [
    {
     "name": "stdout",
     "output_type": "stream",
     "text": [
      "Μεγαλύτερο είναι το: 6\n",
      "Μεγαλύτερο είναι το: 6\n",
      "Μεγαλύτερο είναι το: 6\n"
     ]
    }
   ],
   "source": [
    "# Max of 3, 6, 2\n",
    "print('Μεγαλύτερο είναι το: ' + str(get_max(3, get_max(6, 2))))\n",
    "print('Μεγαλύτερο είναι το: ' + str(get_max(get_max(3, 6), 2)))\n",
    "print('Μεγαλύτερο είναι το: ' + str(get_max(get_max(3, 2), 6)))"
   ]
  },
  {
   "cell_type": "markdown",
   "metadata": {
    "pycharm": {
     "name": "#%% md\n"
    }
   },
   "source": [
    "Απλά καλούμε την συνάρτηση και το αποτέλεσμά της δίνεται ως νέα παράμετρος.\n",
    "Έχουμε, δηλαδή, έμφωλευμένες τις συναρτήσεις.\n",
    "Παρατηρήστε ότι *στο συγκεκριμένο* παράδειγμα η σειρά δεν έχει σημασία.\n",
    "\n",
    "## Παράδειγμα #3\n",
    "Θα δώσουμε ένα παράδειγμα μιας συνάρτησης με τέσσερις μεταβλητές.\n",
    "Θέλουμε η συνάρτηση να επιστρέφει την απόσταση δύο σημείων στο καρτεσιανό\n",
    "επίπεδο.\n",
    "Η εξίσωση της απόσταστης είναι:\n",
    "\n",
    "$$d = \\sqrt{(x_1 - x_2)^2 + (y_1 - y_2)^2}$$"
   ]
  },
  {
   "cell_type": "code",
   "execution_count": 10,
   "metadata": {
    "pycharm": {
     "name": "#%%\n"
    }
   },
   "outputs": [
    {
     "name": "stdout",
     "output_type": "stream",
     "text": [
      "Απόσταση μεταξύ των σημείων (1, 0) και (2, 3): 3.1622776601683795\n"
     ]
    }
   ],
   "source": [
    "from math import sqrt\n",
    "\n",
    "def euclidean_distance(x1, y1, x2, y2):\n",
    "    \"\"\" Υπολογισμός της Ευκλείδιας απόστασης μεταξύ δύο σημείων (x1, y1) και\n",
    "        (x2, y2).\n",
    "\n",
    "        Η απόσταση υπολογίζεται από την εξίσωση:\n",
    "\n",
    "        .. math ::\n",
    "            d = \\\\sqrt{(x_1 - x_2)^2 + (y_1 - y_2)^2}\n",
    "\n",
    "        Παράμετροι\n",
    "        ----------\n",
    "        x1, y1, x2, y2 : int\n",
    "            Οι συντεταγμένες των δύο σημείων.\n",
    "\n",
    "        Επιστρέφει\n",
    "        ----------\n",
    "        float\n",
    "            Η απόσταση μεταξύ των σημείων.\n",
    "\n",
    "        Αναφορές\n",
    "        --------\n",
    "        .. [1] Βικιπαίδεια, \"Ευκλείδεια μετρική\"\n",
    "               https://el.wikipedia.org/wiki/Ευκλείδεια_μετρική\n",
    "    \"\"\"\n",
    "    a = (x1 - x2) ** 2\n",
    "    b = (y1 - y2) ** 2\n",
    "    d = sqrt(a + b)\n",
    "    return d\n",
    "\n",
    "p_x, p_y = 1, 0  # Συντεταγμένες του σημείου p: (1, 0)\n",
    "q_x, q_y = 2, 3  # Συντεταγμένες του σημείου q: (2, 3)\n",
    "\n",
    "print('Απόσταση μεταξύ των σημείων (' + str(p_x) + ', ' + str(p_y) + ') '\n",
    "      'και ('  + str(q_x) + ', ' + str(q_y) + '): ', end='')\n",
    "distance = euclidean_distance(p_x, p_y, q_x, q_y)\n",
    "print(distance)"
   ]
  },
  {
   "cell_type": "markdown",
   "metadata": {},
   "source": [
    "<h2><span style=\"color:#007bff\">Προεπιλεγμένη Τιμή Παραμέτρων (εκτός ύλης)</span></h2>\n",
    "<div class=\"alert alert-info\">\n",
    "Μπορούμε να δώσουμε προεπιλεγμένες τιμές σε μία ή περισσότερες παραμέτρους της\n",
    "συνάρτησης.\n",
    "Όταν κατά την κλήση της δε δοθεί όρισμα σε παράμετρο που έχει προεπιλεγμένη \n",
    "τιμή, τότε χρησιμοποιείται η προεπιλεγμένη.\n",
    "\n",
    "Δίνουμε την προεπιλεγμένη τιμή στην παράμετρο γράφοντας \n",
    "`parameter_name=default_value`.\n",
    "</div>"
   ]
  },
  {
   "cell_type": "code",
   "execution_count": null,
   "metadata": {
    "pycharm": {
     "name": "#%%\n"
    }
   },
   "outputs": [],
   "source": [
    "def lesson(programming_language='Python'):\n",
    "    \"\"\" Δημιουργεί ένα κείμενο με το λεκτικό 'Προγραμματισμός Υπολογιστών με'\n",
    "        και ακολουθεί το κείμενο της παραμέτρου `programming_language`.\n",
    "\n",
    "        Παράμετροι\n",
    "        ----------\n",
    "        programming_language : str, προεπιλεγμένη 'Python'\n",
    "            Το όνομα της γλώσσας προγραμματισμού πού θέλουμε να επιστραφεί στο\n",
    "            κείμενο.\n",
    "\n",
    "        Επιστρέφει\n",
    "        ----------\n",
    "        str\n",
    "    \"\"\"\n",
    "    message = 'Προγραμματισμός Υπολογιστών με ' + str(programming_language)\n",
    "    return message\n",
    "\n",
    "print(lesson())  # Κλήση χωρίς όρισμα. Θα χρησιμοποιηθεί η προεπιλεγμένη τιμή.\n",
    "print(lesson('JavaScript'))"
   ]
  },
  {
   "cell_type": "markdown",
   "metadata": {
    "pycharm": {
     "name": "#%% md\n"
    }
   },
   "source": [
    "<div class=\"alert alert-info\">\n",
    "Δεν είναι απαραίτητο να έχουν όλες οι παράμετροι προεπιλεγμένες τιμές.\n",
    "Είναι όμως απαραίτητο να *προηγούνται* οι παράμετροι του *δεν* έχουν\n",
    "προεπιλεγμένες τιμές.\n",
    "\n",
    "Αν για παράδειγμα, στη συνάρτηση `euclidean_distance` θέλουμε όταν δωθεί\n",
    "ένα σημείο $(x_1, y_1)$ να υπολογίζεται η απόστασή του από την αρχή των αξόνων\n",
    "$(0, 0)$, τότε μπορούμε να την ορίσουμε ως εξής:\n",
    "\n",
    "```python\n",
    "def euclidean_distance(x1, y1, x2=0, y2=0):\n",
    "    pass\n",
    "```\n",
    "\n",
    "Αν δωθούν τιμές στις `x2` και `y2`, τότε θα χρησιμοποιηθούν αυτές.\n",
    "</div>"
   ]
  },
  {
   "cell_type": "code",
   "execution_count": 3,
   "metadata": {
    "pycharm": {
     "name": "#%%\n"
    }
   },
   "outputs": [
    {
     "name": "stdout",
     "output_type": "stream",
     "text": [
      "Απόσταση μεταξύ των σημείων (3, 2) και (0, 0): 3.605551275463989\n",
      "Απόσταση μεταξύ των σημείων (3, 2) και (1, 3): 2.23606797749979\n"
     ]
    }
   ],
   "source": [
    "from math import sqrt\n",
    "\n",
    "def euclidean_distance(x1, y1, x2=0, y2=0):\n",
    "    \"\"\" Υπολογισμός της Ευκλείδιας απόστασης μεταξύ δύο σημείων (x1, y1) και\n",
    "        (x2, y2).\n",
    "\n",
    "        Η απόσταση υπολογίζεται από την εξίσωση:\n",
    "\n",
    "        .. math ::\n",
    "            d = \\\\sqrt{(x_1 - x_2)^2 + (y_1 - y_2)^2}\n",
    "\n",
    "        Παράμετροι\n",
    "        ----------\n",
    "        x1, y1 : int\n",
    "            Οι συντεταγμένες του πρώτου σημείου.\n",
    "        x2, y2 : int, προεπιλεγμένη τιμή 0\n",
    "            Οι συντεταγμένες του δεύτερου σημείου.\n",
    "\n",
    "        Επιστρέφει\n",
    "        ----------\n",
    "        float\n",
    "            Η απόσταση μεταξύ των σημείων.\n",
    "\n",
    "        Αναφορές\n",
    "        --------\n",
    "        .. [1] Βικιπαίδεια, \"Ευκλείδεια μετρική\"\n",
    "               https://el.wikipedia.org/wiki/Ευκλείδεια_μετρική\n",
    "    \"\"\"\n",
    "    a = (x1 - x2) ** 2\n",
    "    b = (y1 - y2) ** 2\n",
    "    d = sqrt(a + b)\n",
    "    return d\n",
    "\n",
    "p_x, p_y = 3, 2  # Συντεταγμένες του σημείου p: (1, 0)\n",
    "q_x, q_y = 1, 3  # Συντεταγμένες του σημείου q: (2, 3)\n",
    "\n",
    "print('Απόσταση μεταξύ των σημείων (' + str(p_x) + ', ' + str(p_y) + ') '\n",
    "      'και (0, 0): ', end='')\n",
    "print(euclidean_distance(p_x, p_y))\n",
    "\n",
    "print('Απόσταση μεταξύ των σημείων (' + str(p_x) + ', ' + str(p_y) + ') '\n",
    "      'και ('  + str(q_x) + ', ' + str(q_y) + '): ', end='')\n",
    "distance = euclidean_distance(p_x, p_y, q_x, q_y)\n",
    "print(distance)\n"
   ]
  }
 ],
 "metadata": {
  "hide_input": false,
  "kernelspec": {
   "display_name": "Python 3",
   "language": "python",
   "name": "python3"
  },
  "language_info": {
   "codemirror_mode": {
    "name": "ipython",
    "version": 3
   },
   "file_extension": ".py",
   "mimetype": "text/x-python",
   "name": "python",
   "nbconvert_exporter": "python",
   "pygments_lexer": "ipython3",
   "version": "3.6.9"
  },
  "latex_envs": {
   "LaTeX_envs_menu_present": true,
   "autoclose": true,
   "autocomplete": false,
   "bibliofile": "refs.bib",
   "cite_by": "apalike",
   "current_citInitial": 1,
   "eqLabelWithNumbers": true,
   "eqNumInitial": 1,
   "hotkeys": {
    "equation": "Ctrl-E",
    "itemize": "Ctrl-I"
   },
   "labels_anchors": false,
   "latex_user_defs": false,
   "report_style_numbering": false,
   "user_envs_cfg": false
  },
  "toc": {
   "base_numbering": 1,
   "nav_menu": {},
   "number_sections": true,
   "sideBar": true,
   "skip_h1_title": false,
   "title_cell": "Table of Contents",
   "title_sidebar": "Contents",
   "toc_cell": false,
   "toc_position": {},
   "toc_section_display": true,
   "toc_window_display": false
  }
 },
 "nbformat": 4,
 "nbformat_minor": 1
}
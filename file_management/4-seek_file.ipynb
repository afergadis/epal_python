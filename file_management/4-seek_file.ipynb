{
 "cells": [
  {
   "cell_type": "markdown",
   "metadata": {
    "collapsed": true,
    "pycharm": {
     "name": "#%% md\n"
    }
   },
   "source": [
    "# Εντοπισμός Θέσης στο Αρχείο\n",
    "\n",
    "Ένα ανοιχτό αρχείο μπορεί να διαβαστεί κατά τμήματα.\n",
    "Σε αυτή την περίπτωση είναι χρήσιμο να έχουμε έναν τρόπο να ξέρουμε που \n",
    "βρισκόμαστε μέσα στο αρχείο."
   ]
  },
  {
   "cell_type": "code",
   "execution_count": 1,
   "metadata": {
    "pycharm": {
     "is_executing": false,
     "name": "#%% \n"
    }
   },
   "outputs": [
    {
     "name": "stdout",
     "output_type": "stream",
     "text": [
      "Μέγεθος αρχείου: 611 bytes\n"
     ]
    }
   ],
   "source": [
    "import os\n",
    "\n",
    "file_path = './files/sun.txt'\n",
    "file_size = os.path.getsize(file_path)\n",
    "print('Μέγεθος αρχείου: ' + str(file_size) + ' bytes')"
   ]
  },
  {
   "cell_type": "markdown",
   "metadata": {
    "pycharm": {
     "name": "#%% md\n"
    }
   },
   "source": [
    "Η μέθοδος `tell()` του περιγραφέα του αρχείου μας επιστρέφει έναν αριθμό ο \n",
    "οποίος δηλώνει σε ποιο χαρακτήρα βρισκόμαστε.\n",
    "Η αρίθμηση ξεκινάει από το 0.\n",
    "Περιμένουμε, λοιπόν, ότι για ένα αρχείο που μόλις ανοίξαμε, η μέθοδος θα \n",
    "επιστρέψει 0."
   ]
  },
  {
   "cell_type": "code",
   "execution_count": 2,
   "metadata": {
    "pycharm": {
     "is_executing": false,
     "name": "#%%\n"
    }
   },
   "outputs": [
    {
     "data": {
      "text/plain": [
       "0"
      ]
     },
     "execution_count": 2,
     "metadata": {},
     "output_type": "execute_result"
    }
   ],
   "source": [
    "fp = open('./files/sun.txt')\n",
    "fp.tell()"
   ]
  },
  {
   "cell_type": "markdown",
   "metadata": {
    "pycharm": {
     "name": "#%% md\n"
    }
   },
   "source": [
    "Καθώς διαβάζουμε απ' το αρχείο θα δούμε πως αλλάζει και η θέση μας σ' αυτό."
   ]
  },
  {
   "cell_type": "code",
   "execution_count": 3,
   "metadata": {
    "pycharm": {
     "is_executing": false,
     "name": "#%%\n"
    }
   },
   "outputs": [
    {
     "name": "stdout",
     "output_type": "stream",
     "text": [
      "Ο Ήλιος\n",
      "\n",
      "14\n"
     ]
    }
   ],
   "source": [
    "print(fp.readline())\n",
    "print(fp.tell())\n",
    "fp.close()"
   ]
  },
  {
   "cell_type": "markdown",
   "metadata": {
    "pycharm": {
     "name": "#%% md\n"
    }
   },
   "source": [
    "Αν και εμφανίζονται 8 χαρακτήρες (υπάρχει και μια αλλαγή γραμμής), η `tell()` \n",
    "μας λέει ότι βρισκόμαστε στη θέση 14.\n",
    "Αυτό συμβαίνει διότι οι χαρακτήρες είναι στα Ελληνικά και κάθε ένας \n",
    "καταλαμβάνει δύο byte.\n",
    "Όμως οι χαρακτήρες *κενό* και *αλλαγή γραμμής* μετράνε για 1 byte.\n",
    "\n",
    "Έτσι έχουμε:\n",
    "\n",
    "| Χαρακτήρες | Bytes |\n",
    "|------------|------:|\n",
    "| Ο          | 2     |\n",
    "| *κενό*     | 1     |\n",
    "| Ή          | 2     |\n",
    "| λ          | 2     |\n",
    "| ι          | 2     |\n",
    "| ο          | 2     |\n",
    "| ς          | 2     |\n",
    "| \\n         | 1     |\n",
    "\n",
    "Σύνολο: 14\n",
    "\n",
    "Αν το αρχείο έχει Λατινικούς χαρακτήρες, τότε ο καθένας έχει μέγεθος ένα byte\n",
    "όπως φαίνεται και στο παρακάτω παράδειγμα."
   ]
  },
  {
   "cell_type": "code",
   "execution_count": 4,
   "metadata": {
    "pycharm": {
     "is_executing": false,
     "name": "#%%\n"
    }
   },
   "outputs": [
    {
     "name": "stdout",
     "output_type": "stream",
     "text": [
      "The Sun\n",
      "7\n"
     ]
    }
   ],
   "source": [
    "fs = open('./files/sun_en.txt')\n",
    "print(fs.readline())\n",
    "print(fs.tell())\n",
    "fs.close()"
   ]
  },
  {
   "cell_type": "markdown",
   "metadata": {
    "pycharm": {
     "name": "#%% md\n"
    }
   },
   "source": [
    "# Αλλαγή Θέσης στο Αρχείο\n",
    "\n",
    "Διαβάζοντας ένα αρχείο αλλάζει και η θέση μας σ' αυτό.\n",
    "Αν θέλουμε να μετακινηθούμε χωρίς να διαβάσουμε, χρησιμοποιούμε τη μέθοδο \n",
    "`seek(offset[, whence])`.\n",
    "Η μέθοδος έχει δύο παραμέτρους: η `offset` δηλώνει τον αριθμό των bytes, ενώ \n",
    "η `whence`, που είναι προεραιτική, τον τρόπο.\n",
    "Στην παράμετρο `whence` μπορούμε να δώσουμε αριθμό ή σταθερά αν έχουμε κάνει \n",
    "εισαγωγή το άρθρωμα `os`.\n",
    "Ο παρακάτω πίνακας διευκρινίζει τη χρήση της.\n",
    "\n",
    "\n",
    "| Αριθμητική Τιμή | Συμβολική Σταθερά | Επεξήγηση                                                                      |\n",
    "|:---------------:|:-----------------:|--------------------------------------------------------------------------------|\n",
    "|        0        |    os.SEEK_SET    | Μετακίνηση στη θέση `offset` ξεκινώντας απο την αρχή του αρχείου.              |\n",
    "|        1        |    os.SEEK_CUR    | Μετακίνηση κατά `offset` χαρακτήρες ξεκινώντας από τη θέση που βρίσκομαι τώρα. |\n",
    "|        2        |    os.SEEK_END    | Μετακίνηση κατά `offset` χαρακτήρες ξεκινώντας από το τέλος του αρχείου.       |\n",
    "\n",
    "Αν η δε δοθεί τιμή στην παράμετρο `whence`, τότε αυτή παίρνει την τιμή 0.\n",
    "\n",
    "Αν εκτυπώσουμε τις συμβολικές σταθερές, θα δούμε ότι ουσιαστικά είναι οι \n",
    "αριθμοί της πρώτης στήλης.\n",
    "Πολλές φορές όμως είναι πιο εύκολο να θυμόμαστε τις σταθερές απ' ότι τους \n",
    "αριθμούς.\n",
    " "
   ]
  },
  {
   "cell_type": "code",
   "execution_count": 5,
   "metadata": {
    "pycharm": {
     "is_executing": false,
     "name": "#%%\n"
    }
   },
   "outputs": [
    {
     "name": "stdout",
     "output_type": "stream",
     "text": [
      "os.SEEK_SET = 0\n",
      "os.SEEK_CUR = 1\n",
      "os.SEEK_END = 2\n"
     ]
    }
   ],
   "source": [
    "print('os.SEEK_SET = ' + str(os.SEEK_SET))\n",
    "print('os.SEEK_CUR = ' + str(os.SEEK_CUR))\n",
    "print('os.SEEK_END = ' + str(os.SEEK_END))"
   ]
  },
  {
   "cell_type": "markdown",
   "metadata": {},
   "source": [
    "## Μετακίνηση σε Σχέση με την Αρχή\n",
    "Δινουμε στη `seek()` το byte στο οποίο θέλουμε να πάμε. \n",
    "Μπορούμε να παραλείψουμε την παράμετρο `whence`."
   ]
  },
  {
   "cell_type": "code",
   "execution_count": 6,
   "metadata": {
    "pycharm": {
     "is_executing": false,
     "name": "#%%\n"
    }
   },
   "outputs": [
    {
     "name": "stdout",
     "output_type": "stream",
     "text": [
      "Άνοιγμα αρχείου.\n",
      "Βρισκόμαστε στη θέση: 0\n",
      "Μετακίνηση κατά 14 bytes\n",
      "Βρισκόμαστε στη θέση: 14\n",
      "Οδυσσέας Ελύτης\n",
      "\n"
     ]
    }
   ],
   "source": [
    "print(u'Άνοιγμα αρχείου.')\n",
    "fp = open('./files/sun.txt')\n",
    "print(u'Βρισκόμαστε στη θέση: ' + str(fp.tell()))\n",
    "\n",
    "# Μετακίνηση κατά 14 byte\n",
    "offset = 14\n",
    "print('Μετακίνηση κατά ' + str(offset) + ' bytes')\n",
    "fp.seek(14)\n",
    "print('Βρισκόμαστε στη θέση: ' + str(fp.tell()))\n",
    "\n",
    "# Εμφάνιση της γραμμής.\n",
    "print(fp.readline())"
   ]
  },
  {
   "cell_type": "markdown",
   "metadata": {
    "pycharm": {
     "name": "#%% md\n"
    }
   },
   "source": [
    "**Προσοχή:** Η ανάγνωση έχει μετακινήσει τη θέση μας στο αρχείο."
   ]
  },
  {
   "cell_type": "code",
   "execution_count": 7,
   "metadata": {
    "pycharm": {
     "is_executing": false,
     "name": "#%%\n"
    }
   },
   "outputs": [
    {
     "name": "stdout",
     "output_type": "stream",
     "text": [
      "Βρισκόμαστε στη θέση: 44\n"
     ]
    }
   ],
   "source": [
    "print('Βρισκόμαστε στη θέση: ' + str(fp.tell()))\n",
    "fp.close()"
   ]
  },
  {
   "cell_type": "markdown",
   "metadata": {
    "pycharm": {
     "name": "#%% md\n"
    }
   },
   "source": [
    "##  Μετακίνηση σε Σχέση με την Τρέχουσα Θέση\n",
    "Για αυτή τη μετακίνηση *πρέπει* να δώσουμε την τιμή 1 (`os.SEEK_CUR`) στην \n",
    "`seek()`.\n",
    "\n",
    "**ΠΡΟΣΟΧΗ**: Η λειτουργία της `seek` σε Python 3 είναι διαφορετική απ' ότι σε\n",
    "Python 2. Για να δώσουμε ένα παράδειγμα όπως στην ύλη του βιβλίου εκτελούμε\n",
    "το παρακάτω κελί με Python 2.\n",
    "Για να κρατήσουμε τον ίδιο τρόπο χρήσης της `print()`, δηλαδή ως συνάρτηση,\n",
    "χρησιμοποιούμε το `from __future__ import print_function` στην αρχή του κελιού."
   ]
  },
  {
   "cell_type": "code",
   "execution_count": 8,
   "metadata": {
    "pycharm": {
     "is_executing": false,
     "name": "#%%\n"
    }
   },
   "outputs": [
    {
     "name": "stdout",
     "output_type": "stream",
     "text": [
      "Read a line: Ο Ήλιος\n",
      "\n",
      "Current offset: 14\n",
      "Move by 17 bytes\n",
      "Read to the end of the line: Ελύτης\n",
      "\n"
     ]
    }
   ],
   "source": [
    "%%python2\n",
    "from __future__ import print_function\n",
    "\n",
    "f = open('./files/sun.txt')\n",
    "print('Read a line: ' + f.readline())\n",
    "\n",
    "cur_offset = f.tell()\n",
    "print('Current offset: ' + str(cur_offset))\n",
    "\n",
    "offset = 17\n",
    "print('Move by ' + str(offset) + ' bytes')\n",
    "f.seek(offset, 1)\n",
    "\n",
    "print('Read to the end of the line: ' + f.readline())\n",
    "f.close()"
   ]
  },
  {
   "cell_type": "markdown",
   "metadata": {},
   "source": [
    "## Μετακίνηση σε Σχέση με το Τέλος\n",
    "\n",
    "Γι' αυτή τη μετακίνηση το offset παίρνει *αρνητικές* τιμές.\n",
    "Δηλώνουμε δηλαδή πόσες θέσεις *πριν* το τέλος θέλουμε να πάμε."
   ]
  },
  {
   "cell_type": "code",
   "execution_count": 9,
   "metadata": {
    "pycharm": {
     "is_executing": false,
     "name": "#%%\n"
    }
   },
   "outputs": [
    {
     "name": "stdout",
     "output_type": "stream",
     "text": [
      "File size: 611\n",
      "Current offset: 611\n",
      "Move by -20 bytes\n",
      "Read to the end of the line: τον αγαπώ!»\n"
     ]
    }
   ],
   "source": [
    "%%python2\n",
    "from __future__ import print_function\n",
    "import os\n",
    "\n",
    "file_path = './files/sun.txt'\n",
    "file_size = os.path.getsize(file_path)\n",
    "print('File size: ' + str(file_size))\n",
    "\n",
    "f = open(file_path)\n",
    "f.seek(file_size)  # Move to the end.\n",
    "print('Current offset: ' + str(f.tell()))\n",
    "\n",
    "offset = -20\n",
    "print('Move by ' + str(offset) + ' bytes')\n",
    "f.seek(offset, 2)\n",
    "\n",
    "print('Read to the end of the line: ' + f.readline())\n",
    "f.close()"
   ]
  },
  {
   "cell_type": "code",
   "execution_count": null,
   "metadata": {
    "pycharm": {
     "is_executing": false,
     "name": "#%%\n"
    }
   },
   "outputs": [],
   "source": [
    "\n"
   ]
  }
 ],
 "metadata": {
  "hide_input": false,
  "kernelspec": {
   "name": "pycharm-5452e423",
   "language": "python",
   "display_name": "PyCharm (notebooks)"
  },
  "language_info": {
   "codemirror_mode": {
    "name": "ipython",
    "version": 3
   },
   "file_extension": ".py",
   "mimetype": "text/x-python",
   "name": "python",
   "nbconvert_exporter": "python",
   "pygments_lexer": "ipython3",
   "version": "3.6.7"
  },
  "latex_envs": {
   "LaTeX_envs_menu_present": true,
   "autoclose": true,
   "autocomplete": false,
   "bibliofile": "refs.bib",
   "cite_by": "apalike",
   "current_citInitial": 1,
   "eqLabelWithNumbers": true,
   "eqNumInitial": 1,
   "hotkeys": {
    "equation": "Ctrl-E",
    "itemize": "Ctrl-I"
   },
   "labels_anchors": false,
   "latex_user_defs": false,
   "report_style_numbering": false,
   "user_envs_cfg": false
  },
  "pycharm": {
   "stem_cell": {
    "cell_type": "raw",
    "source": [],
    "metadata": {
     "collapsed": false
    }
   }
  }
 },
 "nbformat": 4,
 "nbformat_minor": 1
}
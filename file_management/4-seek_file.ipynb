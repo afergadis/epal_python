{
 "cells": [
  {
   "cell_type": "markdown",
   "metadata": {
    "collapsed": true,
    "pycharm": {
     "name": "#%% md\n"
    }
   },
   "source": [
    "# Εντοπισμός Θέσης στο Αρχείο\n",
    "\n",
    "Ένα ανοιχτό αρχείο μπορεί να διαβαστεί κατά τμήματα.\n",
    "Σε αυτή την περίπτωση είναι χρήσιμο να έχουμε έναν τρόπο να ξέρουμε που \n",
    "βρισκόμαστε μέσα στο αρχείο.\n",
    "\n",
    "Τα παραδείγματα που ακολουθούν αφορούν το αρχείο `./files/letters.txt'.\n",
    "Το περιεχόμενο του αρχείου είναι η γραμμή:\n",
    "```\n",
    "abcdefghij\n",
    "```\n",
    "Ο πίνακας που ακολουθεί δείχνει τι θα διαβάσουμε ανοίγοντας το αρχείο και\n",
    "εκτελώντας διαδοχικά την `read(1)`.\n",
    "Η πρώτη γραμμή μας δείχνει τη θέση στο αρχείο *πριν* την εκτέλεση της εντολής.\n",
    "\n",
    "<style type=\"text/css\">\n",
    ".tg  {border-collapse:collapse;border-spacing:0;}\n",
    ".tg td{font-family:Arial, sans-serif;font-size:14px;padding:10px 5px;border-style:solid;border-width:0px;overflow:hidden;word-break:normal;border-top-width:1px;border-bottom-width:1px;border-color:black;}\n",
    ".tg th{font-family:Arial, sans-serif;font-size:14px;font-weight:normal;padding:10px 5px;border-style:solid;border-width:0px;overflow:hidden;word-break:normal;border-top-width:1px;border-bottom-width:1px;border-color:black;}\n",
    ".tg .tg-lboi{border-color:inherit;text-align:left;vertical-align:middle}\n",
    ".tg .tg-0pky{border-color:inherit;text-align:left;vertical-align:top}\n",
    "</style>\n",
    "<table class=\"tg\">\n",
    "  <tr>\n",
    "    <td class=\"tg-lboi\">Θέση στο αρχείο</td>\n",
    "    <td class=\"tg-0pky\">0</td> <td class=\"tg-0pky\">1</td> <td class=\"tg-0pky\">2</td> <td class=\"tg-0pky\">3</td> <td class=\"tg-0pky\">4</td> <td class=\"tg-0pky\">5</td> <td class=\"tg-0pky\">6</td> <td class=\"tg-0pky\">7</td> <td class=\"tg-0pky\">8</td> <td class=\"tg-0pky\">9</td>\n",
    "  </tr>\n",
    "  <tr>\n",
    "    <td class=\"tg-lboi\">read(1)</td>\n",
    "    <td class=\"tg-0pky\">a</td> <td class=\"tg-0pky\">b</td> <td class=\"tg-0pky\">c</td> <td class=\"tg-0pky\">d</td> <td class=\"tg-0pky\">e</td> <td class=\"tg-0pky\">f</td> <td class=\"tg-0pky\">g</td> <td class=\"tg-0pky\">h</td> <td class=\"tg-0pky\">i</td> <td class=\"tg-0pky\">j</td>\n",
    "  </tr>\n",
    "</table>\n",
    "\n",
    "Η μέθοδος `tell()` του περιγραφέα του αρχείου μας επιστρέφει έναν αριθμό ο \n",
    "οποίος δηλώνει σε ποιο χαρακτήρα βρισκόμαστε.\n",
    "Η αρίθμηση ξεκινάει από το 0.\n",
    "Περιμένουμε, λοιπόν, σύμφωνα με τον παραπάνω πίνακα, ότι για ένα αρχείο που \n",
    "μόλις ανοίξαμε, η μέθοδος θα επιστρέψει `0` και η `read(1)` το `a`."
   ]
  },
  {
   "cell_type": "code",
   "execution_count": 1,
   "metadata": {
    "pycharm": {
     "is_executing": false,
     "name": "#%%\n"
    }
   },
   "outputs": [
    {
     "name": "stdout",
     "text": [
      "0\n",
      "a\n"
     ],
     "output_type": "stream"
    }
   ],
   "source": [
    "f = open('./files/letters.txt')\n",
    "print(f.tell())\n",
    "print(f.read(1))"
   ]
  },
  {
   "cell_type": "markdown",
   "metadata": {
    "pycharm": {
     "name": "#%% md\n"
    }
   },
   "source": [
    "Αν συμβολίσουμε τη τρέχουσα θέση στο αρχείο με `current_position`, η `read(i)` \n",
    "διαβάζει `i` χαρακτήρες από τη θέση που βρισκόμαστε.\n",
    "Μετά τη `read(i)` η θέση στο αρχείο μας έχει αλλάξει και είναι στη \n",
    "`current_position += i`.\n",
    "\n",
    "Στο προηγούμενο κελί, μόλις ανοίξει το αρχείο έχουμε `current_position == 0`.\n",
    "Διαβάσαμε ένα χαρακτήρα οπότε η νέα τρέχουσα θέση θα είναι `0 + 1 = 1`.\n",
    "Αυτό μας το επιβεβαιώνει και η `tell()`."
   ]
  },
  {
   "cell_type": "code",
   "execution_count": 2,
   "metadata": {
    "pycharm": {
     "is_executing": false,
     "name": "#%%\n"
    }
   },
   "outputs": [
    {
     "name": "stdout",
     "text": [
      "1\n"
     ],
     "output_type": "stream"
    }
   ],
   "source": [
    "print(f.tell())"
   ]
  },
  {
   "cell_type": "markdown",
   "metadata": {
    "pycharm": {
     "name": "#%% md\n"
    }
   },
   "source": [
    "Στην επόμενη κλήση, διαβάζουμε τρεις χαρακτήρες από τη θέση 1 (τρέχουσα).\n",
    "Οι χαρακτήρες που βρίσκονται στις θέσεις 1, 2 και 3 θα διαβαστούν και η τρέχουσα\n",
    "θέση θα γίνει `1 + 3 = 4`."
   ]
  },
  {
   "cell_type": "code",
   "execution_count": 3,
   "metadata": {
    "pycharm": {
     "is_executing": false,
     "name": "#%%\n"
    }
   },
   "outputs": [
    {
     "name": "stdout",
     "text": [
      "bcd\n",
      "Τρέχουσα θέση: 4\n"
     ],
     "output_type": "stream"
    }
   ],
   "source": [
    "print(f.read(3))\n",
    "print('Τρέχουσα θέση: ' + str(f.tell()))"
   ]
  },
  {
   "cell_type": "markdown",
   "metadata": {},
   "source": [
    "Αν ξεπεράσουμε το όριο του αρχείου ή διαβάσουμε μέχρι το τέλος του, η `tell()`\n",
    "μας δίνει την τελευταία θέση που είναι και το μήκος του."
   ]
  },
  {
   "cell_type": "code",
   "execution_count": 4,
   "metadata": {
    "pycharm": {
     "is_executing": false,
     "name": "#%%\n"
    }
   },
   "outputs": [
    {
     "name": "stdout",
     "text": [
      "efghij\n",
      "10\n"
     ],
     "output_type": "stream"
    }
   ],
   "source": [
    "print(f.read(15))\n",
    "print(f.tell())\n",
    "f.close()"
   ]
  },
  {
   "cell_type": "markdown",
   "metadata": {},
   "source": [
    "# Αλλαγή Θέσης στο Αρχείο\n",
    "\n",
    "Διαβάζοντας ένα αρχείο αλλάζει και η θέση μας σ' αυτό.\n",
    "Αν θέλουμε να μετακινηθούμε χωρίς να διαβάσουμε, χρησιμοποιούμε τη μέθοδο \n",
    "`seek(offset[, whence])`.\n",
    "Η μέθοδος έχει δύο παραμέτρους:\n",
    "1. η `offset` δηλώνει τον αριθμό των bytes, ενώ \n",
    "1. η `whence`, που είναι προεραιτική, τον τρόπο.\n",
    "\n",
    "Στην παράμετρο `whence` μπορούμε να δώσουμε αριθμό ή σταθερά αν έχουμε κάνει \n",
    "εισαγωγή το άρθρωμα `os`.\n",
    "Ο παρακάτω πίνακας διευκρινίζει τη χρήση της.\n",
    "\n",
    "| Αριθμητική Τιμή | Συμβολική Σταθερά | Επεξήγηση                                                                      |\n",
    "|:---------------:|:-----------------:|--------------------------------------------------------------------------------|\n",
    "|        0        |    os.SEEK_SET    | Μετακίνηση στη θέση `offset` ξεκινώντας απο την αρχή του αρχείου.              |\n",
    "|        1        |    os.SEEK_CUR    | Μετακίνηση κατά `offset` χαρακτήρες ξεκινώντας από τη θέση που βρίσκομαι τώρα. |\n",
    "|        2        |    os.SEEK_END    | Μετακίνηση κατά `offset` χαρακτήρες ξεκινώντας από το τέλος του αρχείου.       |\n",
    "\n",
    "Αν η δε δοθεί τιμή στην παράμετρο `whence`, τότε αυτή παίρνει την τιμή `0`.\n",
    "\n",
    "Αν εκτυπώσουμε τις συμβολικές σταθερές, θα δούμε ότι ουσιαστικά είναι οι \n",
    "αριθμοί της πρώτης στήλης.\n",
    "Πολλές φορές όμως είναι πιο εύκολο να θυμόμαστε τις σταθερές απ' ότι τους \n",
    "αριθμούς."
   ]
  },
  {
   "cell_type": "code",
   "execution_count": 5,
   "metadata": {
    "pycharm": {
     "name": "#%%\n",
     "is_executing": false
    }
   },
   "outputs": [
    {
     "name": "stdout",
     "text": [
      "os.SEEK_SET = 0\n",
      "os.SEEK_CUR = 1\n",
      "os.SEEK_END = 2\n"
     ],
     "output_type": "stream"
    }
   ],
   "source": [
    "import os\n",
    "\n",
    "print('os.SEEK_SET = ' + str(os.SEEK_SET))\n",
    "print('os.SEEK_CUR = ' + str(os.SEEK_CUR))\n",
    "print('os.SEEK_END = ' + str(os.SEEK_END))"
   ]
  },
  {
   "cell_type": "markdown",
   "metadata": {},
   "source": [
    "## Μετακίνηση σε Σχέση με την Αρχή\n",
    "\n",
    "Δινουμε στη `seek()` το byte στο οποίο θέλουμε να πάμε. \n",
    "Η μετακίνηση αυτή μπορούμε να πούμε ότι είναι \"απόλυτη\" με την έννοια ότι ο\n",
    "αριθμός που θα δώσουμε στο `offset` είναι και η θέση που θα βρεθούμε στο αρχείο.\n",
    "Μπορούμε να παραλείψουμε την παράμετρο `whence`.\n",
    "\n",
    "### Παράδειγμα #1\n",
    "Ανοίγουμε το αρχείο και εμφανίζουμε τη θέση μας."
   ]
  },
  {
   "cell_type": "code",
   "execution_count": 6,
   "metadata": {
    "pycharm": {
     "is_executing": false,
     "name": "#%%\n"
    }
   },
   "outputs": [
    {
     "name": "stdout",
     "text": [
      "Βρισκόμαστε στη θέση: 0\n"
     ],
     "output_type": "stream"
    }
   ],
   "source": [
    "fp = open('./files/letters.txt')\n",
    "print(u'Βρισκόμαστε στη θέση: ' + str(fp.tell()))"
   ]
  },
  {
   "cell_type": "markdown",
   "source": [
    "Μετακινούμαστε κατά 4 byte από την αρχή.\n",
    "Εμφανίζουμε τη θέση."
   ],
   "metadata": {
    "collapsed": false,
    "pycharm": {
     "name": "#%% md\n"
    }
   }
  },
  {
   "cell_type": "code",
   "execution_count": 7,
   "outputs": [
    {
     "name": "stdout",
     "text": [
      "Μετακινηθήκαμε στη θέση: 4\n"
     ],
     "output_type": "stream"
    }
   ],
   "source": [
    "fp.seek(4)\n",
    "print('Μετακινηθήκαμε στη θέση: ' + str(fp.tell()))"
   ],
   "metadata": {
    "collapsed": false,
    "pycharm": {
     "name": "#%%\n",
     "is_executing": false
    }
   }
  },
  {
   "cell_type": "markdown",
   "source": [
    "Διαβάζουμε το υπόλοιπο αρχείο και εμφανίζουμε τη νέα θέση μας.\n",
    "Από τη στιγμή που είμαστε στη θέση 4, θα διαβαστούν οι χαρακτήρες από το `e`\n",
    "και μετά."
   ],
   "metadata": {
    "collapsed": false,
    "pycharm": {
     "name": "#%% md\n"
    }
   }
  },
  {
   "cell_type": "code",
   "execution_count": 8,
   "outputs": [
    {
     "name": "stdout",
     "text": [
      "Διαβάζουμε: efghij\n",
      "Βρισκόμαστε στη θέση: 10\n"
     ],
     "output_type": "stream"
    }
   ],
   "source": [
    "print('Διαβάζουμε: ' + fp.read())\n",
    "print('Βρισκόμαστε στη θέση: ' + str(fp.tell()))\n",
    "fp.close()"
   ],
   "metadata": {
    "collapsed": false,
    "pycharm": {
     "name": "#%%\n",
     "is_executing": false
    }
   }
  },
  {
   "cell_type": "markdown",
   "source": [
    "### Παράδειγμα 2\n",
    "\n",
    "Μπορούμε να ξαναδιαβάσουμε ένα τμήμα του αρχείου το οποίο έχουμε διαβάσει ήδη.\n",
    "Διαβάζουμε 4 bytes."
   ],
   "metadata": {
    "collapsed": false,
    "pycharm": {
     "name": "#%% md\n"
    }
   }
  },
  {
   "cell_type": "code",
   "execution_count": 9,
   "metadata": {
    "pycharm": {
     "is_executing": false
    }
   },
   "outputs": [
    {
     "name": "stdout",
     "text": [
      "Οι 4 πρώτοι χαρακτήρες: abcd\n",
      "Τρέχουσα θέση: 4\n"
     ],
     "output_type": "stream"
    }
   ],
   "source": [
    "fp = open('./files/letters.txt')\n",
    "print('Οι 4 πρώτοι χαρακτήρες: ' + fp.read(4))\n",
    "print('Τρέχουσα θέση: ' + str(fp.tell()))"
   ]
  },
  {
   "cell_type": "markdown",
   "source": [
    "Μετακινούμαστε στο 2ο byte από την αρχή."
   ],
   "metadata": {
    "collapsed": false,
    "pycharm": {
     "name": "#%% md\n"
    }
   }
  },
  {
   "cell_type": "code",
   "execution_count": 10,
   "outputs": [
    {
     "name": "stdout",
     "text": [
      "Βρισκόμαστε στη θέση: 2\n"
     ],
     "output_type": "stream"
    }
   ],
   "source": [
    "fp.seek(2, 0)\n",
    "print('Βρισκόμαστε στη θέση: ' + str(fp.tell()))"
   ],
   "metadata": {
    "collapsed": false,
    "pycharm": {
     "name": "#%%\n",
     "is_executing": false
    }
   }
  },
  {
   "cell_type": "markdown",
   "source": [
    "Διαβάζουμε 2 χαρακτήρες."
   ],
   "metadata": {
    "collapsed": false,
    "pycharm": {
     "name": "#%% md\n"
    }
   }
  },
  {
   "cell_type": "code",
   "execution_count": 11,
   "outputs": [
    {
     "name": "stdout",
     "text": [
      "Οι χαρακτήρες από τη θέση 2 μέχρι την 4 είναι: cd\n"
     ],
     "output_type": "stream"
    }
   ],
   "source": [
    "print('Οι χαρακτήρες από τη θέση 2 μέχρι την 4 είναι: ' + fp.read(2))\n",
    "fp.close()"
   ],
   "metadata": {
    "collapsed": false,
    "pycharm": {
     "name": "#%%\n",
     "is_executing": false
    }
   }
  },
  {
   "cell_type": "markdown",
   "metadata": {},
   "source": [
    "##  Μετακίνηση σε Σχέση με την Τρέχουσα Θέση\n",
    "Για αυτή τη μετακίνηση *πρέπει* να δώσουμε την τιμή 1 (`os.SEEK_CUR`) στην \n",
    "`seek()`.\n",
    "\n",
    "**ΠΡΟΣΟΧΗ**: Η λειτουργία της `seek` σε Python 3 είναι διαφορετική απ' ότι σε\n",
    "Python 2. \n",
    "Για να δώσουμε ένα παράδειγμα όπως στην ύλη του βιβλίου εκτελούμε\n",
    "το παρακάτω κελί με Python 2.\n",
    "Κρατάμε τον ίδιο τρόπο χρήσης της `print()`, δηλαδή ως συνάρτηση,\n",
    "χρησιμοποιώντας το `from __future__ import print_function` στην αρχή του κελιού.\n",
    "\n",
    "Το πόσο θα μετακινηθούμε (`offset`) μπορεί να είναι θετικός ή αρνητικός αριθμός.\n",
    "Με θετικό θα μετακινηθούμε προς το τέλος του αρχείου, ενώ με αρνητικό προς την\n",
    "αρχή του.\n",
    "\n",
    "### Παράδειγμα #3\n",
    "Μετακίνηση με θετικό αριθμό."
   ]
  },
  {
   "cell_type": "code",
   "execution_count": 12,
   "outputs": [
    {
     "name": "stdout",
     "text": [
      "Read 2 bytes: ab\n",
      "Current offset: 2\n",
      "\n",
      "Move forward (right) by 4 bytes\n",
      "Current offset: 6\n",
      "\n",
      "Read another 3 bytes: ghi\n",
      "Current offset: 9\n"
     ],
     "output_type": "stream"
    }
   ],
   "source": [
    "%%python2\n",
    "from __future__ import print_function\n",
    "\n",
    "f = open('./files/letters.txt')\n",
    "print('Read 2 bytes: ' + f.read(2))\n",
    "print('Current offset: ' + str(f.tell()))\n",
    "\n",
    "print('\\nMove forward (right) by 4 bytes')\n",
    "f.seek(4, 1)\n",
    "print('Current offset: ' + str(f.tell()))\n",
    "\n",
    "print('\\nRead another 3 bytes: ' + f.read(3))\n",
    "print('Current offset: ' + str(f.tell()))\n",
    "f.close()"
   ],
   "metadata": {
    "collapsed": false,
    "pycharm": {
     "name": "#%%\n",
     "is_executing": false
    }
   }
  },
  {
   "cell_type": "markdown",
   "source": [
    "Μετακίνηση με αρνητικό αριθμό."
   ],
   "metadata": {
    "collapsed": false,
    "pycharm": {
     "name": "#%% md\n"
    }
   }
  },
  {
   "cell_type": "code",
   "execution_count": 13,
   "metadata": {
    "pycharm": {
     "is_executing": false,
     "name": "#%%\n"
    }
   },
   "outputs": [
    {
     "name": "stdout",
     "text": [
      "Read 5 bytes: abcde\n",
      "Current offset: 5\n",
      "\n",
      "Move backward (left) by 3 bytes\n",
      "Current offset: 2\n",
      "\n",
      "Read another 4 bytes: cdef\n",
      "Current offset: 6\n"
     ],
     "output_type": "stream"
    }
   ],
   "source": [
    "%%python2\n",
    "from __future__ import print_function\n",
    "\n",
    "f = open('./files/letters.txt')\n",
    "print('Read 5 bytes: ' + f.read(5))\n",
    "print('Current offset: ' + str(f.tell()))\n",
    "\n",
    "print('\\nMove backward (left) by 3 bytes')\n",
    "f.seek(-3, 1)\n",
    "print('Current offset: ' + str(f.tell()))\n",
    "\n",
    "print('\\nRead another 4 bytes: ' + f.read(4))\n",
    "print('Current offset: ' + str(f.tell()))\n",
    "f.close()"
   ]
  },
  {
   "cell_type": "markdown",
   "metadata": {},
   "source": [
    "## Μετακίνηση σε Σχέση με το Τέλος\n",
    "\n",
    "Γι' αυτή τη μετακίνηση το offset παίρνει *αρνητικές* τιμές.\n",
    "Δηλώνουμε δηλαδή πόσες θέσεις *πριν* το τέλος θέλουμε να πάμε."
   ]
  },
  {
   "cell_type": "code",
   "execution_count": 14,
   "metadata": {
    "pycharm": {
     "name": "#%%\n",
     "is_executing": false
    }
   },
   "outputs": [
    {
     "name": "stdout",
     "text": [
      "Move by 4 bytes before the end.\n",
      "Current offset: 6\n",
      "\n",
      "Read 4 bytes: ghij\n",
      "Current offset: 10\n"
     ],
     "output_type": "stream"
    }
   ],
   "source": [
    "%%python2\n",
    "from __future__ import print_function\n",
    "\n",
    "f = open('./files/letters.txt')\n",
    "print('Move by 4 bytes before the end.')\n",
    "f.seek(-4, 2) \n",
    "print('Current offset: ' + str(f.tell()))\n",
    "\n",
    "print('\\nRead 4 bytes: ' + f.read(4))\n",
    "print('Current offset: ' + str(f.tell()))\n",
    "f.close()"
   ]
  },
  {
   "cell_type": "markdown",
   "metadata": {
    "pycharm": {
     "name": "#%% md\n"
    }
   },
   "source": [
    "# Παράρτημα 1: Αρχεία με Ελληνικούς Χαρακτήρες\n",
    "\n",
    "Ανοίγουμε ένα αρχείο και διαβάζουμε την πρώτη γραμμή του.\n",
    "Στη συνέχεια εμφανίζουμε τη θέση μας σ' αυτό."
   ]
  },
  {
   "cell_type": "code",
   "execution_count": 15,
   "metadata": {
    "pycharm": {
     "is_executing": false,
     "name": "#%%\n"
    }
   },
   "outputs": [
    {
     "name": "stdout",
     "text": [
      "'Ο Ήλιος\\n'\n",
      "Βρισκόμαστε στη θέση: 14\n"
     ],
     "output_type": "stream"
    }
   ],
   "source": [
    "fp = open('./files/sun.txt')\n",
    "print(repr(fp.readline()))\n",
    "print('Βρισκόμαστε στη θέση: ' + str(fp.tell()))\n",
    "fp.close()"
   ]
  },
  {
   "cell_type": "markdown",
   "metadata": {
    "pycharm": {
     "name": "#%% md\n"
    }
   },
   "source": [
    "Αν και εμφανίζονται 8 χαρακτήρες (υπάρχει και μια αλλαγή γραμμής), η `tell()` \n",
    "μας λέει ότι βρισκόμαστε στη θέση 14.\n",
    "Αυτό συμβαίνει διότι οι χαρακτήρες είναι στα Ελληνικά και κάθε ένας \n",
    "καταλαμβάνει δύο byte.\n",
    "Όμως οι χαρακτήρες *κενό* και *αλλαγή γραμμής* μετράνε για 1 byte.\n",
    "\n",
    "Έτσι έχουμε:\n",
    "\n",
    "| Χαρακτήρες | Bytes |\n",
    "|------------|------:|\n",
    "| Ο          | 2     |\n",
    "| *κενό*     | 1     |\n",
    "| Ή          | 2     |\n",
    "| λ          | 2     |\n",
    "| ι          | 2     |\n",
    "| ο          | 2     |\n",
    "| ς          | 2     |\n",
    "| \\n         | 1     |\n",
    "\n",
    "Σύνολο: 14\n",
    "\n",
    "Αν το αρχείο έχει Λατινικούς χαρακτήρες, τότε ο καθένας έχει μέγεθος ένα byte\n",
    "όπως φάνηκε από τα παραδείγματά μας."
   ]
  },
  {
   "cell_type": "markdown",
   "metadata": {
    "pycharm": {
     "is_executing": false,
     "name": "#%% md\n"
    }
   },
   "source": [
    "# Παράρτημα 2: Η `seek` στην Python 3\n",
    "\n",
    "Η πρώτη διαφορά είναι ότι η `seek()` επιστρέφει τη θέση στο αρχείο."
   ]
  },
  {
   "cell_type": "code",
   "execution_count": 16,
   "outputs": [
    {
     "name": "stdout",
     "text": [
      "Τρέχουσα θέση: 5\n",
      "fghij\n"
     ],
     "output_type": "stream"
    }
   ],
   "source": [
    "f = open('./files/letters.txt')\n",
    "pos = f.seek(5, 0)\n",
    "print('Τρέχουσα θέση: ' + str(pos))\n",
    "print(f.read())\n",
    "f.close()"
   ],
   "metadata": {
    "collapsed": false,
    "pycharm": {
     "name": "#%%\n",
     "is_executing": false
    }
   }
  },
  {
   "cell_type": "markdown",
   "source": [
    "Η πιο βασική διαφορά όμως είναι ότι η μετακίνηση μπορεί να γίνει μόνο σε σχέση\n",
    "με την αρχή.\n",
    "Έτσι, αν έχουμε πάει στη θέση 5  "
   ],
   "metadata": {
    "collapsed": false,
    "pycharm": {
     "name": "#%% md\n"
    }
   }
  },
  {
   "cell_type": "code",
   "execution_count": 17,
   "outputs": [
    {
     "data": {
      "text/plain": "5"
     },
     "metadata": {},
     "output_type": "execute_result",
     "execution_count": 17
    }
   ],
   "source": [
    "f = open('./files/letters.txt')\n",
    "f.seek(5, 0)"
   ],
   "metadata": {
    "collapsed": false,
    "pycharm": {
     "name": "#%%\n",
     "is_executing": false
    }
   }
  },
  {
   "cell_type": "markdown",
   "source": [
    "και θέλουμε να πάμε στην 8, δηλαδή μετακίνηση κατά 3 σε σχέση με την τρέχουσα, \n",
    "τότε *προσθέτουμε* τη μετακίνηση στην τρέχουσα και την κάνουμε από την αρχή,\n",
    "δηλαδή"
   ],
   "metadata": {
    "collapsed": false,
    "pycharm": {
     "name": "#%% md\n"
    }
   }
  },
  {
   "cell_type": "code",
   "execution_count": 18,
   "outputs": [
    {
     "data": {
      "text/plain": "8"
     },
     "metadata": {},
     "output_type": "execute_result",
     "execution_count": 18
    }
   ],
   "source": [
    "f.seek(f.tell() + 3, 0)"
   ],
   "metadata": {
    "collapsed": false,
    "pycharm": {
     "name": "#%%\n",
     "is_executing": false
    }
   }
  },
  {
   "cell_type": "code",
   "execution_count": 19,
   "outputs": [
    {
     "name": "stdout",
     "text": [
      "ij\n"
     ],
     "output_type": "stream"
    }
   ],
   "source": [
    "print(f.read())"
   ],
   "metadata": {
    "collapsed": false,
    "pycharm": {
     "name": "#%%\n",
     "is_executing": false
    }
   }
  },
  {
   "cell_type": "markdown",
   "source": [
    "Αντίστοιχα αν θέλουμε να μετακινηθούμε προς τα πίσω."
   ],
   "metadata": {
    "collapsed": false
   }
  },
  {
   "cell_type": "code",
   "execution_count": 20,
   "outputs": [
    {
     "data": {
      "text/plain": "'fghij'"
     },
     "metadata": {},
     "output_type": "execute_result",
     "execution_count": 20
    }
   ],
   "source": [
    "f.seek(f.tell() - 5, 0)\n",
    "f.read()"
   ],
   "metadata": {
    "collapsed": false,
    "pycharm": {
     "name": "#%%\n",
     "is_executing": false
    }
   }
  },
  {
   "cell_type": "markdown",
   "source": [
    "Όταν θέλουμε η μετακίνηση να γίνει σε σχέση με το τέλος, τότε θα πρέπει να\n",
    "πάμε στο τέλος και μετά να μετακινηθούμε σε σχέση με την αρχή.\n",
    "Αν θέλουμε να πάμε 5 bytes πριν από το τέλος έχουμε:\n",
    "\n",
    "- Μετακίνηση στο τέλος με τον \"ιδιοματισμό\" `seek(0, 2)`."
   ],
   "metadata": {
    "collapsed": false,
    "pycharm": {
     "name": "#%% md\n"
    }
   }
  },
  {
   "cell_type": "code",
   "execution_count": 21,
   "outputs": [
    {
     "data": {
      "text/plain": "10"
     },
     "metadata": {},
     "output_type": "execute_result",
     "execution_count": 21
    }
   ],
   "source": [
    "f = open('./files/letters.txt')\n",
    "f.seek(0, 2)"
   ],
   "metadata": {
    "collapsed": false,
    "pycharm": {
     "name": "#%%\n",
     "is_executing": false
    }
   }
  },
  {
   "cell_type": "markdown",
   "source": [
    "- Μετακίνηση αριστερά κατά 5 bytes."
   ],
   "metadata": {
    "collapsed": false,
    "pycharm": {
     "name": "#%% md\n"
    }
   }
  },
  {
   "cell_type": "code",
   "execution_count": 22,
   "outputs": [
    {
     "name": "stdout",
     "text": [
      "fghij\n"
     ],
     "output_type": "stream"
    }
   ],
   "source": [
    "f.seek(f.tell() - 5, 0)  # Προσέξτε ότι η μετακίνηση γίνεται σε σχέση με την αρχή!\n",
    "print(f.read())\n",
    "f.close()"
   ],
   "metadata": {
    "collapsed": false,
    "pycharm": {
     "name": "#%%\n",
     "is_executing": false
    }
   }
  },
  {
   "cell_type": "markdown",
   "source": [
    "Η μέθοδος `seek()` λειτουργεί όπως στην Python 2 όταν το αρχείο έχει ανοίξει\n",
    "ως binary, δηλαδή με mode `'rb'`."
   ],
   "metadata": {
    "collapsed": false,
    "pycharm": {
     "name": "#%% md\n"
    }
   }
  },
  {
   "cell_type": "code",
   "execution_count": 23,
   "outputs": [
    {
     "name": "stdout",
     "text": [
      "b'abcde'\n",
      "Τρέχουσα θέση: 5\n"
     ],
     "output_type": "stream"
    }
   ],
   "source": [
    "f = open('./files/letters.txt', 'rb')\n",
    "print(f.read(5))\n",
    "print('Τρέχουσα θέση: ' + str(f.tell()))"
   ],
   "metadata": {
    "collapsed": false,
    "pycharm": {
     "name": "#%%\n",
     "is_executing": false
    }
   }
  },
  {
   "cell_type": "markdown",
   "source": [
    "Παρατηρήστε ότι πριν το κείμενο έχει τον χαρακτήρα `b` που σημαίνει ότι είναι \n",
    "binary.\n",
    "Αυτό κάνει μεγάλη διαφορά όταν το αρχείο έχει unicode (π.χ. Ελληνικούς \n",
    "χαρακτήρες).\n",
    "\n",
    "Μετακίνηση κατά 2 θέσεις σε σχέση με την τρέχουσα."
   ],
   "metadata": {
    "collapsed": false,
    "pycharm": {
     "name": "#%% md\n"
    }
   }
  },
  {
   "cell_type": "code",
   "execution_count": 24,
   "outputs": [
    {
     "name": "stdout",
     "text": [
      "Τρέχουσα θέση: 7\n"
     ],
     "output_type": "stream"
    }
   ],
   "source": [
    "f.seek(2, 1)\n",
    "print('Τρέχουσα θέση: ' + str(f.tell()))\n"
   ],
   "metadata": {
    "collapsed": false,
    "pycharm": {
     "name": "#%%\n",
     "is_executing": false
    }
   }
  },
  {
   "cell_type": "markdown",
   "source": [
    "Μετακίνηση 4 θέσεις πριν το τέλος."
   ],
   "metadata": {
    "collapsed": false,
    "pycharm": {
     "name": "#%% md\n"
    }
   }
  },
  {
   "cell_type": "code",
   "execution_count": 25,
   "outputs": [
    {
     "name": "stdout",
     "text": [
      "Τρέχουσα θέση: 6\n"
     ],
     "output_type": "stream"
    }
   ],
   "source": [
    "f.seek(-4, 2)\n",
    "print('Τρέχουσα θέση: ' + str(f.tell()))\n",
    "f.close()"
   ],
   "metadata": {
    "collapsed": false,
    "pycharm": {
     "name": "#%%\n",
     "is_executing": false
    }
   }
  },
  {
   "cell_type": "markdown",
   "source": [
    "Αν το αρχείο έχει Ελληνικούς χαρακτήρες, τότε έχουμε:"
   ],
   "metadata": {
    "collapsed": false,
    "pycharm": {
     "name": "#%% md\n"
    }
   }
  },
  {
   "cell_type": "code",
   "execution_count": 26,
   "outputs": [
    {
     "name": "stdout",
     "text": [
      "b'\\xce\\x9f \\xce\\x89\\xce\\xbb\\xce\\xb9\\xce\\xbf\\xcf\\x82\\n'\n"
     ],
     "output_type": "stream"
    }
   ],
   "source": [
    "f = open('./files/sun.txt', 'rb')\n",
    "print(f.readline())"
   ],
   "metadata": {
    "collapsed": false,
    "pycharm": {
     "name": "#%%\n",
     "is_executing": false
    }
   }
  },
  {
   "cell_type": "markdown",
   "source": [
    "Βλέπουμε ότι εκτυπώνονται κωδικοί χαρακτήρων.\n",
    "Για να δούμε τους χαρακτήρες, πρέπει να χρησιμοποιήσουμε τη μέθοδο `decode`\n",
    "που εφαρμόζεται σε `bytes`."
   ],
   "metadata": {
    "collapsed": false,
    "pycharm": {
     "name": "#%% md\n"
    }
   }
  },
  {
   "cell_type": "code",
   "execution_count": 27,
   "outputs": [
    {
     "name": "stdout",
     "text": [
      "Ο Ήλιος\n",
      "\n",
      "Τρέχουσα θέση: 14\n"
     ],
     "output_type": "stream"
    }
   ],
   "source": [
    "f.seek(0)  # Μετακίνηση στην αρχή\n",
    "print(f.readline().decode('utf-8'))\n",
    "print('Τρέχουσα θέση: ' + str(f.tell()))\n"
   ],
   "metadata": {
    "collapsed": false,
    "pycharm": {
     "name": "#%%\n",
     "is_executing": false
    }
   }
  }
 ],
 "metadata": {
  "hide_input": false,
  "kernelspec": {
   "display_name": "Python 3",
   "language": "python",
   "name": "python3"
  },
  "language_info": {
   "codemirror_mode": {
    "name": "ipython",
    "version": 3
   },
   "file_extension": ".py",
   "mimetype": "text/x-python",
   "name": "python",
   "nbconvert_exporter": "python",
   "pygments_lexer": "ipython3",
   "version": "3.6.9"
  },
  "latex_envs": {
   "LaTeX_envs_menu_present": true,
   "autoclose": true,
   "autocomplete": false,
   "bibliofile": "refs.bib",
   "cite_by": "apalike",
   "current_citInitial": 1,
   "eqLabelWithNumbers": true,
   "eqNumInitial": 1,
   "hotkeys": {
    "equation": "Ctrl-E",
    "itemize": "Ctrl-I"
   },
   "labels_anchors": false,
   "latex_user_defs": false,
   "report_style_numbering": false,
   "user_envs_cfg": false
  },
  "pycharm": {
   "stem_cell": {
    "cell_type": "raw",
    "source": [],
    "metadata": {
     "collapsed": false
    }
   }
  },
  "toc": {
   "base_numbering": 1,
   "nav_menu": {},
   "number_sections": true,
   "sideBar": true,
   "skip_h1_title": false,
   "title_cell": "Table of Contents",
   "title_sidebar": "Contents",
   "toc_cell": false,
   "toc_position": {},
   "toc_section_display": true,
   "toc_window_display": false
  }
 },
 "nbformat": 4,
 "nbformat_minor": 1
}
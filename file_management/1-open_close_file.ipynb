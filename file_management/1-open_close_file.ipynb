{
 "cells": [
  {
   "cell_type": "markdown",
   "source": [
    "# Άνοιγμα Αρχείου\n",
    "\n",
    "Ως αρχεία δεδομένων χρησιμοποιούνται συνήθως αρχεία κειμένου.\n",
    "Ένα αρχείο κειμένου είναι ένα αρχείο το οποίο περιέχει μια ακολουθία χαρακτήρων \n",
    "και βρίσκεται αποθηκευμένο σε ένα μέσο μόνιμης αποθήκευσης, όπως ο σκληρός δίσκος. \n",
    "Στα περιεχόμενα ενός τέτοιου αρχείου μπορούμε να έχουμε πρόσβαση μέσω ενός \n",
    "προγράμματος που περιέχει τις κατάλληλες εντολές της γλώσσας Python. \n",
    "Ένα αρχείο για να χρησιμοποιηθεί, πρέπει να το ανοίξουμε με την ενσωματωμένη \n",
    "συνάρτηση `open()`.\n",
    "\n",
    "Η συνάρτηση `open()` μας επιστρέφει ένα αντικείμενο του αρχείου και μπορούμε να \n",
    "το χρησιμοποιήσουμε για να εκτελέσουμε διάφορες λειτουργίες σε αυτό. \n",
    "H `open()` είναι ενσωματωμένη στην Python, δε χρειάζεται να φορτώσουμε\n",
    "κάποια βιβλιοθήκη, ενώ η σύνταξή της για *ανάγνωση* είναι:\n",
    "\n",
    "```python\n",
    "fp = open('file_name')\n",
    "```\n",
    "\n",
    "Η συνάρτηση επιστρέφει έναν *περιγραφέα αρχείου* (file object).\n",
    "Οι επόμενες ενέργειες στο αρχείο γίνονται μέσω αυτού του περιγραφέα.\n",
    "\n",
    "Ανοίγουμε το αρχείο `sun.txt` που βρίσκεται στο φάκελο `files' για \n",
    "ανάγνωση (mode='r') και εκτυπώνουμε τον περιγραφέα του."
   ],
   "metadata": {
    "collapsed": false
   }
  },
  {
   "cell_type": "code",
   "execution_count": 1,
   "outputs": [
    {
     "name": "stdout",
     "text": [
      "<_io.TextIOWrapper name='./files/sun.txt' mode='r' encoding='UTF-8'>\n"
     ],
     "output_type": "stream"
    }
   ],
   "source": [
    "fp = open('files/sun.txt')\n",
    "print(fp)"
   ],
   "metadata": {
    "collapsed": false,
    "pycharm": {
     "name": "#%% \n",
     "is_executing": false
    }
   }
  },
  {
   "cell_type": "markdown",
   "source": [
    "Βλέπουμε ότι ο περιγραφέας του έχει το όνομα του αρχείου (name) και τον τρόπο\n",
    "προσπέλασης (mode) που είναι `r`, δηλαδή read (ανάγνωση).\n",
    "\n",
    "Μπορούμε να δούμε το όνομα του αρχείου μόνο χρησιμοποιώντας την ιδιότητα \n",
    "`name` του περιφραφέα."
   ],
   "metadata": {
    "collapsed": false
   }
  },
  {
   "cell_type": "code",
   "execution_count": 2,
   "outputs": [
    {
     "name": "stdout",
     "text": [
      "./files/sun.txt\n"
     ],
     "output_type": "stream"
    }
   ],
   "source": [
    "file_name = fp.name\n",
    "print(file_name)\n"
   ],
   "metadata": {
    "collapsed": false,
    "pycharm": {
     "name": "#%%\n",
     "is_executing": false
    }
   }
  },
  {
   "cell_type": "markdown",
   "source": [
    "## Διαφορετικοί Τρόποι Ανοίγματος Αρχείου\n",
    "\n",
    "Η μέθοδος `open()`, εκτός από το όνομα του αρχείου που είναι *υποχρεωτικό*, \n",
    "μπορεί να δεχθεί και την παράμετρο `mode` η οποία δηλώνει με ποιο τρόπο \n",
    "θέλουμε να ανοίξουμε το αρχείο.\n",
    "Οι δυνατοί τρόποι είναι:\n",
    "\n",
    "| Τρόπος Προσπέλασης (mode) | Ανοιγμα για                                                                                               |\n",
    "|:-------------------------:|-----------------------------------------------------------------------------------------------------------|\n",
    "|            'r'            | Άνάγνωση (read) (προεπιλεγμένη λειτουργία)                                                                |\n",
    "|            'w'            | Εγγραφή (write). Αν το αρχείο υπάρχει τα περιεχόμενά του διαγράφονται.                                    |\n",
    "|            'x'            | Εγγραφή. Αν το αρχείο υπάρχει παίρνουμε σφάλμα, διαφορετικά δημιουργείται.                                |\n",
    "|            'a'            | Προσθήκη (append). Αν το αρχείο υπάρχει μπορούμε να προσθέσουμε στο τέλος του, διαφορετικά δημιουργείται. |\n",
    "|            'b'            | Δυαδικό αρχείο. Π.χ. εικόνα, ήχος.                                                                        |\n",
    "|            't'            | Κείμενο (προεπιλεγμένη λειτουργία)                                                                        |\n",
    "|            'r+'           | Άνοιγμα για ενημέρωση. Μπορούμε να εκτελέσουμε λειτουρίες ανάγνωσης και εγγραφής.                         |\n",
    "\n",
    "Η Python κάνει διαχωρισμό ανάμεσα σε δυαδικά και αρχεία κειμένου.\n",
    "Για τα αρχεία που ανοίγουν ως δυαδικά με `rb`, `wb` ή `ab` το περιεχόμενο τους\n",
    "επιστρέφει ως byte και δεν υφίσταται καμία αποκωδικοποίηση (decoding).\n",
    "Όταν τα αρχεία ανοίγονται ως κείμενο (η παράμετρος `t` μπορεί να παραληθφεί, \n",
    "δηλαδή το `rt` είναι ισοδύναμο με το `r`), τότε το περιεχόμενο τους \n",
    "επιστρέφει ως συμβολοσειρά (str).\n",
    "\n",
    "Για να δούμε τον τρόπο προσπέλασης με τον οποίο έχει ανοίξει ένα αρχείο, \n",
    "χρησιμοποιούμε την ιδιότητα `mode` του περιγραφέα του."
   ],
   "metadata": {
    "collapsed": false
   }
  },
  {
   "cell_type": "code",
   "execution_count": 9,
   "outputs": [
    {
     "name": "stdout",
     "text": [
      "r\n"
     ],
     "output_type": "stream"
    }
   ],
   "source": [
    "print(fp.mode)"
   ],
   "metadata": {
    "collapsed": false,
    "pycharm": {
     "name": "#%%\n",
     "is_executing": false
    }
   }
  },
  {
   "cell_type": "markdown",
   "source": [
    "## Κλείσιμο αρχείου\n",
    "Όταν ολοκληρώσουμε τις λειτουργίες που θέλουμε να εκτελεστούν στο αρχείο, \n",
    "καλούμε απαραίτητα τη μέθοδο `close()` του περιγραφέα.\n",
    "Αυτό δηλώνει ότι τελειώσαμε με τη χρήση του και οδηγεί το Λειτουργικό Σύστημα\n",
    "στην αποθήκευση δεδομένων που βρίσκονται ακόμη στη μνήμη και την περάτωση των\n",
    "δικών του διεργασιών με το αρχείο."
   ],
   "metadata": {
    "collapsed": false
   }
  },
  {
   "cell_type": "code",
   "execution_count": 3,
   "outputs": [],
   "source": [
    "fp.close()"
   ],
   "metadata": {
    "collapsed": false,
    "pycharm": {
     "name": "#%%\n",
     "is_executing": false
    }
   }
  },
  {
   "cell_type": "markdown",
   "source": [
    "## Έλεγχος Κατάστασης Αρχείου\n",
    "\n",
    "Μπορούμε να ελέγξουμε αν ένα αρχείο είναι ανοιχτό ή κλειστό ελέγχοντας την \n",
    "ιδιότητα (attribute) `closed` του περιγραφέα του.\n",
    "Αν μας επιστρέψει `True` το αρχείο είναι κλειστό, διαφορετικά είναι ανοιχτό."
   ],
   "metadata": {
    "collapsed": false
   }
  },
  {
   "cell_type": "code",
   "execution_count": 4,
   "outputs": [
    {
     "data": {
      "text/plain": "True"
     },
     "metadata": {},
     "output_type": "execute_result",
     "execution_count": 4
    }
   ],
   "source": [
    "fp.closed"
   ],
   "metadata": {
    "collapsed": false,
    "pycharm": {
     "name": "#%%\n",
     "is_executing": false
    }
   }
  },
  {
   "cell_type": "code",
   "execution_count": 5,
   "outputs": [
    {
     "data": {
      "text/plain": "False"
     },
     "metadata": {},
     "output_type": "execute_result",
     "execution_count": 5
    }
   ],
   "source": [
    "fp = open('files/sun.txt')\n",
    "fp.closed"
   ],
   "metadata": {
    "collapsed": false,
    "pycharm": {
     "name": "#%%\n",
     "is_executing": false
    }
   }
  },
  {
   "cell_type": "markdown",
   "source": [
    "# Σφάλματα\n",
    "\n",
    "Αν το αρχείο που προσπαθούμε να ανοίξουμε δεν υπάρχει, τότε έχουμε σφάλμα \n",
    "`FileNotFoundError`."
   ],
   "metadata": {
    "collapsed": false
   }
  },
  {
   "cell_type": "code",
   "execution_count": 6,
   "outputs": [
    {
     "name": "stderr",
     "text": [
      "Traceback (most recent call last):\n",
      "  File \"<ipython-input-6-bfa11b7f97d3>\", line 5, in <module>\n",
      "    fw = open('files/moon.txt')\n",
      "FileNotFoundError: [Errno 2] No such file or directory: 'files/moon.txt'\n"
     ],
     "output_type": "stream"
    }
   ],
   "source": [
    "import traceback\n",
    "\n",
    "try:\n",
    "    fw = open('files/moon.txt')\n",
    "except FileNotFoundError as e:\n",
    "   traceback.print_exc()\n",
    "   pass"
   ],
   "metadata": {
    "collapsed": false,
    "pycharm": {
     "name": "#%%\n",
     "is_executing": false
    }
   }
  },
  {
   "cell_type": "markdown",
   "source": [
    "Επίσης σφάλμα `ValueError` έχουμε όταν προσπαθούμε να κάνουμε ενέργειες σε \n",
    "αρχείο που έχει κλείσει."
   ],
   "metadata": {
    "collapsed": false,
    "pycharm": {
     "name": "#%% md\n"
    }
   }
  },
  {
   "cell_type": "code",
   "execution_count": 7,
   "outputs": [
    {
     "name": "stderr",
     "text": [
      "Traceback (most recent call last):\n",
      "  File \"<ipython-input-7-ba55811252af>\", line 4, in <module>\n",
      "    fp.read()\n",
      "ValueError: I/O operation on closed file.\n"
     ],
     "output_type": "stream"
    }
   ],
   "source": [
    "try:\n",
    "    fp.close()\n",
    "    fp.read()\n",
    "except ValueError as e:\n",
    "   traceback.print_exc()\n",
    "   pass"
   ],
   "metadata": {
    "collapsed": false,
    "pycharm": {
     "name": "#%%\n",
     "is_executing": false
    }
   }
  },
  {
   "cell_type": "code",
   "execution_count": null,
   "outputs": [],
   "source": [
    "\n"
   ],
   "metadata": {
    "collapsed": false,
    "pycharm": {
     "name": "#%%\n"
    }
   }
  }
 ],
 "metadata": {
  "kernelspec": {
   "display_name": "Python 3",
   "language": "python",
   "name": "python3"
  },
  "language_info": {
   "codemirror_mode": {
    "name": "ipython",
    "version": 2
   },
   "file_extension": ".py",
   "mimetype": "text/x-python",
   "name": "python",
   "nbconvert_exporter": "python",
   "pygments_lexer": "ipython2",
   "version": "2.7.6"
  },
  "pycharm": {
   "stem_cell": {
    "cell_type": "raw",
    "source": [],
    "metadata": {
     "collapsed": false
    }
   }
  }
 },
 "nbformat": 4,
 "nbformat_minor": 0
}
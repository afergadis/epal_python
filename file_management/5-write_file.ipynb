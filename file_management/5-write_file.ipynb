{
 "cells": [
  {
   "cell_type": "markdown",
   "metadata": {
    "collapsed": true,
    "pycharm": {
     "name": "#%% md\n"
    }
   },
   "source": [
    "# Εγγραφή σε Αρχείο\n",
    "\n",
    "Για να έχουμε δυνατότητα εγγραφής σε ένα αρχείο, πρέπει να το δηλώσουμε όταν \n",
    "καλούμε την `open()`.\n",
    "Έχουμε τέσσερις τρόπους για να ανοίξουμε ένα αρχείο για εγγραφή:\n",
    "\n",
    "| Τρόπος Προσπέλασης (mode) | Ανοιγμα για                                                                                               |\n",
    "|:-------------------------:|-----------------------------------------------------------------------------------------------------------|\n",
    "|            'x'            | Εγγραφή. Αν το αρχείο υπάρχει παίρνουμε σφάλμα, διαφορετικά δημιουργείται.                                |\n",
    "|            'w'            | Εγγραφή (write). Αν το αρχείο υπάρχει τα περιεχόμενά του διαγράφονται.                                    |\n",
    "|            'a'            | Προσθήκη (append). Αν το αρχείο υπάρχει μπορούμε να προσθέσουμε στο τέλος του, διαφορετικά δημιουργείται. |\n",
    "|            'r+'           | Άνοιγμα για ενημέρωση. Μπορούμε να εκτελέσουμε λειτουρίες ανάγνωσης και εγγραφής.                         |\n",
    "\n",
    "Θα δούμε και τους τέσσερις με τη σειρά που παρουσιάζονται στον παραπάνω πίνακα.\n",
    "\n",
    "Όπως έχουμε δει, η `open()` θα επιστρέψει έναν περιγραφέα αρχείου.\n",
    "Μέσω αυτού γράφουμε χρησιμοποιώντας τη μέθοδο `write()`.\n",
    "Δηλαδή, αν `fp` είναι ο περιγραφέας, τότε για να γράψουμε, καλούμε:\n",
    "```python\n",
    "fp.write('Ο Ήλιος\\n')\n",
    "```\n",
    "\n",
    "**Προσοχή:** Η `write()` δεν προσθέτει αλλαγή γραμμής στο κείμενο που δίνουμε. \n",
    "Όταν χρειάζεται πρέπει να τη δίνουμε εμείς γράφοντας τους χαρακτήρες `\\n`.\n",
    "\n",
    "## Εγγραφή με `'x'`\n",
    "Σε αυτή την περίπτωση το όνομα αρχείου που ζητάμε *δε θα πρέπει να υπάρχει*. \n",
    "Η `open()` θα δημιουργήσει το αρχείο και θα μας δώσει πρόσβαση εγγραφής σ' αυτό."
   ]
  },
  {
   "cell_type": "code",
   "execution_count": 1,
   "outputs": [
    {
     "name": "stdout",
     "text": [
      "Όνομα αρχείου: files/wind.txt\n",
      "Τρόπος προσπέλασης: x\n"
     ],
     "output_type": "stream"
    }
   ],
   "source": [
    "fx = open('files/wind.txt', 'x')\n",
    "print('Όνομα αρχείου: ' + fx.name)\n",
    "print('Τρόπος προσπέλασης: ' + fx.mode)"
   ],
   "metadata": {
    "collapsed": false,
    "pycharm": {
     "name": "#%%\n",
     "is_executing": false
    }
   }
  },
  {
   "cell_type": "markdown",
   "source": [
    "Τώρα υπάρχει ένα αρχείο με το όνομα `wind.txt` στον κατάλογο `files`."
   ],
   "metadata": {
    "collapsed": false,
    "pycharm": {
     "name": "#%% md\n"
    }
   }
  },
  {
   "cell_type": "code",
   "execution_count": 2,
   "outputs": [
    {
     "name": "stdout",
     "text": [
      "['sun.txt', 'wind.txt', 'sun_en.txt']\n"
     ],
     "output_type": "stream"
    }
   ],
   "source": [
    "import os\n",
    "\n",
    "print(os.listdir('./files'))"
   ],
   "metadata": {
    "collapsed": false,
    "pycharm": {
     "name": "#%%\n",
     "is_executing": false
    }
   }
  },
  {
   "cell_type": "markdown",
   "source": [
    "Από τη στιγμή που το αρχείο έχει ανοίξει για εγγραφή, καλούμε τη μέθοδο \n",
    "`write()` και δίνουμε το κείμενο που θέλουμε να γράψουμε."
   ],
   "metadata": {
    "collapsed": false,
    "pycharm": {
     "name": "#%% md\n"
    }
   }
  },
  {
   "cell_type": "code",
   "execution_count": 3,
   "outputs": [],
   "source": [
    "fx.write('Μια γυναίκα από άνεμο\\n')\n",
    "fx.write('Γιάννης Ρίτσος\\n')\n",
    "fx.write('\\n')  # Θα μπορούσαμε αυτή την αλλαγή να τη βάλουμε στο προηγούμενο write.\n",
    "fx.write('Ένας άνεμος σιγανός φυσούσε μέσα της\\n')\n",
    "\n",
    "fx.close()"
   ],
   "metadata": {
    "collapsed": false,
    "pycharm": {
     "name": "#%%\n",
     "is_executing": false
    }
   }
  },
  {
   "cell_type": "markdown",
   "source": [
    "Ας δούμε το περιεχόμενο του αρχείου."
   ],
   "metadata": {
    "collapsed": false,
    "pycharm": {
     "name": "#%% md\n"
    }
   }
  },
  {
   "cell_type": "code",
   "execution_count": 4,
   "outputs": [
    {
     "name": "stdout",
     "text": [
      "Μια γυναίκα από άνεμο\n",
      "Γιάννης Ρίτσος\n",
      "\n",
      "Ένας άνεμος σιγανός φυσούσε μέσα της\n",
      "\n"
     ],
     "output_type": "stream"
    }
   ],
   "source": [
    "fr = open('./files/wind.txt')\n",
    "print(fr.read())\n",
    "fr.close()"
   ],
   "metadata": {
    "collapsed": false,
    "pycharm": {
     "name": "#%%\n",
     "is_executing": false
    }
   }
  },
  {
   "cell_type": "markdown",
   "source": [
    "Αν προσπαθήσουμε να ανοίξουμε ξανά το αρχείο με `'x'`, θα πάρουμε σφάλμα\n",
    "[FileExistsError](https://docs.python.org/3/library/exceptions.html#FileExistsError)."
   ],
   "metadata": {
    "collapsed": false,
    "pycharm": {
     "name": "#%% md\n"
    }
   }
  },
  {
   "cell_type": "code",
   "execution_count": 5,
   "outputs": [
    {
     "traceback": [
      "\u001b[0;31m---------------------------------------------------------------------------\u001b[0m",
      "\u001b[0;31mFileExistsError\u001b[0m                           Traceback (most recent call last)",
      "\u001b[0;32m<ipython-input-5-c775b8c3447d>\u001b[0m in \u001b[0;36m<module>\u001b[0;34m\u001b[0m\n\u001b[1;32m      1\u001b[0m \u001b[0;34m\u001b[0m\u001b[0m\n\u001b[0;32m----> 2\u001b[0;31m \u001b[0mfx\u001b[0m \u001b[0;34m=\u001b[0m \u001b[0mopen\u001b[0m\u001b[0;34m(\u001b[0m\u001b[0;34m'./files/wind.txt'\u001b[0m\u001b[0;34m,\u001b[0m \u001b[0;34m'x'\u001b[0m\u001b[0;34m)\u001b[0m\u001b[0;34m\u001b[0m\u001b[0;34m\u001b[0m\u001b[0m\n\u001b[0m\u001b[1;32m      3\u001b[0m \u001b[0;34m\u001b[0m\u001b[0m\n",
      "\u001b[0;31mFileExistsError\u001b[0m: [Errno 17] File exists: './files/wind.txt'"
     ],
     "ename": "FileExistsError",
     "evalue": "[Errno 17] File exists: './files/wind.txt'",
     "output_type": "error"
    }
   ],
   "source": [
    "fx = open('./files/wind.txt', 'x')"
   ],
   "metadata": {
    "collapsed": false,
    "pycharm": {
     "name": "#%% \n",
     "is_executing": false
    }
   }
  },
  {
   "cell_type": "markdown",
   "source": [
    "## Εγγραφή με `'w'`\n",
    "\n",
    "Όταν ανοίξουμε ένα αρχείο με `mode w`, τότε διακρίνουμε δύο περιπτώσεις:\n",
    "\n",
    "1. Αν το αρχείο δεν υπάρχει, τότε δημιουργείται.\n",
    "1. Αν το αρχείο υπάρχει, τότε διαγράφονται τα περιεχόμενά του.\n",
    "\n",
    "Μέχρι τώρα έχουμε φτιάξει ένα αρχείο με όνομα `wind.txt` στον κατάλογο \n",
    "`files` και έχουμε γράψει τέσσερις γραμμές.\n",
    "\n",
    "Ανοίγουμε εκ νέου το αρχείο με `'w'` και το κλείνουμε χωρίς να γράψουμε σ' αυτό."
   ],
   "metadata": {
    "collapsed": false,
    "pycharm": {
     "name": "#%% md\n"
    }
   }
  },
  {
   "cell_type": "code",
   "execution_count": 6,
   "outputs": [],
   "source": [
    "fw = open('./files/wind.txt', 'w')\n",
    "fw.close()"
   ],
   "metadata": {
    "collapsed": false,
    "pycharm": {
     "name": "#%%\n",
     "is_executing": false
    }
   }
  },
  {
   "cell_type": "markdown",
   "source": [
    "Ανοίγουμε το αρχείο για να διαβάσουμε το περιεχόμενό του."
   ],
   "metadata": {
    "collapsed": false,
    "pycharm": {
     "name": "#%% md\n"
    }
   }
  },
  {
   "cell_type": "code",
   "execution_count": 7,
   "outputs": [
    {
     "name": "stdout",
     "text": [
      "\n"
     ],
     "output_type": "stream"
    }
   ],
   "source": [
    "fr = open('./files/wind.txt')\n",
    "print(fr.read())"
   ],
   "metadata": {
    "collapsed": false,
    "pycharm": {
     "name": "#%%\n",
     "is_executing": false
    }
   }
  },
  {
   "cell_type": "markdown",
   "source": [
    "Το αρχείο είναι κενό. Το ανοίγουμε πάλι με `'w'` γιατί υπάρχει ήδη, και \n",
    "ξαναγράφουμε τις τέσσερις γραμμές όπως προηγουμένως."
   ],
   "metadata": {
    "collapsed": false,
    "pycharm": {
     "name": "#%% md\n"
    }
   }
  },
  {
   "cell_type": "code",
   "execution_count": 8,
   "outputs": [],
   "source": [
    "fw = open('./files/wind.txt', 'w')\n",
    "\n",
    "fw.write('Μια γυναίκα από άνεμο\\n')\n",
    "fw.write('Γιάννης Ρίτσος\\n')\n",
    "fw.write('\\n')  # Θα μπορούσαμε αυτή την αλλαγή να τη βάλουμε στο προηγούμενο write.\n",
    "fw.write('Ένας άνεμος σιγανός φυσούσε μέσα της\\n')\n",
    "\n",
    "fw.close()"
   ],
   "metadata": {
    "collapsed": false,
    "pycharm": {
     "name": "#%%\n",
     "is_executing": false
    }
   }
  },
  {
   "cell_type": "markdown",
   "source": [
    "## Εγγραφή με `'a'`\n",
    "\n",
    "Όταν ένα αρχείο ανοίγει με `mode 'a'`, τότε διατηρεί το περιεχόμενό του.\n",
    "Η κλήσεις της `write()` προσθέτουν γραμμές στο τέλος του αρχείου."
   ],
   "metadata": {
    "collapsed": false,
    "pycharm": {
     "name": "#%% md\n"
    }
   }
  },
  {
   "cell_type": "code",
   "execution_count": 9,
   "outputs": [],
   "source": [
    "fa = open('./files/wind.txt', 'a')\n",
    "\n",
    "fa.write('κι έπαιζε μ’ ένα μόνο φύλλο – το χαμόγελό της.\\n')\n",
    "fa.write('Όλοι αγαπήσαν το χαμόγελό της.\\n')\n",
    "fa.write('Εκείνη δεν αγάπησε κανέναν.\\n')\n",
    "\n",
    "fa.close()"
   ],
   "metadata": {
    "collapsed": false,
    "pycharm": {
     "name": "#%%\n",
     "is_executing": false
    }
   }
  },
  {
   "cell_type": "markdown",
   "source": [
    "Το περιεχόμενο του αρχείου είναι:"
   ],
   "metadata": {
    "collapsed": false,
    "pycharm": {
     "name": "#%% md\n"
    }
   }
  },
  {
   "cell_type": "code",
   "execution_count": 10,
   "outputs": [
    {
     "name": "stdout",
     "text": [
      "Μια γυναίκα από άνεμο\n",
      "Γιάννης Ρίτσος\n",
      "\n",
      "Ένας άνεμος σιγανός φυσούσε μέσα της\n",
      "κι έπαιζε μ’ ένα μόνο φύλλο – το χαμόγελό της.\n",
      "Όλοι αγαπήσαν το χαμόγελό της.\n",
      "Εκείνη δεν αγάπησε κανέναν.\n",
      "\n"
     ],
     "output_type": "stream"
    }
   ],
   "source": [
    "fr = open('./files/wind.txt')\n",
    "print(fr.read())\n",
    "fr.close()"
   ],
   "metadata": {
    "collapsed": false,
    "pycharm": {
     "name": "#%%\n",
     "is_executing": false
    }
   }
  },
  {
   "cell_type": "markdown",
   "source": [
    "## Ανάγνωση και Εγγραφή με `'r+'`\n",
    "\n",
    "Ένα αρχείο που ανοίγει για ανάγνωση και εγγραφή μας δίνει έναν περιγραφέα \n",
    "στον οποίο μπορούμε να χρησιμοποιήσουμε τις μεθόδους `read(), readline(), \n",
    "readlines()` αλλά και τη μέθοδο `write()`.\n",
    "\n",
    "H `read()` και οι παραλλαγές της λειτουργούν όπως έχουμε μάθει.\n",
    "Η `write()` λειτουργεί όπως όταν το αρχείο ανοίγει με `'a'`, δηλαδή οι \n",
    "εγγραφές γίνονται στο τέλος του αρχείου."
   ],
   "metadata": {
    "collapsed": false,
    "pycharm": {
     "name": "#%% md\n"
    }
   }
  },
  {
   "cell_type": "code",
   "execution_count": 11,
   "outputs": [
    {
     "name": "stdout",
     "text": [
      "Μια γυναίκα από άνεμο\n",
      "Γιάννης Ρίτσος\n"
     ],
     "output_type": "stream"
    }
   ],
   "source": [
    "frp = open('./files/wind.txt', 'r+')\n",
    "\n",
    "print(frp.readline(), end='')  # Ο τίτλος.\n",
    "print(frp.readline(), end='')  # Ο ποιητής.\n",
    "\n",
    "# Προσθέτουμε δύο ακόμη στροφές.\n",
    "frp.write(\n",
    "    'Έμεινε μόνη με τον άφαντο άνεμό της χάνοντας και το μόνο εκείνο φύλλο.\\n')\n",
    "frp.write('«Το άπειρο, είπε, είναι ο τέταρτος τοίχος της μοναξιάς μας, '\n",
    "          'όχι η στέγη.»\\n')\n",
    "frp.close()"
   ],
   "metadata": {
    "collapsed": false,
    "pycharm": {
     "name": "#%%\n",
     "is_executing": false
    }
   }
  },
  {
   "cell_type": "markdown",
   "source": [
    "Το περιεχόμενο του αρχείου είναι:"
   ],
   "metadata": {
    "collapsed": false,
    "pycharm": {
     "name": "#%% md\n"
    }
   }
  },
  {
   "cell_type": "code",
   "execution_count": 12,
   "outputs": [
    {
     "name": "stdout",
     "text": [
      "Μια γυναίκα από άνεμο\n",
      "Γιάννης Ρίτσος\n",
      "\n",
      "Ένας άνεμος σιγανός φυσούσε μέσα της\n",
      "κι έπαιζε μ’ ένα μόνο φύλλο – το χαμόγελό της.\n",
      "Όλοι αγαπήσαν το χαμόγελό της.\n",
      "Εκείνη δεν αγάπησε κανέναν.\n",
      "Έμεινε μόνη με τον άφαντο άνεμό της χάνοντας και το μόνο εκείνο φύλλο.\n",
      "«Το άπειρο, είπε, είναι ο τέταρτος τοίχος της μοναξιάς μας, όχι η στέγη.»\n",
      "\n"
     ],
     "output_type": "stream"
    }
   ],
   "source": [
    "fr = open('./files/wind.txt')\n",
    "print(fr.read())\n",
    "fr.close()\n"
   ],
   "metadata": {
    "collapsed": false,
    "pycharm": {
     "name": "#%%\n",
     "is_executing": false
    }
   }
  },
  {
   "cell_type": "markdown",
   "source": [
    "Το επόμενο κελί διαγράφει το αρχείο `wind.txt` έτσι ώστε αν ξεκινήσουμε το \n",
    "σημειωματάριο από το πρώτο κελί κώδικα, να μη πάρουμε σφάλμα FileExistsError. "
   ],
   "metadata": {
    "collapsed": false,
    "pycharm": {
     "name": "#%% md\n"
    }
   }
  },
  {
   "cell_type": "code",
   "execution_count": 13,
   "outputs": [],
   "source": [
    "os.remove('./files/wind.txt')"
   ],
   "metadata": {
    "collapsed": false,
    "pycharm": {
     "name": "#%%\n",
     "is_executing": false
    }
   }
  },
  {
   "cell_type": "code",
   "execution_count": null,
   "outputs": [],
   "source": [],
   "metadata": {
    "collapsed": false,
    "pycharm": {
     "name": "#%%\n"
    }
   }
  }
 ],
 "metadata": {
  "kernelspec": {
   "display_name": "Python 3",
   "language": "python",
   "name": "python3"
  },
  "language_info": {
   "codemirror_mode": {
    "name": "ipython",
    "version": 2
   },
   "file_extension": ".py",
   "mimetype": "text/x-python",
   "name": "python",
   "nbconvert_exporter": "python",
   "pygments_lexer": "ipython2",
   "version": "2.7.6"
  },
  "pycharm": {
   "stem_cell": {
    "cell_type": "raw",
    "source": [],
    "metadata": {
     "collapsed": false
    }
   }
  }
 },
 "nbformat": 4,
 "nbformat_minor": 0
}
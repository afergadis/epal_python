{
 "cells": [
  {
   "cell_type": "markdown",
   "metadata": {
    "collapsed": true,
    "pycharm": {
     "name": "#%% md\n"
    }
   },
   "source": [
    "# Παράδειγμα Χειρισμού Δεδομένων από Αρχείο\n",
    "\n",
    "Τις περισσότερες φορές τα δεδομένα μας προέρχονται από αρχεία και βάσεις \n",
    "δεδομένων και όχι από είσοδο των χρηστών. Τουλάχιστον αυτά που είναι μεγάλα \n",
    "σε πληροφορία.\n",
    "Έτσι, όταν βλέπουμε εκφωνήσεις \"διαβάσει ονόματα και βαθμολογία 100 \n",
    "φοιτητών\", το διάβασμα όπως είναι φυσικό γίνεται από αρχείο και όχι από έναν \n",
    "χρήστη που τα πληκτρολογεί ένα-ένα.\n",
    "\n",
    "Σε αυτό το παράδειγμα διαβάζουμε ένα αρχείο με τα ονόματα 16 φοιτητών και τη \n",
    "βαθμολογία τους σε τέσσερα τεστ και στο τελικό διαγώνισμα.\n",
    "Το αρχείο είνα csv (comma separated values), δηλαδή, κάθε τιμή διαχωρίζεται \n",
    "με την επόμενη βάζοντας ανάμεσα ένα κόμμα.\n",
    "Η τελευταία τιμή σε κάθε γραμμή δεν έχει κόμμα αλλά αλλαγή γραμμής.\n",
    "\n",
    "**Σημείωση:** Χρησιμοποιούμε το άρθρωμα [pandas](https://pandas.pydata.org/) \n",
    "για να διαβάσουμε και να δείξουμε σε μορφή πίνακα το αρχείο. Αυτό *δεν* είναι\n",
    "απαραίτητο. Το pandas μας δίνει πολλές δυνατότητες επεξεργασίας αρχείων που \n",
    "έχουν δομή πίνακα.\n",
    "\n",
    "Αν δεν υπάρχει εγκατεστημένο στο σύστημά σας, μπορείτε να το εγκαταστήσετε ως\n",
    "εξής:\n",
    " ```bash\n",
    "$ pip install pandas\n",
    "```\n",
    "\n",
    "Αν τρέχετε το σημειωματάριο με το `mybinder` τότε η εγκατάσταση θα γίνει \n",
    "αυτόματα.\n",
    "\n",
    "Τα περιεχόμενα, λοιπόν, του αρχείου είναι:"
   ]
  },
  {
   "cell_type": "code",
   "execution_count": 1,
   "outputs": [
    {
     "data": {
      "text/plain": "    Last name  First name          SSN  Test1  Test2  Test3  Test4  Final\n0     Alfalfa    Aloysius  123-45-6789     40     90    100     83     49\n1      Alfred  University  123-12-1234     41     97     96     97     48\n2       Gerty      Gramma  567-89-0123     41     80     60     40     44\n3     Android    Electric  087-65-4321     42     23     36     45     47\n4     Bumpkin        Fred  456-78-9012     43     78     88     77     45\n5      Rubble       Betty  234-56-7890     44     90     80     90     46\n6      Noshow       Cecil  345-67-8901     45     11      1      4     43\n7        Buff         Bif  632-79-9939     46     20     30     40     50\n8     Airpump      Andrew  223-45-6789     49      1     90    100     83\n9      Backus         Jim  143-12-1234     48      1     97     96     97\n10  Carnivore         Art  565-89-0123     44      1     80     60     40\n11      Dandy         Jim  087-75-4321     47      1     23     36     45\n12   Elephant         Ima  456-71-9012     45      1     78     88     77\n13   Franklin       Benny  234-56-2890     50      1     90     80     90\n14     George         Boy  345-67-3901     40      1     11      1      4\n15  Heffalump      Harvey  632-79-9439     30      1     20     30     40",
      "text/html": "<div>\n<style scoped>\n    .dataframe tbody tr th:only-of-type {\n        vertical-align: middle;\n    }\n\n    .dataframe tbody tr th {\n        vertical-align: top;\n    }\n\n    .dataframe thead th {\n        text-align: right;\n    }\n</style>\n<table border=\"1\" class=\"dataframe\">\n  <thead>\n    <tr style=\"text-align: right;\">\n      <th></th>\n      <th>Last name</th>\n      <th>First name</th>\n      <th>SSN</th>\n      <th>Test1</th>\n      <th>Test2</th>\n      <th>Test3</th>\n      <th>Test4</th>\n      <th>Final</th>\n    </tr>\n  </thead>\n  <tbody>\n    <tr>\n      <th>0</th>\n      <td>Alfalfa</td>\n      <td>Aloysius</td>\n      <td>123-45-6789</td>\n      <td>40</td>\n      <td>90</td>\n      <td>100</td>\n      <td>83</td>\n      <td>49</td>\n    </tr>\n    <tr>\n      <th>1</th>\n      <td>Alfred</td>\n      <td>University</td>\n      <td>123-12-1234</td>\n      <td>41</td>\n      <td>97</td>\n      <td>96</td>\n      <td>97</td>\n      <td>48</td>\n    </tr>\n    <tr>\n      <th>2</th>\n      <td>Gerty</td>\n      <td>Gramma</td>\n      <td>567-89-0123</td>\n      <td>41</td>\n      <td>80</td>\n      <td>60</td>\n      <td>40</td>\n      <td>44</td>\n    </tr>\n    <tr>\n      <th>3</th>\n      <td>Android</td>\n      <td>Electric</td>\n      <td>087-65-4321</td>\n      <td>42</td>\n      <td>23</td>\n      <td>36</td>\n      <td>45</td>\n      <td>47</td>\n    </tr>\n    <tr>\n      <th>4</th>\n      <td>Bumpkin</td>\n      <td>Fred</td>\n      <td>456-78-9012</td>\n      <td>43</td>\n      <td>78</td>\n      <td>88</td>\n      <td>77</td>\n      <td>45</td>\n    </tr>\n    <tr>\n      <th>5</th>\n      <td>Rubble</td>\n      <td>Betty</td>\n      <td>234-56-7890</td>\n      <td>44</td>\n      <td>90</td>\n      <td>80</td>\n      <td>90</td>\n      <td>46</td>\n    </tr>\n    <tr>\n      <th>6</th>\n      <td>Noshow</td>\n      <td>Cecil</td>\n      <td>345-67-8901</td>\n      <td>45</td>\n      <td>11</td>\n      <td>1</td>\n      <td>4</td>\n      <td>43</td>\n    </tr>\n    <tr>\n      <th>7</th>\n      <td>Buff</td>\n      <td>Bif</td>\n      <td>632-79-9939</td>\n      <td>46</td>\n      <td>20</td>\n      <td>30</td>\n      <td>40</td>\n      <td>50</td>\n    </tr>\n    <tr>\n      <th>8</th>\n      <td>Airpump</td>\n      <td>Andrew</td>\n      <td>223-45-6789</td>\n      <td>49</td>\n      <td>1</td>\n      <td>90</td>\n      <td>100</td>\n      <td>83</td>\n    </tr>\n    <tr>\n      <th>9</th>\n      <td>Backus</td>\n      <td>Jim</td>\n      <td>143-12-1234</td>\n      <td>48</td>\n      <td>1</td>\n      <td>97</td>\n      <td>96</td>\n      <td>97</td>\n    </tr>\n    <tr>\n      <th>10</th>\n      <td>Carnivore</td>\n      <td>Art</td>\n      <td>565-89-0123</td>\n      <td>44</td>\n      <td>1</td>\n      <td>80</td>\n      <td>60</td>\n      <td>40</td>\n    </tr>\n    <tr>\n      <th>11</th>\n      <td>Dandy</td>\n      <td>Jim</td>\n      <td>087-75-4321</td>\n      <td>47</td>\n      <td>1</td>\n      <td>23</td>\n      <td>36</td>\n      <td>45</td>\n    </tr>\n    <tr>\n      <th>12</th>\n      <td>Elephant</td>\n      <td>Ima</td>\n      <td>456-71-9012</td>\n      <td>45</td>\n      <td>1</td>\n      <td>78</td>\n      <td>88</td>\n      <td>77</td>\n    </tr>\n    <tr>\n      <th>13</th>\n      <td>Franklin</td>\n      <td>Benny</td>\n      <td>234-56-2890</td>\n      <td>50</td>\n      <td>1</td>\n      <td>90</td>\n      <td>80</td>\n      <td>90</td>\n    </tr>\n    <tr>\n      <th>14</th>\n      <td>George</td>\n      <td>Boy</td>\n      <td>345-67-3901</td>\n      <td>40</td>\n      <td>1</td>\n      <td>11</td>\n      <td>1</td>\n      <td>4</td>\n    </tr>\n    <tr>\n      <th>15</th>\n      <td>Heffalump</td>\n      <td>Harvey</td>\n      <td>632-79-9439</td>\n      <td>30</td>\n      <td>1</td>\n      <td>20</td>\n      <td>30</td>\n      <td>40</td>\n    </tr>\n  </tbody>\n</table>\n</div>"
     },
     "metadata": {},
     "output_type": "execute_result",
     "execution_count": 1
    }
   ],
   "source": [
    "import pandas\n",
    "\n",
    "data = pandas.read_csv('./files/grades.csv')\n",
    "data"
   ],
   "metadata": {
    "collapsed": false,
    "pycharm": {
     "name": "#%%\n",
     "is_executing": false
    }
   }
  },
  {
   "cell_type": "markdown",
   "source": [
    "Το αρχείο έχει μια επικεφαλίδα, την πρώτη γραμμή.\n",
    "Οι τρεις πρώτες στήλες έχουν το επώνυμο, το όνομα και τον αριθμό μητρώου του \n",
    "φοιτητή.\n",
    "Ακολουθούν πέντε στήλες με τις βαθμολογίες.\n",
    "\n",
    "# Υπολογισμός Μέσων Όρων\n",
    "Το ζητούμενο είναι να υπολογίσουμε το μέσο όρο κάθε φοιτητή.\n",
    "Αυτό ισοδυναμεί με τον υπολογισμό των βαθμών *ανά γραμμή*.\n",
    "Για να το επιτύχουμε αυτό, βολεύει να διαβάσουμε το αρχείο γραμμή γραμμή.\n",
    "Σε κάθε γραμμή πρέπει να διαχωρήσουμε τις 8 τιμές της (ο πίνακας παραπάνω \n",
    "έχει 8 στήλες, η πρώτη είναι απλά μια αρίθμηση).\n",
    "Από τις 8 τιμές μας ενδιαφέρουν οι πέντε τελευταίες που είναι οι βαθμολογίες.\n",
    "\n",
    "Για το διαχωρισμό της γραμμής χρησιμοποιούμε τη συνάρτηση `split(sep)` η \n",
    "οποία χωρίζει μια συμβολοσειρά στον χαρακτήρα `sep`. \n",
    "Επιστρέφει μία λίστα με τα διαχωρισμένα τμήματα της συμβολοσειράς.\n",
    "\n",
    "Παράδειγμα:"
   ],
   "metadata": {
    "collapsed": false,
    "pycharm": {
     "name": "#%% md\n"
    }
   }
  },
  {
   "cell_type": "code",
   "execution_count": 2,
   "outputs": [
    {
     "name": "stdout",
     "text": [
      "['Fergadis', 'Aris', '451-12-8430', '60', '46', '78', '90', '81\\n']\n"
     ],
     "output_type": "stream"
    }
   ],
   "source": [
    "example_line = 'Fergadis,Aris,451-12-8430,60,46,78,90,81\\n'\n",
    "values = example_line.split(',')\n",
    "print(values)"
   ],
   "metadata": {
    "collapsed": false,
    "pycharm": {
     "name": "#%%\n",
     "is_executing": false
    }
   }
  },
  {
   "cell_type": "markdown",
   "source": [
    "Παρατηρούμε ότι όλα τα αντικείμενα της λίστας είναι συμβολοσειρές.\n",
    "Αυτό σημαίνει ότι για να υπολογίσουμε τον μέσο όρο, θα πρέπει να μετατρέψουμε\n",
    "σε αριθμούς εκείνες που αντιστοιχούν στις βαθμολογίες.\n",
    " \n",
    "Τελευταία λεπτομέρεια είναι ότι η πρώτη γραμμή έχει τα ονόματα των στηλών του\n",
    "πίνακα, οπότε δε θα πρέπει να κάνουμε κάτι γι' αυτήν.\n",
    "\n",
    "Συνολικά ο κώδικας έχει ως εξής:"
   ],
   "metadata": {
    "collapsed": false,
    "pycharm": {
     "name": "#%% md\n"
    }
   }
  },
  {
   "cell_type": "code",
   "execution_count": 3,
   "outputs": [
    {
     "name": "stdout",
     "text": [
      "Alfalfa Aloysius: 72.4\n",
      "Alfred University: 75.8\n",
      "Gerty Gramma: 53.0\n",
      "Android Electric: 38.6\n",
      "Bumpkin Fred: 66.2\n",
      "Rubble Betty: 70.0\n",
      "Noshow Cecil: 20.8\n",
      "Buff Bif: 37.2\n",
      "Airpump Andrew: 64.6\n",
      "Backus Jim: 67.8\n",
      "Carnivore Art: 45.0\n",
      "Dandy Jim: 30.4\n",
      "Elephant Ima: 57.8\n",
      "Franklin Benny: 62.2\n",
      "George Boy: 11.4\n",
      "Heffalump Harvey: 24.2\n"
     ],
     "output_type": "stream"
    }
   ],
   "source": [
    "first_line = True\n",
    "for line in open('./files/grades.csv'):\n",
    "    if first_line:\n",
    "        first_line = False\n",
    "        continue  # Πήγαινε στην επόμενη γραμμή.\n",
    "    values = line.split(',')  # Χωρίζουμε τη γραμμή στα κόμματα.\n",
    "    # Κρατάμε το επώνυμο και το όνομα για να τα εμφανίσουμε παρακάτω.\n",
    "    last_name = values[0]\n",
    "    first_name = values[1]\n",
    "    \n",
    "    student_sum = 0  # Το άθροισμα των βαθμών του φοιτητή, δηλαδή, της γραμμής.\n",
    "    for grade in values[3:]:  # Θέλουμε τις τιμές από τη θέση τρία και μετά.\n",
    "        # Ισοδύναμα, αφού θέλουμε τις τελευταίες 5 τιμές, μπορούμε να γράψουμε\n",
    "        # for grade in values[-5:]:\n",
    "        student_sum += int(grade)  # Η grade είναι str.\n",
    "        \n",
    "    # Υπολογισμός του μέσου όρου:\n",
    "    student_avg = student_sum / 5.0\n",
    "    \n",
    "    # Εκτύπωση του αποτελέσματος.\n",
    "    print(last_name + ' ' + first_name + ': ' + str(student_avg))\n",
    "    "
   ],
   "metadata": {
    "collapsed": false,
    "pycharm": {
     "name": "#%%\n",
     "is_executing": false
    }
   }
  },
  {
   "cell_type": "markdown",
   "source": [
    "# Ασκήσεις\n",
    "## #1\n",
    "Υπολόγισε τον μέσο όρων όλων των φοιτητών, δηλαδή των βαθμολογιών που \n",
    "υπολογίσαμε παραπάνω. Το αποτέλεσμά σου πρέπει να είναι 49.8375"
   ],
   "metadata": {
    "collapsed": false,
    "pycharm": {
     "name": "#%% md\n"
    }
   }
  },
  {
   "cell_type": "code",
   "execution_count": 4,
   "outputs": [],
   "source": [
    "# Γράψε εδώ τον κώδικά σου."
   ],
   "metadata": {
    "collapsed": false,
    "pycharm": {
     "name": "#%%\n",
     "is_executing": false
    }
   }
  },
  {
   "cell_type": "markdown",
   "source": [
    "## #2\n",
    "Στο παράδειγμα ξέραμε ότι είχαμε πέντε βαθμολογίες και στον μέσο όρο κάναμε \n",
    "τη διαίρεση με το 5.\n",
    "Αν γνωρίζουμε ότι οι τρεις πρώτες στήλες έχουν επώνυμο, όνομα και αριθμό \n",
    "μητρώου και ακολουθούν N (N>1) βαθμοί, πως πρέπει να αλλάξει ο κώδικας ώστε \n",
    "να υπολογίζει τους μέσους όρους;"
   ],
   "metadata": {
    "collapsed": false,
    "pycharm": {
     "name": "#%% md\n"
    }
   }
  },
  {
   "cell_type": "code",
   "execution_count": 5,
   "outputs": [],
   "source": [
    "# Γράψε εδώ τον κώδικά σου."
   ],
   "metadata": {
    "collapsed": false,
    "pycharm": {
     "name": "#%%\n",
     "is_executing": false
    }
   }
  },
  {
   "cell_type": "markdown",
   "source": [
    "## #3\n",
    "Υπολόγισε τον μέσο όρο των φοιτητών ανά τεστ. Δηλαδή, το μέσο όρο της στήλης \n",
    "Test1, της Test2 κ.ο.κ.\n",
    "\n",
    "Το αποτέλεσμά σου πρέπει να είναι: \n",
    "```\n",
    "Test1: 43.4375\n",
    "Test2: 31.0625\n",
    "Test3: 61.25\n",
    "Test4: 60.4375\n",
    "Final: 53.0\n",
    "```"
   ],
   "metadata": {
    "collapsed": false,
    "pycharm": {
     "name": "#%% md\n"
    }
   }
  },
  {
   "cell_type": "code",
   "execution_count": 6,
   "outputs": [],
   "source": [
    "# Γράψε εδώ τον κώδικά σου.\n",
    "\n",
    "\n"
   ],
   "metadata": {
    "collapsed": false,
    "pycharm": {
     "name": "#%%\n",
     "is_executing": false
    }
   }
  }
 ],
 "metadata": {
  "kernelspec": {
   "name": "pycharm-5452e423",
   "language": "python",
   "display_name": "PyCharm (notebooks)"
  },
  "language_info": {
   "codemirror_mode": {
    "name": "ipython",
    "version": 2
   },
   "file_extension": ".py",
   "mimetype": "text/x-python",
   "name": "python",
   "nbconvert_exporter": "python",
   "pygments_lexer": "ipython2",
   "version": "2.7.6"
  },
  "pycharm": {
   "stem_cell": {
    "cell_type": "raw",
    "source": [],
    "metadata": {
     "collapsed": false
    }
   }
  }
 },
 "nbformat": 4,
 "nbformat_minor": 0
}
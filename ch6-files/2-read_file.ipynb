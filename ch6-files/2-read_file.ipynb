{
 "cells": [
  {
   "cell_type": "markdown",
   "source": [
    "# Ανάγνωση Αρχείου\n",
    "\n",
    "Θα δούμε διάφορους τρόπους με τους οποίους μπορούμε να διαβάσουμε ένα αρχείο.\n",
    "\n",
    "1. Όλο μαζί,\n",
    "1. Τμηματικά,\n",
    "1. Γραμμή-γραμμή,\n",
    "1. Γραμμή-γραμμή τμηματικά,\n",
    "1. Όλο μαζί σαν γραμμές,\n",
    "1. Τμηματικά σαν γραμμές.\n",
    "\n",
    "## Όλο Μαζί\n",
    "Με αυτό τον τρόπο ολόκληρο το περιεχόμενο του αρχείου θα δωθεί σε μια μεταβλητή\n",
    "ως μια συμβολοσειρά.\n",
    "Αυτός ο τρόπος είναι κατάλληλος για αρχεία που μπορούν να χωρέσουν στη μνήμη \n",
    "και για τις περιπτώσεις που δε χρειάζεται να κάνουμε κάποια επεξεργασία \n",
    "διαβάζοντάς τα.\n",
    "\n",
    "Η μέθοδος του περιγραφέα για αυτή την ανάγνωση είναι η `read()`.\n",
    "Χωρίς παραμέτρους θα διαβάσει όλο το αρχείο και θα επιστρέψει το περιεχόμενό \n",
    "του ως συμβολοσειρά."
   ],
   "metadata": {
    "collapsed": false
   }
  },
  {
   "cell_type": "code",
   "execution_count": 1,
   "outputs": [
    {
     "name": "stdout",
     "text": [
      "Ο Ήλιος\n",
      "Οδυσσέας Ελύτης\n",
      "\n",
      "Εσείς στεριές και θάλασσες\n",
      "τ' αμπέλια κι οι χρυσές ελιές\n",
      "ακούτε τα χαμπέρια μου\n",
      "μέσα στα μεσημέρια μου\n",
      "\n",
      "«Σ' όλους τους τόπους κι αν γυρνώ\n",
      "μόνον ετούτον αγαπώ!»\n",
      "\n",
      "Από τη μέση του εγκρεμού\n",
      "στη μέση του άλλου πελάγου\n",
      "κόκκινα κίτρινα σπαρτά\n",
      "νερά πράσινα κι άπατα\n",
      "\n",
      "«Σ' όλους τους τόπους κι αν γυρνώ\n",
      "μόνον ετούτον αγαπώ!»\n"
     ],
     "output_type": "stream"
    }
   ],
   "source": [
    "fp = open('files/sun.txt')\n",
    "text = fp.read()\n",
    "print(text)\n",
    "fp.close()"
   ],
   "metadata": {
    "collapsed": false,
    "pycharm": {
     "name": "#%%\n",
     "is_executing": false
    }
   }
  },
  {
   "cell_type": "markdown",
   "source": [
    "## Τμηματικά\n",
    "Μπορούμε να διαβάσουμε το αρχείο κατά τμήματα.\n",
    "Δηλαδή ορίζουμε πόσα bytes θέλουμε να διαβάσουμε.\n",
    "Αυτό γίνεται όταν δίνουμε παράμετρο έναν ακέραιο αριθμό στην `read()` ο \n",
    "οποίος αντιστοιχεί στο πλήθος των bytes.\n",
    "\n",
    "**Παρατήρηση:** Στην περίπτωση των unicode αρχείων κειμένου, όπως αυτά που \n",
    "έχουμε εδώ, κάθε byte αντιστοιχεί σε ένα χαρακτήρα. Στη συνέχεια αντί για \n",
    "byte θα χρησιμοποιώ τον όρο χαρακτήρας."
   ],
   "metadata": {
    "collapsed": false
   }
  },
  {
   "cell_type": "code",
   "execution_count": 2,
   "outputs": [
    {
     "name": "stdout",
     "text": [
      "Ο Ήλιος\n"
     ],
     "output_type": "stream"
    }
   ],
   "source": [
    "fp = open('files/sun.txt')\n",
    "chunk = fp.read(7)\n",
    "print(chunk)"
   ],
   "metadata": {
    "collapsed": false,
    "pycharm": {
     "name": "#%%\n",
     "is_executing": false
    }
   }
  },
  {
   "cell_type": "code",
   "execution_count": 3,
   "outputs": [
    {
     "name": "stdout",
     "text": [
      "\n",
      "Οδυσσέας \n",
      "Ελύτης\n",
      "\n"
     ],
     "output_type": "stream"
    }
   ],
   "source": [
    "print(fp.read(10))  # Έχει διαβάσει και το κενό μετά το όνομα.\n",
    "print(fp.read(7))  # Έχει διαβάσει και τον χαρακτήρα αλλαγής γραμμής.\n"
   ],
   "metadata": {
    "collapsed": false,
    "pycharm": {
     "name": "#%%\n",
     "is_executing": false
    }
   }
  },
  {
   "cell_type": "markdown",
   "source": [
    "Αν χρησιμοποιήσουμε την `read()` χωρίς παραμέτρους, τότε θα διαβάσει *από τον\n",
    " χαρακτήρα που βρισκόμαστε* μέχρι το τέλος του αρχείου.\n",
    " "
   ],
   "metadata": {
    "collapsed": false
   }
  },
  {
   "cell_type": "code",
   "execution_count": 4,
   "outputs": [
    {
     "name": "stdout",
     "text": [
      "\n",
      "Εσείς στεριές και θάλασσες\n",
      "τ' αμπέλια κι οι χρυσές ελιές\n",
      "ακούτε τα χαμπέρια μου\n",
      "μέσα στα μεσημέρια μου\n",
      "\n",
      "«Σ' όλους τους τόπους κι αν γυρνώ\n",
      "μόνον ετούτον αγαπώ!»\n",
      "\n",
      "Από τη μέση του εγκρεμού\n",
      "στη μέση του άλλου πελάγου\n",
      "κόκκινα κίτρινα σπαρτά\n",
      "νερά πράσινα κι άπατα\n",
      "\n",
      "«Σ' όλους τους τόπους κι αν γυρνώ\n",
      "μόνον ετούτον αγαπώ!»\n"
     ],
     "output_type": "stream"
    }
   ],
   "source": [
    "print(fp.read())"
   ],
   "metadata": {
    "collapsed": false,
    "pycharm": {
     "name": "#%%\n",
     "is_executing": false
    }
   }
  },
  {
   "cell_type": "markdown",
   "source": [
    "Όταν ο περιγραφέας έχει φτάσει στο τέλος του αρχείου, επόμενη κλήση της `read()`\n",
    "δε θα εμφανίσει κάτι."
   ],
   "metadata": {
    "collapsed": false
   }
  },
  {
   "cell_type": "code",
   "execution_count": 5,
   "outputs": [
    {
     "name": "stdout",
     "text": [
      "\n"
     ],
     "output_type": "stream"
    }
   ],
   "source": [
    "print(fp.read())\n",
    "fp.close()"
   ],
   "metadata": {
    "collapsed": false,
    "pycharm": {
     "name": "#%%\n",
     "is_executing": false
    }
   }
  },
  {
   "cell_type": "markdown",
   "source": [
    "### Γραμμή-γραμμή\n",
    "\n",
    "Μπορούμε να διαβάσουμε μία γραμμή κάθε φορά από ένα ανοιχτό για ανάγνωση αρχείο.\n",
    "Αυτό γίνεται με τη μέθοδο `readline()` του περιγραφέα, χωρίς παραμέτρους."
   ],
   "metadata": {
    "collapsed": false
   }
  },
  {
   "cell_type": "code",
   "execution_count": 6,
   "outputs": [
    {
     "name": "stdout",
     "text": [
      "Ο Ήλιος\n",
      "\n"
     ],
     "output_type": "stream"
    }
   ],
   "source": [
    "fp = open('files/sun.txt')\n",
    "title = fp.readline()\n",
    "print(title)"
   ],
   "metadata": {
    "collapsed": false,
    "pycharm": {
     "name": "#%%\n",
     "is_executing": false
    }
   }
  },
  {
   "cell_type": "markdown",
   "source": [
    "**Σημείωση:** Το τέλος της γραμμής ορίζεται με τον χαρακτήρα new line ο οποίο\n",
    "αντιστοιχεί στην ακολουθία χαρακτήρων `\\n`.\n",
    "Ο χαρακτήρας αυτός δεν φαίνεται όταν καλούμε την print, αλλά αλλάζει γραμμή \n",
    "και το υπόλοιπο κείμενο εμφανίζεται παρακάτω.\n",
    " \n",
    "Μπορούμε να δούμε το κείμενο με τις αλλαγή γραμμής ως εξής:"
   ],
   "metadata": {
    "collapsed": false,
    "pycharm": {
     "name": "#%% md\n"
    }
   }
  },
  {
   "cell_type": "code",
   "execution_count": 7,
   "outputs": [
    {
     "name": "stdout",
     "text": [
      "'Ο Ήλιος\\n'\n"
     ],
     "output_type": "stream"
    }
   ],
   "source": [
    "print(repr(title))"
   ],
   "metadata": {
    "collapsed": false,
    "pycharm": {
     "name": "#%%\n",
     "is_executing": false
    }
   }
  },
  {
   "cell_type": "markdown",
   "source": [
    "Οι επόμενες κλήσεις της `readline()` θα φέρουν τις επόμενες γραμμές"
   ],
   "metadata": {
    "collapsed": false
   }
  },
  {
   "cell_type": "code",
   "execution_count": 8,
   "outputs": [
    {
     "name": "stdout",
     "text": [
      "Οδυσσέας Ελύτης\n",
      "\n",
      "Εσείς στεριές και θάλασσες\n"
     ],
     "output_type": "stream"
    }
   ],
   "source": [
    "print(fp.readline(), end='')\n",
    "# Κάθε γραμμή στο αρχείο έχει ένα χαρακτήρα αλλαγής γραμμής.\n",
    "# Η print βάζει και αυτή αλλαγή γραμμής στο τέλος. Αυτό μπορεί να αλλάξει\n",
    "# βάζοντας την παράμετρο end όπου έχουμε ορίσει ότι στο τέλος δε θέλουμε \n",
    "# τίποτα ''. ΠΡΟΣΟΧΗ: Αυτό ισχύει για Python 3. Για Python 2 θα βάζαμε \n",
    "# ένα κομμα μετά την print.\n",
    "print(fp.readline(), end='')\n",
    "print(fp.readline(), end='')\n",
    "fp.close()"
   ],
   "metadata": {
    "collapsed": false,
    "pycharm": {
     "name": "#%%\n",
     "is_executing": false
    }
   }
  },
  {
   "cell_type": "markdown",
   "source": [
    "#### Γραμμή-γραμμή με Επανάληψη\n",
    "Τις περισσότερες φορές δε θέλουμε να καλούμε τη `readline()` βάζοντας εντολές\n",
    " στη σειρά.\n",
    "Αυτό που χρειαζόμαστε είναι να διαβάσουμε τις γραμμές μία μία και να κάνουμε \n",
    "κάποια επεξεργασία σ' αυτές.\n",
    "\n",
    "Για παράδειγμα, ο παρακάτω κώδικας θα διαβάσει διαδοχικά τις γραμμές και θα \n",
    "εκτυπώνει στην αρχή τον αριθμό τους."
   ],
   "metadata": {
    "collapsed": false
   }
  },
  {
   "cell_type": "code",
   "execution_count": 9,
   "outputs": [
    {
     "name": "stdout",
     "text": [
      "1: Ο Ήλιος\n",
      "2: Οδυσσέας Ελύτης\n",
      "3: \n",
      "4: Εσείς στεριές και θάλασσες\n",
      "5: τ' αμπέλια κι οι χρυσές ελιές\n",
      "6: ακούτε τα χαμπέρια μου\n",
      "7: μέσα στα μεσημέρια μου\n",
      "8: \n",
      "9: «Σ' όλους τους τόπους κι αν γυρνώ\n",
      "10: μόνον ετούτον αγαπώ!»\n",
      "11: \n",
      "12: Από τη μέση του εγκρεμού\n",
      "13: στη μέση του άλλου πελάγου\n",
      "14: κόκκινα κίτρινα σπαρτά\n",
      "15: νερά πράσινα κι άπατα\n",
      "16: \n",
      "17: «Σ' όλους τους τόπους κι αν γυρνώ\n",
      "18: μόνον ετούτον αγαπώ!»"
     ],
     "output_type": "stream"
    }
   ],
   "source": [
    "fp = open('files/sun.txt')\n",
    "n_line = 1\n",
    "for line in fp:\n",
    "    print(str(n_line) + ': ' + line, end='')\n",
    "    n_line += 1\n",
    "fp.close()"
   ],
   "metadata": {
    "collapsed": false,
    "pycharm": {
     "name": "#%%\n",
     "is_executing": false
    }
   }
  },
  {
   "cell_type": "markdown",
   "source": [
    "Το προηγούμενο βρόχο μπορούμε να τον κάνουμε ακόμη πιο απλό αποφεύγοντας τη \n",
    "χρήση του περιγραφέα και την ανάγκη της `close()`."
   ],
   "metadata": {
    "collapsed": false
   }
  },
  {
   "cell_type": "code",
   "execution_count": 10,
   "outputs": [
    {
     "name": "stdout",
     "text": [
      "1: Ο Ήλιος\n",
      "2: Οδυσσέας Ελύτης\n",
      "3: \n",
      "4: Εσείς στεριές και θάλασσες\n",
      "5: τ' αμπέλια κι οι χρυσές ελιές\n",
      "6: ακούτε τα χαμπέρια μου\n",
      "7: μέσα στα μεσημέρια μου\n",
      "8: \n",
      "9: «Σ' όλους τους τόπους κι αν γυρνώ\n",
      "10: μόνον ετούτον αγαπώ!»\n",
      "11: \n",
      "12: Από τη μέση του εγκρεμού\n",
      "13: στη μέση του άλλου πελάγου\n",
      "14: κόκκινα κίτρινα σπαρτά\n",
      "15: νερά πράσινα κι άπατα\n",
      "16: \n",
      "17: «Σ' όλους τους τόπους κι αν γυρνώ\n",
      "18: μόνον ετούτον αγαπώ!»"
     ],
     "output_type": "stream"
    }
   ],
   "source": [
    "n_line = 1\n",
    "for line in open('files/sun.txt'):\n",
    "    print(str(n_line) + ': ' + line, end='')\n",
    "    n_line += 1\n",
    "    "
   ],
   "metadata": {
    "collapsed": false,
    "pycharm": {
     "name": "#%%\n",
     "is_executing": false
    }
   }
  },
  {
   "cell_type": "markdown",
   "source": [
    "### Γραμμή-γραμμή Τμηματικά\n",
    "\n",
    "Η μέθοδος `readline()` μπορεί να πάρει παράμετρο τον αριθμό των χαρακτήρων \n",
    "*της γραμμής* που θέλουμε να διαβάσουμε."
   ],
   "metadata": {
    "collapsed": false
   }
  },
  {
   "cell_type": "code",
   "execution_count": 11,
   "outputs": [
    {
     "name": "stdout",
     "text": [
      "Ο\n"
     ],
     "output_type": "stream"
    }
   ],
   "source": [
    "fp = open('files/sun.txt')\n",
    "det = fp.readline(1)  # Διάβασε το άρθρο.\n",
    "print(det)"
   ],
   "metadata": {
    "collapsed": false,
    "pycharm": {
     "name": "#%%\n",
     "is_executing": false
    }
   }
  },
  {
   "cell_type": "markdown",
   "source": [
    "Η επόμενη κλήση θα διαβάσει από το χαρακτήρα που έχει σταματήσει."
   ],
   "metadata": {
    "collapsed": false
   }
  },
  {
   "cell_type": "code",
   "execution_count": 12,
   "outputs": [
    {
     "name": "stdout",
     "text": [
      " Ήλ\n"
     ],
     "output_type": "stream"
    }
   ],
   "source": [
    "chunk = fp.readline(3)\n",
    "print(chunk)"
   ],
   "metadata": {
    "collapsed": false,
    "pycharm": {
     "name": "#%%\n",
     "is_executing": false
    }
   }
  },
  {
   "cell_type": "markdown",
   "source": [
    "και αν δεν βάλουμε παράμετρο, θα διαβάσει μέχρι το τέλος της γραμμής"
   ],
   "metadata": {
    "collapsed": false
   }
  },
  {
   "cell_type": "code",
   "execution_count": 13,
   "outputs": [
    {
     "name": "stdout",
     "text": [
      "ιος\n",
      "\n"
     ],
     "output_type": "stream"
    }
   ],
   "source": [
    "print(fp.readline())"
   ],
   "metadata": {
    "collapsed": false,
    "pycharm": {
     "name": "#%%\n",
     "is_executing": false
    }
   }
  },
  {
   "cell_type": "markdown",
   "source": [
    "**Παρατήρηση:** Αν ο αριθμός των χαρακτήρων που δίνουμε υπερβαίνει τον αριθμό\n",
    " των χαρακτήρων της γραμμής, τότε θα διαβάσει μέχρι το τέλος της.\n",
    " "
   ],
   "metadata": {
    "collapsed": false
   }
  },
  {
   "cell_type": "code",
   "execution_count": 14,
   "outputs": [
    {
     "name": "stdout",
     "text": [
      "Οδυσσέας Ελύτης\n",
      "\n"
     ],
     "output_type": "stream"
    }
   ],
   "source": [
    "print(fp.readline(50))\n",
    "fp.close()"
   ],
   "metadata": {
    "collapsed": false,
    "pycharm": {
     "name": "#%%\n",
     "is_executing": false
    }
   }
  },
  {
   "cell_type": "markdown",
   "source": [
    "## Όλο Μαζί ως Γραμμές\n",
    "Μπορούμε να διαβάσουμε ένα αρχείο όλο μαζί αλλά κάθε γραμμή του θα αποτελεί \n",
    "το στοιχείο μιας λίστας.\n",
    "Αυτό γίνεται μέσω της μεθόδου `readlines()`."
   ],
   "metadata": {
    "collapsed": false,
    "pycharm": {
     "name": "#%% md\n"
    }
   }
  },
  {
   "cell_type": "code",
   "execution_count": 15,
   "outputs": [
    {
     "data": {
      "text/plain": "['Ο Ήλιος\\n',\n 'Οδυσσέας Ελύτης\\n',\n '\\n',\n 'Εσείς στεριές και θάλασσες\\n',\n \"τ' αμπέλια κι οι χρυσές ελιές\\n\",\n 'ακούτε τα χαμπέρια μου\\n',\n 'μέσα στα μεσημέρια μου\\n',\n '\\n',\n \"«Σ' όλους τους τόπους κι αν γυρνώ\\n\",\n 'μόνον ετούτον αγαπώ!»\\n',\n '\\n',\n 'Από τη μέση του εγκρεμού\\n',\n 'στη μέση του άλλου πελάγου\\n',\n 'κόκκινα κίτρινα σπαρτά\\n',\n 'νερά πράσινα κι άπατα\\n',\n '\\n',\n \"«Σ' όλους τους τόπους κι αν γυρνώ\\n\",\n 'μόνον ετούτον αγαπώ!»']"
     },
     "metadata": {},
     "output_type": "execute_result",
     "execution_count": 15
    }
   ],
   "source": [
    "fp = open('files/sun.txt')\n",
    "lines = fp.readlines()\n",
    "lines"
   ],
   "metadata": {
    "collapsed": false,
    "pycharm": {
     "name": "#%%\n",
     "is_executing": false
    }
   }
  },
  {
   "cell_type": "code",
   "execution_count": 16,
   "outputs": [],
   "source": [
    "fp.close()"
   ],
   "metadata": {
    "collapsed": false,
    "pycharm": {
     "name": "#%%\n",
     "is_executing": false
    }
   }
  },
  {
   "cell_type": "markdown",
   "source": [
    "## Τμηματικά σαν Γραμμές\n",
    "Όπως και με τις προηγούμενες περιπτώσεις, η `readline()` μπορεί να πάρει \n",
    "παράμετρο τον αριθμό των χαρακτήρων που θέλουμε να διαβάσουμε. \n",
    "Όσες γραμμές εμπίπτουν σ' αυτό τον αριθμό θα επιστραφούν ως στοιχεία της λίστας.\n",
    "\n",
    "**Παρατήρηση:** Όταν ο αριθμός αυτός πέφτει μέσα στο μήκος μιας γραμμής και \n",
    "δε φτάνει μέχρι το τέλος της, τότε θα επιστραφεί *ολόκληρη* η γραμμή.\n",
    "\n",
    "Στο επόμενο παράδειγμα ζητάμε μόνο έναν χαρακτήρα αλλά επιστρέφετε ολόκληρη η\n",
    "πρώτη γραμμή."
   ],
   "metadata": {
    "collapsed": false,
    "pycharm": {
     "name": "#%% md\n"
    }
   }
  },
  {
   "cell_type": "code",
   "execution_count": 17,
   "outputs": [
    {
     "data": {
      "text/plain": "['Ο Ήλιος\\n']"
     },
     "metadata": {},
     "output_type": "execute_result",
     "execution_count": 17
    }
   ],
   "source": [
    "fp = open('files/sun.txt')\n",
    "lines = fp.readlines(1)\n",
    "lines"
   ],
   "metadata": {
    "collapsed": false,
    "pycharm": {
     "name": "#%%\n",
     "is_executing": false
    }
   }
  },
  {
   "cell_type": "markdown",
   "source": [
    "Επόμενες κλήσεις θα φέρουν τις επόμενες γραμμές."
   ],
   "metadata": {
    "collapsed": false,
    "pycharm": {
     "name": "#%% md\n"
    }
   }
  },
  {
   "cell_type": "code",
   "execution_count": 18,
   "outputs": [
    {
     "data": {
      "text/plain": "['Οδυσσέας Ελύτης\\n', '\\n', 'Εσείς στεριές και θάλασσες\\n']"
     },
     "metadata": {},
     "output_type": "execute_result",
     "execution_count": 18
    }
   ],
   "source": [
    "fp.readlines(20)"
   ],
   "metadata": {
    "collapsed": false,
    "pycharm": {
     "name": "#%%\n",
     "is_executing": false
    }
   }
  },
  {
   "cell_type": "code",
   "execution_count": 19,
   "outputs": [
    {
     "data": {
      "text/plain": "[\"τ' αμπέλια κι οι χρυσές ελιές\\n\",\n 'ακούτε τα χαμπέρια μου\\n',\n 'μέσα στα μεσημέρια μου\\n',\n '\\n',\n \"«Σ' όλους τους τόπους κι αν γυρνώ\\n\",\n 'μόνον ετούτον αγαπώ!»\\n',\n '\\n',\n 'Από τη μέση του εγκρεμού\\n',\n 'στη μέση του άλλου πελάγου\\n',\n 'κόκκινα κίτρινα σπαρτά\\n',\n 'νερά πράσινα κι άπατα\\n',\n '\\n',\n \"«Σ' όλους τους τόπους κι αν γυρνώ\\n\",\n 'μόνον ετούτον αγαπώ!»']"
     },
     "metadata": {},
     "output_type": "execute_result",
     "execution_count": 19
    }
   ],
   "source": [
    "fp.readlines()"
   ],
   "metadata": {
    "collapsed": false,
    "pycharm": {
     "name": "#%%\n",
     "is_executing": false
    }
   }
  },
  {
   "cell_type": "code",
   "execution_count": 20,
   "outputs": [],
   "source": [
    "fp.close()\n",
    "\n",
    "\n"
   ],
   "metadata": {
    "collapsed": false,
    "pycharm": {
     "name": "#%%\n",
     "is_executing": false
    }
   }
  }
 ],
 "metadata": {
  "kernelspec": {
   "display_name": "Python 3",
   "language": "python",
   "name": "python3"
  },
  "language_info": {
   "codemirror_mode": {
    "name": "ipython",
    "version": 2
   },
   "file_extension": ".py",
   "mimetype": "text/x-python",
   "name": "python",
   "nbconvert_exporter": "python",
   "pygments_lexer": "ipython2",
   "version": "2.7.6"
  },
  "pycharm": {
   "stem_cell": {
    "cell_type": "raw",
    "source": [],
    "metadata": {
     "collapsed": false
    }
   }
  }
 },
 "nbformat": 4,
 "nbformat_minor": 0
}
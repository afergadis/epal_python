{
 "cells": [
  {
   "cell_type": "markdown",
   "metadata": {
    "collapsed": true,
    "pycharm": {
     "name": "#%% md\n"
    }
   },
   "source": [
    "# Διαχείριση Αρχείων στο Μέσο\n",
    "\n",
    "Τα αρχεία αποθηκεύονται στο φυσικό μέσο από το Λειτουργικό Σύστημα (ΛΣ) \n",
    "οργανωμένα σε καταλόγους directories (όρος κυρίως σε unix συστήματα), που είναι \n",
    "γνωστοί και ως φάκελοι (folders) στα Windows.\n",
    "Κάθε αρχείο διαθέτει από το ΛΣ μια μοναδική διαδρομή του τύπου:\n",
    "```\n",
    "directory/sub-directory/.../file_name\n",
    "```\n",
    "Για την Python, αυτό αποτελεί μια συμβολοσειρά και προσδιορίζει το κάθε αρχείο. \n",
    "Μια τέτοια διαδρομή (path), η οποία ξεκινάει από τον τρέχοντα κατάλογο, καλείται \n",
    "*σχετική*, ενώ αυτή η οποία ξεκινάει από τον ανώτατο κατάλογο στο σύστημα \n",
    "αρχείων καλείται *απόλυτη* διαδρομή.\n",
    "\n",
    "Η απόλυτη διαδρομή ξεκινάει με τον χαρακτήρα `/` στο unix-like συστήματα, ενώ\n",
    "στα Windows με το όνομα του drive, π.χ., `C:/`.\n",
    "Η σχετική διαδρομή ξεκινάει με το όνομα του καταλόγου που ακολουθεί απ' το \n",
    "σημείο που βρισκόμαστε.\n",
    "Μπορεί να χρησιμοποιήθεί και την τελεία η οποία δηλώνει \"ο τρέχον κατάλογος\".\n",
    "Η σχετική διαδρομή του αρχείου `sun.txt` στα σημειωματάρια αυτής της ενότητας \n",
    "είναι: `files/sun.txt` ή `./files/sun.txt`.\n",
    "\n",
    "Το άρθρωμα που έχουμε στη διάθεσή μας από την Python για το χειρισμό των \n",
    "αρχείων στο ΛΣ είναι το `os`.\n",
    "Μας παρέχει συναρτήσεις για να μπορούμε να δουλέψουμε με αρχεία και καταλόγους.\n",
    "Για να το χρησιμοποιήσουμε, πρέπει πρώτα να το εισάγουμε."
   ]
  },
  {
   "cell_type": "code",
   "execution_count": 1,
   "outputs": [],
   "source": [
    "import os"
   ],
   "metadata": {
    "collapsed": false,
    "pycharm": {
     "name": "#%%\n",
     "is_executing": false
    }
   }
  },
  {
   "cell_type": "markdown",
   "source": [
    "Στη συνέχεια θα δούμε τις κυριότερες συναρτήσεις του.\n",
    "\n",
    "## Εμφάνιση Τρέχοντος Καταλόγου\n",
    "Η συνάρτηση `getcwd()` (get current working directory) μας \n",
    "εμφανίζει τον κατάλογο στον οποίο βρισκόμαστε τώρα."
   ],
   "metadata": {
    "collapsed": false,
    "pycharm": {
     "name": "#%% md\n"
    }
   }
  },
  {
   "cell_type": "code",
   "execution_count": 2,
   "outputs": [
    {
     "data": {
      "text/plain": "'/home/aris/Documents/school/lessons/python/notebooks/ch6-files'"
     },
     "metadata": {},
     "output_type": "execute_result",
     "execution_count": 2
    }
   ],
   "source": [
    "os.getcwd()"
   ],
   "metadata": {
    "collapsed": false,
    "pycharm": {
     "name": "#%%\n",
     "is_executing": false
    }
   }
  },
  {
   "cell_type": "markdown",
   "source": [
    "## Εμφάνιση Αρχείων Καταλόγου\n",
    "Η συνάρτηση `list(path)` (list directory) μας εμφανίζει τα αρχεία \n",
    "ενός καταλόγου.\n",
    "Η παράμετρος `path` είναι η διαδρομή για τον κατάλογο που θέλουμε.\n",
    "Αν ο κατάλογος `path` δεν υπάρχει, έχουμε σφάλμα\n",
    "[FileNotFoundError](https://docs.python.org/3/library/exceptions.html#FileNotFoundError).\n",
    "\n",
    "Για να εμφανίσουμε τα αρχεία στον τρέχον κατάλογο γράφουμε:"
   ],
   "metadata": {
    "collapsed": false,
    "pycharm": {
     "name": "#%% md\n"
    }
   }
  },
  {
   "cell_type": "code",
   "execution_count": 3,
   "outputs": [
    {
     "data": {
      "text/plain": "['5-write_file.ipynb',\n 'README.md',\n '2-read_file.ipynb',\n '3-file_management.ipynb',\n '4-seek_file.ipynb',\n '1-open_close_file.ipynb',\n 'files']"
     },
     "metadata": {},
     "output_type": "execute_result",
     "execution_count": 3
    }
   ],
   "source": [
    "os.listdir('.')  # Με τελεία είναι ο τρέχον κατάλογος."
   ],
   "metadata": {
    "collapsed": false,
    "pycharm": {
     "name": "#%%\n",
     "is_executing": false
    }
   }
  },
  {
   "cell_type": "markdown",
   "source": [
    "Αν θέλουμε να εμφανίσουμε τα αρχεία ενός άλλου καταλόγου, τότε μπορούμε να \n",
    "δώσουμε τη διαδρομή του, απόλυτη ή σχετική, ως όρισμα.\n",
    "Για να δούμε τα αρχεία στον κατάλογο `files` γράφουμε:"
   ],
   "metadata": {
    "collapsed": false,
    "pycharm": {
     "name": "#%% md\n"
    }
   }
  },
  {
   "cell_type": "code",
   "execution_count": 4,
   "outputs": [
    {
     "data": {
      "text/plain": "['sun.txt', 'wind.txt']"
     },
     "metadata": {},
     "output_type": "execute_result",
     "execution_count": 4
    }
   ],
   "source": [
    "os.listdir('files/') "
   ],
   "metadata": {
    "collapsed": false,
    "pycharm": {
     "name": "#%%\n",
     "is_executing": false
    }
   }
  },
  {
   "cell_type": "markdown",
   "source": [
    "ή με χρήση της τελείας: "
   ],
   "metadata": {
    "collapsed": false,
    "pycharm": {
     "name": "#%% md\n"
    }
   }
  },
  {
   "cell_type": "code",
   "execution_count": 5,
   "outputs": [
    {
     "data": {
      "text/plain": "['sun.txt', 'wind.txt']"
     },
     "metadata": {},
     "output_type": "execute_result",
     "execution_count": 5
    }
   ],
   "source": [
    "os.listdir('./files/')"
   ],
   "metadata": {
    "collapsed": false,
    "pycharm": {
     "name": "#%%\n",
     "is_executing": false
    }
   }
  },
  {
   "cell_type": "markdown",
   "source": [
    "και για τα αρχεία του γονικού καταλόγου:"
   ],
   "metadata": {
    "collapsed": false,
    "pycharm": {
     "name": "#%% md\n"
    }
   }
  },
  {
   "cell_type": "code",
   "execution_count": 6,
   "outputs": [
    {
     "data": {
      "text/plain": "['.gitignore', 'README.md', 'ch6-files', '.idea', '.git']"
     },
     "metadata": {},
     "output_type": "execute_result",
     "execution_count": 6
    }
   ],
   "source": [
    "os.listdir('..')  # Με δύο τελείες είναι ο γονικός κατάλογος."
   ],
   "metadata": {
    "collapsed": false,
    "pycharm": {
     "name": "#%%\n",
     "is_executing": false
    }
   }
  },
  {
   "cell_type": "markdown",
   "source": [
    "Παρατηρούμε ότι με τις κλήσεις *δεν αλλάζει* ο τρέχον κατάλογος."
   ],
   "metadata": {
    "collapsed": false,
    "pycharm": {
     "name": "#%% md\n"
    }
   }
  },
  {
   "cell_type": "code",
   "execution_count": 7,
   "outputs": [
    {
     "data": {
      "text/plain": "'/home/aris/Documents/school/lessons/python/notebooks/ch6-files'"
     },
     "metadata": {},
     "output_type": "execute_result",
     "execution_count": 7
    }
   ],
   "source": [
    "os.getcwd()"
   ],
   "metadata": {
    "collapsed": false,
    "pycharm": {
     "name": "#%%\n",
     "is_executing": false
    }
   }
  },
  {
   "cell_type": "markdown",
   "source": [
    "## Αλλαγή Τρέχοντος Καταλόγου\n",
    "Για να αλλάξουμε τον τρέχον κατάλογο χρησιμοποιούμε τη συνάρτηση `chdir(path)`\n",
    "(change directory).\n",
    "Σε περίπτωση που η διαδρομή `path` δεν υπάρχει, έχουμε σφάλμα \n",
    "[FileNotFoundError](https://docs.python.org/3/library/exceptions.html#FileNotFoundError).\n",
    "\n",
    "Για να κάνουμε τον υπο-κατάλογο `files` τον τρέχων κατάλογο γράφουμε:"
   ],
   "metadata": {
    "collapsed": false
   }
  },
  {
   "cell_type": "code",
   "execution_count": 8,
   "outputs": [
    {
     "name": "stdout",
     "text": [
      "Τρέχον κατάλογος: /home/aris/Documents/school/lessons/python/notebooks/ch6-files/files\n",
      "Περιεχόμενα τρέχοντος καταλόγου: ['sun.txt', 'wind.txt']\n"
     ],
     "output_type": "stream"
    }
   ],
   "source": [
    "os.chdir('./files')\n",
    "\n",
    "# Εμφάνισε τον τρέχον κατάλογο μετά την αλλαγή.\n",
    "print('Τρέχον κατάλογος: ' + os.getcwd())  # str + str = str\n",
    "\n",
    "# Εμφάνισε τα περιεχόμενα του καταλόγου.\n",
    "print('Περιεχόμενα τρέχοντος καταλόγου: ', end='')\n",
    "print(os.listdir('.'))  # Δεν χρησιμοποιούμε το + γιατί ειναι: str + list = ?"
   ],
   "metadata": {
    "collapsed": false,
    "pycharm": {
     "name": "#%%\n",
     "is_executing": false
    }
   }
  },
  {
   "cell_type": "markdown",
   "source": [
    "## Δημιουργία Καταλόγου\n",
    "\n",
    "Για να δημιουργήσουμε έναν νέο κατάλογο, χρησιμοποιούμε τη συνάρτηση \n",
    "`mkdir(path)` (make directory).\n",
    "Αν ο κατάλογος υπάρχει ήδη, τοτε έχουμε ένα σφάλμα\n",
    "[FileExistsError](https://docs.python.org/3/library/exceptions.html#FileExistsError).\n",
    "\n",
    "Η επόμενη εντολή θα δημιουργήσει ένα κατάλογο με τον όνομα `example` στον \n",
    "τρέχον κατάλογο."
   ],
   "metadata": {
    "collapsed": false,
    "pycharm": {
     "name": "#%% md\n"
    }
   }
  },
  {
   "cell_type": "code",
   "execution_count": 11,
   "outputs": [
    {
     "name": "stdout",
     "text": [
      "Τρέχον κατάλογος: /home/aris/Documents/school/lessons/python/notebooks/ch6-files/files\n",
      "Περιεχόμενα τρέχοντος καταλόγου: ['example', 'sun.txt', 'wind.txt']\n",
      "Περιεχόμενα καταλόγου `example`: []\n"
     ],
     "output_type": "stream"
    }
   ],
   "source": [
    "os.mkdir('example')\n",
    "\n",
    "# Εμφάνισε τον τρέχον κατάλογο.\n",
    "print('Τρέχον κατάλογος: ' + os.getcwd()) \n",
    "\n",
    "# Εμφάνισε τα περιεχόμενα του καταλόγου.\n",
    "print('Περιεχόμενα τρέχοντος καταλόγου: ', end='')\n",
    "print(os.listdir('.')) \n",
    "\n",
    "# Εμφάνισε τα περιεχόμενα του καταλόγου `example`.\n",
    "print('Περιεχόμενα καταλόγου `example`: ', end='')\n",
    "print(os.listdir('example'))"
   ],
   "metadata": {
    "collapsed": false,
    "pycharm": {
     "name": "#%%\n",
     "is_executing": false
    }
   }
  },
  {
   "cell_type": "markdown",
   "source": [
    "## Διαγραφή Καταλόγου\n",
    "\n",
    "Παρόμοια με τις προηγούμενες συναρτήσεις, για τη διαγραφή ενός καταλόγου \n",
    "έχουμε τη συνάρτηση `rmdir(path)` (remove directory).\n",
    "Αν ο κατάλογος στη διαδρομή `path` δεν υπάρχει έχουμε σφάλμα\n",
    "[FileNotFoundError](https://docs.python.org/3/library/exceptions.html#FileNotFoundError)."
   ],
   "metadata": {
    "collapsed": false,
    "pycharm": {
     "name": "#%% md\n"
    }
   }
  },
  {
   "cell_type": "code",
   "execution_count": 12,
   "outputs": [
    {
     "name": "stdout",
     "text": [
      "Περιεχόμενα τρέχοντος καταλόγου: ['sun.txt', 'wind.txt']\n"
     ],
     "output_type": "stream"
    }
   ],
   "source": [
    "os.rmdir('example')\n",
    "\n",
    "# Εμφάνισε τα περιεχόμενα του καταλόγου.\n",
    "print('Περιεχόμενα τρέχοντος καταλόγου: ', end='')\n",
    "print(os.listdir('.'))\n"
   ],
   "metadata": {
    "collapsed": false,
    "pycharm": {
     "name": "#%%\n",
     "is_executing": false
    }
   }
  },
  {
   "cell_type": "markdown",
   "source": [
    "## Διαγραφή Αρχείου\n",
    "Με τη συνάρτηση `remove(path)` διαγράφουμε το αρχείο που βρίσκεται στη \n",
    "διαδρομή `path`. \n",
    "Αν η `path` δείχνει σε κατάλογο αντί για αρχείο, τότε έχουμε σφάλμα\n",
    "[IsADirectoryError](https://docs.python.org/3/library/exceptions.html#IsADirectoryError).\n",
    "Αν το αρχείο δεν υπάρχει, έχουμε σφάλμα\n",
    "[FileNotFoundError](https://docs.python.org/3/library/exceptions.html#FileNotFoundError)."
   ],
   "metadata": {
    "collapsed": false,
    "pycharm": {
     "name": "#%% md\n",
     "is_executing": false
    }
   }
  },
  {
   "cell_type": "code",
   "execution_count": 13,
   "outputs": [
    {
     "name": "stdout",
     "text": [
      "Περιεχόμενα το καταλόγου: ['temp.txt', 'sun.txt', 'wind.txt']\n",
      "Περιεχόμενα το καταλόγου: ['sun.txt', 'wind.txt']\n"
     ],
     "output_type": "stream"
    }
   ],
   "source": [
    "# Φτιάξε ένα προσωρινό αρχείο για να το διαγράφουμε.\n",
    "fp = open('temp.txt', 'w')\n",
    "fp.close()\n",
    "print('Περιεχόμενα το καταλόγου: ', end='')\n",
    "print(os.listdir('.'))\n",
    "\n",
    "# Διαγραφή του αρχείου\n",
    "os.remove('temp.txt')\n",
    "\n",
    "print('Περιεχόμενα το καταλόγου: ', end='')\n",
    "print(os.listdir('.'))"
   ],
   "metadata": {
    "collapsed": false,
    "pycharm": {
     "name": "#%%\n",
     "is_executing": false
    }
   }
  },
  {
   "cell_type": "markdown",
   "source": [
    "## Μετονομασία Αρχείου\n",
    "\n",
    "Για αλλαγή του ονόματος ενός αρχείου χρησιμοποιούμε τη συνάρτηση \n",
    "`rename(src, dst)`.\n",
    "Το όρισμα `src` είναι το τρέχον όνομα του αρχείου και το `dst` το νέο.\n",
    "Αν το `dst` υπάρχει, θα αντικατασταθεί από το `src`."
   ],
   "metadata": {
    "collapsed": false,
    "pycharm": {
     "name": "#%% md\n"
    }
   }
  },
  {
   "cell_type": "code",
   "execution_count": 14,
   "outputs": [
    {
     "name": "stdout",
     "text": [
      "Περιεχόμενα το καταλόγου: ['temp.txt', 'sun.txt', 'wind.txt']\n",
      "Περιεχόμενα το καταλόγου: ['tmp.txt', 'sun.txt', 'wind.txt']\n"
     ],
     "output_type": "stream"
    }
   ],
   "source": [
    "# Φτιάξε ένα προσωρινό αρχείο για να το διαγράφουμε.\n",
    "fp = open('temp.txt', 'w')\n",
    "fp.close()\n",
    "print('Περιεχόμενα το καταλόγου: ', end='')\n",
    "print(os.listdir('.'))\n",
    "\n",
    "# Αλλαγή του ονόματος.\n",
    "os.rename('temp.txt', 'tmp.txt')\n",
    "\n",
    "print('Περιεχόμενα το καταλόγου: ', end='')\n",
    "print(os.listdir('.'))\n",
    "\n",
    "# Διαγραφή του προσωρινού αρχείου.\n",
    "os.remove('tmp.txt')\n"
   ],
   "metadata": {
    "collapsed": false,
    "pycharm": {
     "name": "#%%\n",
     "is_executing": false
    }
   }
  },
  {
   "cell_type": "code",
   "execution_count": null,
   "outputs": [],
   "source": [
    "\n"
   ],
   "metadata": {
    "collapsed": false,
    "pycharm": {
     "name": "#%%\n"
    }
   }
  }
 ],
 "metadata": {
  "kernelspec": {
   "display_name": "Python 3",
   "language": "python",
   "name": "python3"
  },
  "language_info": {
   "codemirror_mode": {
    "name": "ipython",
    "version": 2
   },
   "file_extension": ".py",
   "mimetype": "text/x-python",
   "name": "python",
   "nbconvert_exporter": "python",
   "pygments_lexer": "ipython2",
   "version": "2.7.6"
  },
  "pycharm": {
   "stem_cell": {
    "cell_type": "raw",
    "source": [],
    "metadata": {
     "collapsed": false
    }
   }
  }
 },
 "nbformat": 4,
 "nbformat_minor": 0
}
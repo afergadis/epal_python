{
 "cells": [
  {
   "cell_type": "markdown",
   "metadata": {
    "collapsed": true,
    "pycharm": {
     "name": "#%% md\n"
    }
   },
   "source": [
    "# Διαχείριση Αρχείων\n",
    "## Άνοιγμα\n",
    "\n",
    "Ως αρχεία δεδομένων χρησιμοποιούνται συνήθως αρχεία κειμένου.\n",
    "Ένα αρχείο κειμένου είναι ένα αρχείο το οποίο περιέχει μια ακολουθία χαρακτήρων \n",
    "και βρίσκεται αποθηκευμένο σε ένα μέσο μόνιμης αποθήκευσης, όπως ο σκληρός δίσκος. \n",
    "Στα περιεχόμενα ενός τέτοιου αρχείου μπορούμε να έχουμε πρόσβαση μέσω ενός \n",
    "προγράμματος που περιέχει τις κατάλληλες εντολές της γλώσσας Python. \n",
    "Ένα αρχείο για να χρησιμοποιηθεί, πρέπει να το ανοίξουμε με την ενσωματωμένη \n",
    "συνάρτηση `open()`.\n",
    "\n",
    "Η συνάρτηση `open()` μας επιστρέφει ένα αντικείμενοτου αρχείου και μπορούμε να \n",
    "το χρησιμοποιήσουμε για να εκτελέσουμε διάφορες λειτουργίες σε αυτό. \n",
    "H συνάρτηση `open()` είναι ενσωματωμένη στην Python, δε χρειάζεται να  \n",
    "φορτώσουμε  κάποια  βιβλιοθήκη, ενώ η *απλή* σύνταξή της είναι:\n",
    "\n",
    "```python\n",
    ">>> fp = open(file, mode='r')\n",
    "```\n",
    "\n",
    "Η συνάρτηση επιστρέφει έναν *περιγραφέα αρχείου*.\n",
    "Οι επόμενες ενέργειες στο αρχείο γίνονται μέσω αυτού του περιγραφέα.\n",
    "\n",
    "### Παράδειγμα\n",
    "Ανοίγουμε το αρχείο `sun.txt` που βρίσκεται στο φάκελο `ch6-files/files' για \n",
    "ανάγνωση (mode='r') και εκτυπώνουμε τον περιγραφέα του."
   ]
  },
  {
   "cell_type": "code",
   "execution_count": 5,
   "outputs": [
    {
     "name": "stdout",
     "text": [
      "<_io.TextIOWrapper name='ch6-files/files/sun.txt' mode='r' encoding='UTF-8'>\n"
     ],
     "output_type": "stream"
    }
   ],
   "source": [
    "fp = open('ch6-files/files/sun.txt', 'r')\n",
    "print(fp)"
   ],
   "metadata": {
    "collapsed": false,
    "pycharm": {
     "name": "#%% \n",
     "is_executing": false
    }
   }
  },
  {
   "cell_type": "markdown",
   "source": [
    "Βλέπουμε ότι ο περιγραφέας του έχει το όνομα του αρχείου (name) και τον τρόπο\n",
    "προσπέλασης (mode).\n",
    "\n"
   ],
   "metadata": {
    "collapsed": false,
    "pycharm": {
     "name": "#%% md\n"
    }
   }
  }
 ],
 "metadata": {
  "kernelspec": {
   "display_name": "Python 3",
   "language": "python",
   "name": "python3"
  },
  "language_info": {
   "codemirror_mode": {
    "name": "ipython",
    "version": 2
   },
   "file_extension": ".py",
   "mimetype": "text/x-python",
   "name": "python",
   "nbconvert_exporter": "python",
   "pygments_lexer": "ipython2",
   "version": "2.7.6"
  },
  "pycharm": {
   "stem_cell": {
    "cell_type": "raw",
    "source": [],
    "metadata": {
     "collapsed": false
    }
   }
  }
 },
 "nbformat": 4,
 "nbformat_minor": 0
}
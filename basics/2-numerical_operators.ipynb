{
 "cells": [
  {
   "cell_type": "markdown",
   "metadata": {
    "collapsed": true,
    "pycharm": {
     "name": "#%% md\n"
    }
   },
   "source": [
    "Πατήστε το εικονίδιο για να γίνει το σημειωματάριο διαδραστικό:\n",
    "[![Binder](https://mybinder.org/badge_logo.svg)](https://mybinder.org/v2/gh/afergadis/epal_python/py2?filepath=basics%2F2-numerical_operators.ipynb)\n",
    "\n",
    "# Αριθμητικοί Τελεστές\n",
    "\n",
    "Οι αριθμητικοί τελεστές είναι τα σύμβολα που χρησιμοποιούμε για να κάνουμε\n",
    "μαθηματικές πράξεις. Στη γλώσσα Python χρησιμοποιούμε τους παρακάτω βασικούς\n",
    "αριθμητικούς τελεστές:\n",
    "\n",
    "| Πράξη                       | Τελεστής |\n",
    "|-----------------------------|:--------:|\n",
    "| Πρόσθεση                    |     +    |\n",
    "| Αφαίρεση                    |     -    |\n",
    "| Πολλαπλασιαμός              |     *    |\n",
    "| Διαίρεση                    |     /    |\n",
    "| Ύψωση σε δύναμη             |    **    |\n",
    "| Υπόλοιπο ακέραιας διαίρεσης |     %    |"
   ]
  },
  {
   "cell_type": "code",
   "execution_count": 2,
   "outputs": [
    {
     "data": {
      "text/plain": "4"
     },
     "execution_count": 2,
     "metadata": {},
     "output_type": "execute_result"
    }
   ],
   "source": [
    "-2 + 3"
   ],
   "metadata": {
    "collapsed": false,
    "pycharm": {
     "name": "#%%\n"
    }
   }
  },
  {
   "cell_type": "markdown",
   "source": [
    "Σε κάθε έκφραση στην οποία υπάρχουν αριθμητικοί τελεστές ακολουθείται μια\n",
    "προσδιορισμένη *ιεραρχία πράξεων*, που είναι:\n",
    "\n",
    "1. Ύψωση σε δύναμη.\n",
    "1. Πολλαπλασιασμός, διαίρεση, υπόλοιπο ακέραιας διαίρεσης.\n",
    "1. Πρόσθεση, αφαίρεση\n",
    "\n",
    "**Σημαντικό:** Αν θέλουμε να αλλάξουμε την ιεραρχία των πράξεων, μπορούμε να\n",
    "χρησιμοποιήσουμε παρενθέσεις.\n",
    "\n",
    "Για παράδειγμα, στην έκφραση `(2+3)*5` θα εκτελεστεί πρώτα η πρόσθεση μέσα στην\n",
    "παρένθεση και μετά, το αποτέλεσμα θα πολλαπλασιαστεί επί 5"
   ],
   "metadata": {
    "collapsed": false,
    "pycharm": {
     "name": "#%% md\n"
    }
   }
  },
  {
   "cell_type": "code",
   "execution_count": 3,
   "outputs": [
    {
     "data": {
      "text/plain": "25"
     },
     "execution_count": 3,
     "metadata": {},
     "output_type": "execute_result"
    }
   ],
   "source": [
    "(2 + 3) * 5"
   ],
   "metadata": {
    "collapsed": false,
    "pycharm": {
     "name": "#%%\n"
    }
   }
  },
  {
   "cell_type": "markdown",
   "source": [
    "Σε αντίθεση με την έκφραση `2+3*5` στην οποία, πρώτα θα γίνει ο πολλαπλασιασμός\n",
    "και μετά η πρόσθεση."
   ],
   "metadata": {
    "collapsed": false,
    "pycharm": {
     "name": "#%% md\n"
    }
   }
  },
  {
   "cell_type": "code",
   "execution_count": 4,
   "outputs": [
    {
     "data": {
      "text/plain": "17"
     },
     "execution_count": 4,
     "metadata": {},
     "output_type": "execute_result"
    }
   ],
   "source": [
    "2 + 3 * 5"
   ],
   "metadata": {
    "collapsed": false,
    "pycharm": {
     "name": "#%%\n"
    }
   }
  },
  {
   "cell_type": "markdown",
   "source": [
    "# Μετατροπή Μαθηματικών Εκφράσεων"
   ],
   "metadata": {
    "collapsed": false,
    "pycharm": {
     "name": "#%% md\n"
    }
   }
  }
 ],
 "metadata": {
  "kernelspec": {
   "display_name": "Python 2",
   "language": "python",
   "name": "python2"
  },
  "language_info": {
   "codemirror_mode": {
    "name": "ipython",
    "version": 2
   },
   "file_extension": ".py",
   "mimetype": "text/x-python",
   "name": "python",
   "nbconvert_exporter": "python",
   "pygments_lexer": "ipython2",
   "version": "2.7.6"
  },
  "pycharm": {
   "stem_cell": {
    "cell_type": "raw",
    "source": [
     "# coding=utf-8#\n"
    ],
    "metadata": {
     "collapsed": false
    }
   }
  }
 },
 "nbformat": 4,
 "nbformat_minor": 0
}
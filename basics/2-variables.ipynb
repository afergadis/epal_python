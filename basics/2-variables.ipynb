{
 "cells": [
  {
   "cell_type": "code",
   "execution_count": 1,
   "metadata": {
    "collapsed": true
   },
   "outputs": [
    {
     "name": "stdout",
     "output_type": "stream",
     "text": [
      "bytearray\n",
      "IndexError\n",
      "all\n",
      "help\n",
      "vars\n",
      "SyntaxError\n",
      "unicode\n",
      "UnicodeDecodeError\n",
      "memoryview\n",
      "isinstance\n",
      "copyright\n",
      "NameError\n",
      "BytesWarning\n",
      "dict\n",
      "input\n",
      "oct\n",
      "bin\n",
      "SystemExit\n",
      "StandardError\n",
      "format\n",
      "repr\n",
      "sorted\n",
      "False\n",
      "RuntimeWarning\n",
      "list\n",
      "iter\n",
      "reload\n",
      "Warning\n",
      "__package__\n",
      "round\n",
      "dir\n",
      "cmp\n",
      "set\n",
      "bytes\n",
      "reduce\n",
      "intern\n",
      "issubclass\n",
      "Ellipsis\n",
      "EOFError\n",
      "locals\n",
      "BufferError\n",
      "slice\n",
      "FloatingPointError\n",
      "sum\n",
      "getattr\n",
      "abs\n",
      "print\n",
      "True\n",
      "FutureWarning\n",
      "ImportWarning\n",
      "None\n",
      "hash\n",
      "ReferenceError\n",
      "len\n",
      "credits\n",
      "frozenset\n",
      "__name__\n",
      "ord\n",
      "super\n",
      "TypeError\n",
      "license\n",
      "KeyboardInterrupt\n",
      "UserWarning\n",
      "filter\n",
      "range\n",
      "staticmethod\n",
      "SystemError\n",
      "BaseException\n",
      "pow\n",
      "RuntimeError\n",
      "float\n",
      "MemoryError\n",
      "StopIteration\n",
      "globals\n",
      "divmod\n",
      "enumerate\n",
      "apply\n",
      "LookupError\n",
      "open\n",
      "basestring\n",
      "UnicodeError\n",
      "zip\n",
      "hex\n",
      "long\n",
      "next\n",
      "ImportError\n",
      "chr\n",
      "xrange\n",
      "type\n",
      "__doc__\n",
      "Exception\n",
      "__IPYTHON__\n",
      "tuple\n",
      "UnicodeTranslateError\n",
      "reversed\n",
      "UnicodeEncodeError\n",
      "IOError\n",
      "hasattr\n",
      "delattr\n",
      "setattr\n",
      "raw_input\n",
      "SyntaxWarning\n",
      "compile\n",
      "ArithmeticError\n",
      "str\n",
      "property\n",
      "dreload\n",
      "display\n",
      "GeneratorExit\n",
      "int\n",
      "__import__\n",
      "KeyError\n",
      "coerce\n",
      "PendingDeprecationWarning\n",
      "file\n",
      "EnvironmentError\n",
      "unichr\n",
      "id\n",
      "OSError\n",
      "DeprecationWarning\n",
      "min\n",
      "UnicodeWarning\n",
      "execfile\n",
      "any\n",
      "complex\n",
      "bool\n",
      "get_ipython\n",
      "ValueError\n",
      "NotImplemented\n",
      "map\n",
      "buffer\n",
      "max\n",
      "object\n",
      "TabError\n",
      "callable\n",
      "ZeroDivisionError\n",
      "eval\n",
      "__debug__\n",
      "IndentationError\n",
      "AssertionError\n",
      "classmethod\n",
      "UnboundLocalError\n",
      "NotImplementedError\n",
      "AttributeError\n",
      "OverflowError\n"
     ]
    }
   ],
   "source": [
    "for e in __builtins__.__dict__:\n",
    "    print(e)"
   ]
  },
  {
   "cell_type": "markdown",
   "source": [
    "## Εκχώρηση και Εμφάνισης Τιμής\n",
    "\n",
    "Για να εκχωρήσουμε μια τιμή σε μεταβλητή χρησιμοποιούμε το σύμβολο `=`.\n",
    "**Προσοχή!** Το σύμβολο αυτό δε είναι το ίδιο με το σύμβολο της ισότητας που\n",
    "χρησιμοποιούμε στα μαθηματικά. To `=` σημαίνει ότι δίνουμε στη μεταβλητή μια\n",
    "τιμή ενός τύπου δεδομένων που είναι αποθηκευμένη σε μιαθέση μνήμης. Η μεταβλητή\n",
    "λειτουργεί ως αναφορά στην τιμή αυτή.\n",
    "\n",
    "Αν θέλουμε να εμφανίσουμε την τιμή της μεταβλητής, τότε μπορούμε να\n",
    "χρησιμοποιήσουμε την εντολή print μαζί με το όνομα της μεταβλητής."
   ],
   "metadata": {
    "collapsed": false,
    "pycharm": {
     "name": "#%% md\n"
    }
   }
  },
  {
   "cell_type": "code",
   "execution_count": 2,
   "outputs": [
    {
     "name": "stdout",
     "output_type": "stream",
     "text": [
      "10\n"
     ]
    }
   ],
   "source": [
    "x = 10  # Εκχωρεί την τιμή 10 (ακέραια τιμή) στη μεταβλητή με όνομα x.\n",
    "print x"
   ],
   "metadata": {
    "collapsed": false,
    "pycharm": {
     "name": "#%%\n"
    }
   }
  },
  {
   "cell_type": "code",
   "execution_count": 3,
   "outputs": [
    {
     "name": "stdout",
     "output_type": "stream",
     "text": [
      "GAME OVER!\n"
     ]
    }
   ],
   "source": [
    "message = \"GAME OVER!\"\n",
    "print message"
   ],
   "metadata": {
    "collapsed": false,
    "pycharm": {
     "name": "#%%\n"
    }
   }
  },
  {
   "cell_type": "markdown",
   "source": [
    "### Πολλαπλή Εκχώρηση Τιμής\n",
    "\n",
    "Μπορούμε να χρησιμοποιήσουμε διαδοχικά ονόματα μεταβλητών όπου η μία ισούτε με\n",
    "την επόμενη και στο τέλος να δώσουμε μία τιμή. Σε αυτή την περίπτωση, όλες οι\n",
    "μεταβλητές θα πάρουν την ίδια τιμή."
   ],
   "metadata": {
    "collapsed": false,
    "pycharm": {
     "name": "#%% md\n"
    }
   }
  },
  {
   "cell_type": "code",
   "execution_count": 4,
   "outputs": [
    {
     "name": "stdout",
     "output_type": "stream",
     "text": [
      "a = 4\n",
      "b = 4\n",
      "c = 4\n",
      "d = 4\n"
     ]
    }
   ],
   "source": [
    "a = b = c = d = 4  # Αλυσιδωτή εκχώριση τιμής.\n",
    "print 'a =', a\n",
    "print 'b =', b\n",
    "print 'c =', c\n",
    "print 'd =', d"
   ],
   "metadata": {
    "collapsed": false,
    "pycharm": {
     "name": "#%%\n"
    }
   }
  },
  {
   "cell_type": "markdown",
   "source": [
    "### Εκχώρηση σε Πολλές Μεταβλητές στην Ίδια Γραμμή\n",
    "\n",
    "Στην Python υπάρχει ένας ιδιωματισμός με τον οποίο στην ίδια γραμμή κώδικα\n",
    "μπορούμε να δώσουμε σε διαφορετικές μεταβλητές διαφορετικές τιμές."
   ],
   "metadata": {
    "collapsed": false,
    "pycharm": {
     "name": "#%% md\n"
    }
   }
  },
  {
   "cell_type": "code",
   "execution_count": 5,
   "outputs": [
    {
     "name": "stdout",
     "output_type": "stream",
     "text": [
      "x = -1\n",
      "y = 4\n"
     ]
    }
   ],
   "source": [
    "x, y = -1, 4  # Για παράδειγμα οι συντεταγμένες ενός σημείου (x, y).\n",
    "print 'x =', x\n",
    "print 'y =', y"
   ],
   "metadata": {
    "collapsed": false,
    "pycharm": {
     "name": "#%%\n"
    }
   }
  },
  {
   "cell_type": "code",
   "execution_count": 6,
   "outputs": [
    {
     "name": "stdout",
     "output_type": "stream",
     "text": [
      "Welcome: Καλωσήρθες\n",
      "Goodbye: Αντίο\n"
     ]
    }
   ],
   "source": [
    "welcome, goodbye = 'Καλωσήρθες', 'Αντίο'\n",
    "print 'Welcome:', welcome\n",
    "print 'Goodbye:', goodbye"
   ],
   "metadata": {
    "collapsed": false,
    "pycharm": {
     "name": "#%%\n"
    }
   }
  },
  {
   "cell_type": "code",
   "execution_count": 7,
   "outputs": [
    {
     "name": "stdout",
     "output_type": "stream",
     "text": [
      "Name  : Adam\n",
      "Age   : 23\n",
      "Weight: 73.7 kg\n",
      "Man   : True\n"
     ]
    }
   ],
   "source": [
    "# Οι μεταβλητές μπορούν να είναι και διαφορετικού τύπου.\n",
    "name, age, weight, man = 'Adam', 23, 73.7, True\n",
    "print 'Name  :', name\n",
    "print 'Age   :', age\n",
    "print 'Weight:', weight, 'kg'\n",
    "print 'Man   :', man"
   ],
   "metadata": {
    "collapsed": false,
    "pycharm": {
     "name": "#%%\n"
    }
   }
  }
 ],
 "metadata": {
  "kernelspec": {
   "display_name": "Python 2",
   "language": "python",
   "name": "python2"
  },
  "language_info": {
   "codemirror_mode": {
    "name": "ipython",
    "version": 2
   },
   "file_extension": ".py",
   "mimetype": "text/x-python",
   "name": "python",
   "nbconvert_exporter": "python",
   "pygments_lexer": "ipython2",
   "version": "2.7.6"
  },
  "pycharm": {
   "stem_cell": {
    "cell_type": "raw",
    "source": [
     "# coding=utf-8#\n",
     "\n",
     "%% md\n",
     "# Μεταβλητές\n",
     "\n",
     "Αρκετές φορές, σε ένα πρόγραμμα απαιτείται να αποθηκεύσουμε προσωρινά κάποια\n",
     "δεδομένα στη μνήμη του υπολογιστή. Για το σκοπό αυτό χρησιμοποιούμε τις\n",
     "**μεταβλητές**.\n",
     "\n",
     "## Κανόνες Ονοματοδοσίας\n",
     "\n",
     "Τα ονόματα των μεταβλητών πρέπει να πληρούν ένα σύνολο από κανόνες.\n",
     "Συγκεκριμένα:\n",
     "\n",
     "1. Χρησιμοποιούμε λατινικούς χαρακτήρες.\n",
     "1. Ξεκινάμε πάντα με γράμμα ή με τον χαρακτήρα underscore (`_`).\n",
     " **Σημείωση**: Καλό είναι να το αποφεύγουμε διότι κατά σύμβαση έτσι δηλώνουμε τις\n",
     " \"ιδιωτικές\" μεταβλητές, κάτι το οποίο είναι εκτός της ύλης μας.\n",
     "1. Όταν χρησιμοποιούμε αριθμούς, τότε αυτοί μπορεί να είναι σε οποιαδήποτε θέση\n",
     "*εκτός* από την αρχή.\n",
     "1. Δεν μπορούμε να χρησιμοποιήσουμε το κενό.\n",
     "1. Δεν μπορούμε να χρησιμοποιήσουμε σύμβολα όπως `!@#$%^` κ.λπ. (εξαίρεση ο\n",
     "underscore).\n",
     "\n",
     "Παραδείγματα αποδεκτών ονομάτων μεταβλητών: `x`, `a`, `embado`, `game_over`,\n",
     "`e0`, `p3199`.\n",
     "\n",
     "Παραδείγματα μη αποδεκτών ονομάτων μεταβλητών:\n",
     "\n",
     "* `1x` (ξεκινάει με αριθμό)\n",
     "* `game over` (έχει κενό)\n",
     "* `x#` (περιέχει σύμβολο)\n",
     "\n",
     "\n",
     "Μπορούμε αλλά **ΔΕΝ** πρέπει να δώσουμε ως όνομα μεταβλητής όνομα ενσωματωμένης\n",
     "συνάρτησης της Python. Ο λόγος είναι ότι αν το κάνουμε μετά *δεν* θα μπορούμε\n",
     "να χρησιμοποιήσουμε την εντολή ή τη συνάρτηση.\n",
     "\n",
     "Οι εντολές και οι συναρτήσεις της Python είναι οι εξής:"
    ],
    "metadata": {
     "collapsed": false
    }
   }
  }
 },
 "nbformat": 4,
 "nbformat_minor": 0
}
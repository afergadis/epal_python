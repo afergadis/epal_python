{
 "cells": [
  {
   "cell_type": "markdown",
   "metadata": {
    "collapsed": true,
    "pycharm": {
     "name": "#%% md\n"
    }
   },
   "source": [
    "Πατήστε το εικονίδιο για να γίνει το σημειωματάριο διαδραστικό:\n",
    "[![Binder](https://mybinder.org/badge_logo.svg)](https://mybinder.org/v2/gh/afergadis/epal_python/py2?filepath=basics%2F1-data_types.ipynb)\n",
    "\n",
    "# Τύποι Δεδομένων\n",
    "\n",
    "Οι τύποι δεδομένων προσδιορίζουν τον τρόπο παράστασης των δεδομένων εσωτερικά\n",
    "στον υπολογιστή καθώς και το είδος της επεξεργασίας τους από τον υπολογιστή.\n",
    "Στην Python *δε δηλώνουμε* ρητά τι τύπο δεδομένων χρησιμοποιούμε.\n",
    "\n",
    "Στην Python χαρακτηριστικοί τύποι δεδομένων είναι\n",
    "\n",
    "* **οι αριθμοί**, που είναι τριών τύπων:\n",
    " 1. **ακέραιοι** (integers ή int),\n",
    " 1. **δεκαδικοί** (ή κινητής υποδιαστολής) (float),\n",
    " 1. **μιγαδικοί** (complex) -- εκτός ύλης!\n",
    "* **οι λογικοί** (booleans ή bool), και\n",
    "* **οι συμβολοσειρές** (ή αλφαριθμητικά strings)\n",
    "\n",
    "Για να ελέγξουμε τον τύπο δεδομένωνχρησιμοποιούμε την εντολή `type()` η οποία\n",
    "είναι *ενσωματωμένη συνάρτηση* της Python.\n",
    "\n",
    "## Αριθμοί\n",
    "### Ακέραιοι\n",
    "\n",
    "**Παράδειγμα:** Δοκιμάστε στο παρακάτω κελί τιμές όπως `20`, `-5`, `0`. Θα δείτε\n",
    "ότι η απάντηση (το αποτέλεσμα) θα είναι `int`."
   ]
  },
  {
   "cell_type": "code",
   "execution_count": 1,
   "outputs": [
    {
     "data": {
      "text/plain": "int"
     },
     "execution_count": 1,
     "metadata": {},
     "output_type": "execute_result"
    }
   ],
   "source": [
    "type(-20)"
   ],
   "metadata": {
    "collapsed": false,
    "pycharm": {
     "name": "#%%\n"
    }
   }
  },
  {
   "cell_type": "markdown",
   "source": [
    "### Δεκαδικοί\n",
    "Δεκαδικοί είναι οι αριθμοί που έχουν *υποδιαστολή*, δηλαδή, της μορφής `X.Y`\n",
    "όπου `Χ` και `Y` *οποιοσδήποτε* αριθμός.\n",
    "\n",
    "**Παράδειγμα:** Δοκιμάστε στο παρακάτω κελί τιμές όπως `20.2`, `-5.7`,\n",
    "`3.1415`, `9.0`, `-4.0`. Το αποτέλεσμα θα είναι `float`."
   ],
   "metadata": {
    "collapsed": false,
    "pycharm": {
     "name": "#%% md\n"
    }
   }
  },
  {
   "cell_type": "code",
   "execution_count": 2,
   "outputs": [
    {
     "data": {
      "text/plain": "float"
     },
     "execution_count": 2,
     "metadata": {},
     "output_type": "execute_result"
    }
   ],
   "source": [
    "type(-20.2)"
   ],
   "metadata": {
    "collapsed": false,
    "pycharm": {
     "name": "#%%\n"
    }
   }
  },
  {
   "cell_type": "markdown",
   "source": [
    "Δεκαδικοί είναι επίσης οι αριθμόι με `E`. Ο αριθμός που ακολουθεί το `E`\n",
    "\"μεταφράζεται\" σε δύναμη του 10.\n",
    "\n",
    "**Παραδείγματα:**\n",
    "\n",
    "  * `2E-2` ισούτε με $2 \\cdot 10^{-2} = \\frac{2}{100} =0.02$\n",
    "  * `2E2` ισούτε με $2 \\cdot 10^{2} = 2 \\cdot 100 = 200.0$\n",
    "  * `0.02Ε2` ισούτε με $0.02 \\cdot 10^2 =2.0$"
   ],
   "metadata": {
    "collapsed": false,
    "pycharm": {
     "name": "#%% md\n"
    }
   }
  },
  {
   "cell_type": "code",
   "execution_count": 3,
   "outputs": [
    {
     "data": {
      "text/plain": "float"
     },
     "execution_count": 3,
     "metadata": {},
     "output_type": "execute_result"
    }
   ],
   "source": [
    "type(2E-2)"
   ],
   "metadata": {
    "collapsed": false,
    "pycharm": {
     "name": "#%%\n"
    }
   }
  },
  {
   "cell_type": "markdown",
   "source": [
    "## Λογικοί\n",
    "Ο λογικός τύπος (boolean) έχει μόνο δύο τιμές, την τιμή True (Αληθής) και τη\n",
    "τιμή False (Ψευδής) και έχει σκοπό την καταγραφή του αποτελέσματος ενός ελέγχου."
   ],
   "metadata": {
    "collapsed": false
   }
  },
  {
   "cell_type": "code",
   "execution_count": 4,
   "outputs": [
    {
     "data": {
      "text/plain": "bool"
     },
     "execution_count": 4,
     "metadata": {},
     "output_type": "execute_result"
    }
   ],
   "source": [
    "type(True)"
   ],
   "metadata": {
    "collapsed": false,
    "pycharm": {
     "name": "#%%\n"
    }
   }
  },
  {
   "cell_type": "markdown",
   "source": [
    "## Συμβολοσειρές\n",
    "\n",
    "Οι συμβολοσειρές είναι μια ακολουθία από χαρακτήρες. Μια συμβολοσειρά μπορεί να\n",
    "αποτελείται από περισσότερες από μία λέξεις. Οι λέξεις μπορούν να είναι σε κάθε\n",
    "γλώσσα που υποστηρίζεται από το πρότυπο Unicode, άρα σε ελληνική, αγγλική κ.ο.κ.\n",
    "Μπορούμε να ορίσουμε μια συμβολοσειρά με μονά εισαγωγικά ή με διπλά, αλλά όχι\n",
    "ανάμικτα. Με ότι ξεκινάμε,θα πρέπει πάλι να κλείνουμε.\n",
    "\n",
    "**Παράδειγμα:** `\"221051445\"` ή `'Καλημέρα'`.\n"
   ],
   "metadata": {
    "collapsed": false,
    "pycharm": {
     "name": "#%% md\n"
    }
   }
  },
  {
   "cell_type": "code",
   "execution_count": 5,
   "outputs": [
    {
     "data": {
      "text/plain": "str"
     },
     "execution_count": 5,
     "metadata": {},
     "output_type": "execute_result"
    }
   ],
   "source": [
    "type('Python')"
   ],
   "metadata": {
    "collapsed": false,
    "pycharm": {
     "name": "#%%\n"
    }
   }
  }
 ],
 "metadata": {
  "kernelspec": {
   "display_name": "Python 2",
   "language": "python",
   "name": "python2"
  },
  "language_info": {
   "codemirror_mode": {
    "name": "ipython",
    "version": 2
   },
   "file_extension": ".py",
   "mimetype": "text/x-python",
   "name": "python",
   "nbconvert_exporter": "python",
   "pygments_lexer": "ipython2",
   "version": "2.7.6"
  }
 },
 "nbformat": 4,
 "nbformat_minor": 0
}